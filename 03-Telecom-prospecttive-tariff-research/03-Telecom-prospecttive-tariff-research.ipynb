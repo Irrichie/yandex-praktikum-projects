{
 "cells": [
  {
   "cell_type": "markdown",
   "metadata": {},
   "source": [
    "# Определение перспективного тарифа для телеком компании\n",
    "\n",
    "**Цель исследования:**\n",
    "Компания «Мегалайн» — федеральный оператор сотовой связи- предлагает клиентам два тарифных плана: «Смарт» и «Ультра». Чтобы скорректировать рекламный бюджет, нужно выяснить, какой тариф приносит больше денег.\n",
    "Необходимо сделать предварительный анализ тарифов на небольшой выборке клиентов.  Нужно проанализировать поведение клиентов и сделать вывод — какой тариф лучше.\n",
    "\n",
    "**Исходные данные:** \n",
    "\n",
    "Данные 500 пользователей «Мегалайна»: кто они, откуда, каким тарифом пользуются, сколько звонков и сообщений каждый отправил за 2018 год.\n",
    "\n",
    "**Задачи:** \n",
    "\n",
    "- Обработка дубликатов, пропусков, ошибок в данных.\n",
    "- Объединение таблиц.\n",
    "- Расчет помесячной выручки.\n",
    "- Анализ использования тарифов и показателей выручки.\n",
    "- Проведение статистических тестов на равенство средней выручки."
   ]
  },
  {
   "cell_type": "markdown",
   "metadata": {},
   "source": [
    "## Обзор данных"
   ]
  },
  {
   "cell_type": "markdown",
   "metadata": {},
   "source": [
    "### Описание тарифов\n",
    "\n",
    "***Тариф «Смарт»***\n",
    "* Ежемесячная плата: 550 рублей\n",
    "* Включено 500 минут разговора, 50 сообщений и 15 Гб интернет-трафика\n",
    "* Стоимость услуг сверх тарифного пакета:\n",
    "* минута разговора: 3 рубля\n",
    "* сообщение: 3 рубля\n",
    "* 1 Гб интернет-трафика: 200 рублей\n",
    "\n",
    "***Тариф «Ультра»***\n",
    "* Ежемесячная плата: 1950 рублей\n",
    "* Включено 3000 минут разговора, 1000 сообщений и 30 Гб интернет-трафика\n",
    "* Стоимость услуг сверх тарифного пакета:\n",
    "* минута разговора: 1 рубль\n",
    "* сообщение: 1 рубль\n",
    "* 1 Гб интернет-трафика: 150 рублей"
   ]
  },
  {
   "cell_type": "markdown",
   "metadata": {},
   "source": [
    "### Описание данных\n",
    "\n",
    "***Таблица users (информация о пользователях):***\n",
    "\n",
    "* user_id — уникальный идентификатор пользователя\n",
    "* first_name — имя пользователя\n",
    "* last_name — фамилия пользователя\n",
    "* age — возраст пользователя (годы)\n",
    "* reg_date — дата подключения тарифа (день, месяц, год)\n",
    "* churn_date — дата прекращения пользования тарифом (если значение пропущено, то тариф ещё действовал на момент выгрузки данных)\n",
    "* city — город проживания пользователя\n",
    "* tariff — название тарифного плана\n",
    "\n",
    "***Таблица calls (информация о звонках):***\n",
    "\n",
    "* id — уникальный номер звонка\n",
    "* call_date — дата звонка\n",
    "* duration — длительность звонка в минутах\n",
    "* user_id — идентификатор пользователя, сделавшего звонок\n",
    "\n",
    "***Таблица messages (информация о сообщениях):***\n",
    "\n",
    "* id — уникальный номер сообщения\n",
    "* message_date — дата сообщения\n",
    "* user_id — идентификатор пользователя, отправившего сообщение\n",
    "\n",
    "***Таблица internet (информация об интернет-сессиях):***\n",
    "\n",
    "* id — уникальный номер сессии\n",
    "* mb_used — объём потраченного за сессию интернет-трафика (в мегабайтах)\n",
    "* session_date — дата интернет-сессии\n",
    "* user_id — идентификатор пользователя\n",
    "\n",
    "***Таблица tariffs (информация о тарифах):***\n",
    "\n",
    "* tariff_name — название тарифа\n",
    "* rub_monthly_fee — ежемесячная абонентская плата в рублях\n",
    "* minutes_included — количество минут разговора в месяц, включённых в абонентскую плату\n",
    "* messages_included — количество сообщений в месяц, включённых в абонентскую плату\n",
    "* mb_per_month_included — объём интернет-трафика, включённого в абонентскую плату (в мегабайтах)\n",
    "* rub_per_minute — стоимость минуты разговора сверх тарифного пакета (например, если в тарифе 100 минут разговора в месяц, то со 101 минуты будет взиматься плата)\n",
    "* rub_per_message — стоимость отправки сообщения сверх тарифного пакета\n",
    "* rub_per_gb — стоимость дополнительного гигабайта интернет-трафика сверх тарифного пакета (1 гигабайт = 1024 мегабайта)"
   ]
  },
  {
   "cell_type": "code",
   "execution_count": 1,
   "metadata": {},
   "outputs": [
    {
     "data": {
      "application/javascript": [
       "IPython.OutputArea.prototype._should_scroll = function(lines) {\n",
       "    return false;\n",
       "}\n"
      ],
      "text/plain": [
       "<IPython.core.display.Javascript object>"
      ]
     },
     "metadata": {},
     "output_type": "display_data"
    }
   ],
   "source": [
    "%%javascript #отключить автоматическую прокрутку\n",
    "IPython.OutputArea.prototype._should_scroll = function(lines) {\n",
    "    return false;\n",
    "}"
   ]
  },
  {
   "cell_type": "code",
   "execution_count": 2,
   "metadata": {},
   "outputs": [],
   "source": [
    "#установка и импорт библотек\n",
    "import pandas as pd\n",
    "from IPython.display import display\n",
    "import numpy as np\n",
    "import matplotlib.pyplot as plt\n",
    "import seaborn as sns\n",
    "from scipy import stats as st\n",
    "import warnings\n",
    "warnings.filterwarnings('ignore') #отключить предупреждения\n",
    "pd.set_option('display.max_colwidth', -1) #задать максимальную ширину столбцов"
   ]
  },
  {
   "cell_type": "code",
   "execution_count": 3,
   "metadata": {},
   "outputs": [],
   "source": [
    "def display_datainfo(path, sep):\n",
    "    \"\"\"функция для вывода датасета, описания, подсчета значений в столбцах\n",
    "    \n",
    "    принимает на вход путь к файлу path и разделитель sep\"\"\"\n",
    "    \n",
    "    try:\n",
    "        df = pd.read_csv(path, sep)\n",
    "    except:\n",
    "        df = pd.read_csv('/datasets/'+path, sep)\n",
    "    print('\\033[1m'+'Первые 5 строк данных'+'\\033[0m')\n",
    "    display(df.head())\n",
    "    print('_'*50)\n",
    "    print('\\033[1m'+\"Типы и размер данных\"+'\\033[0m')\n",
    "    display(df.info())\n",
    "    print('_'*50)\n",
    "    print('\\033[1m'+\"Статистика\"+'\\033[0m')\n",
    "    display(df.describe())\n",
    "    print('_'*50)\n",
    "    print('\\033[1m'+ 'Всего пропусков:'+'\\033[0m')\n",
    "    display(df.isna().sum())\n",
    "    print('_'*50)\n",
    "    print('\\033[1m'+f'Полные дубликаты:{df.duplicated().sum()}'+'\\033[0m')\n",
    "    print('_'*50)\n",
    "    print('\\033[1m'+'Значения столбцов:'+'\\033[0m')\n",
    "    print(' ')\n",
    "    for col in df.columns:\n",
    "        print('\\033[1m'+str(col)+'\\033[0m')\n",
    "        print(df[col].value_counts())\n",
    "        print('_'*50)\n",
    "        print('')\n",
    "    return df"
   ]
  },
  {
   "cell_type": "markdown",
   "metadata": {},
   "source": [
    "### Таблица \"Звонки\""
   ]
  },
  {
   "cell_type": "code",
   "execution_count": 4,
   "metadata": {
    "scrolled": true
   },
   "outputs": [
    {
     "name": "stdout",
     "output_type": "stream",
     "text": [
      "\u001b[1mПервые 5 строк данных\u001b[0m\n"
     ]
    },
    {
     "data": {
      "text/html": [
       "<div>\n",
       "<style scoped>\n",
       "    .dataframe tbody tr th:only-of-type {\n",
       "        vertical-align: middle;\n",
       "    }\n",
       "\n",
       "    .dataframe tbody tr th {\n",
       "        vertical-align: top;\n",
       "    }\n",
       "\n",
       "    .dataframe thead th {\n",
       "        text-align: right;\n",
       "    }\n",
       "</style>\n",
       "<table border=\"1\" class=\"dataframe\">\n",
       "  <thead>\n",
       "    <tr style=\"text-align: right;\">\n",
       "      <th></th>\n",
       "      <th>id</th>\n",
       "      <th>call_date</th>\n",
       "      <th>duration</th>\n",
       "      <th>user_id</th>\n",
       "    </tr>\n",
       "  </thead>\n",
       "  <tbody>\n",
       "    <tr>\n",
       "      <th>0</th>\n",
       "      <td>1000_0</td>\n",
       "      <td>2018-07-25</td>\n",
       "      <td>0.00</td>\n",
       "      <td>1000</td>\n",
       "    </tr>\n",
       "    <tr>\n",
       "      <th>1</th>\n",
       "      <td>1000_1</td>\n",
       "      <td>2018-08-17</td>\n",
       "      <td>0.00</td>\n",
       "      <td>1000</td>\n",
       "    </tr>\n",
       "    <tr>\n",
       "      <th>2</th>\n",
       "      <td>1000_2</td>\n",
       "      <td>2018-06-11</td>\n",
       "      <td>2.85</td>\n",
       "      <td>1000</td>\n",
       "    </tr>\n",
       "    <tr>\n",
       "      <th>3</th>\n",
       "      <td>1000_3</td>\n",
       "      <td>2018-09-21</td>\n",
       "      <td>13.80</td>\n",
       "      <td>1000</td>\n",
       "    </tr>\n",
       "    <tr>\n",
       "      <th>4</th>\n",
       "      <td>1000_4</td>\n",
       "      <td>2018-12-15</td>\n",
       "      <td>5.18</td>\n",
       "      <td>1000</td>\n",
       "    </tr>\n",
       "  </tbody>\n",
       "</table>\n",
       "</div>"
      ],
      "text/plain": [
       "       id   call_date  duration  user_id\n",
       "0  1000_0  2018-07-25  0.00      1000   \n",
       "1  1000_1  2018-08-17  0.00      1000   \n",
       "2  1000_2  2018-06-11  2.85      1000   \n",
       "3  1000_3  2018-09-21  13.80     1000   \n",
       "4  1000_4  2018-12-15  5.18      1000   "
      ]
     },
     "metadata": {},
     "output_type": "display_data"
    },
    {
     "name": "stdout",
     "output_type": "stream",
     "text": [
      "__________________________________________________\n",
      "\u001b[1mТипы и размер данных\u001b[0m\n",
      "<class 'pandas.core.frame.DataFrame'>\n",
      "RangeIndex: 202607 entries, 0 to 202606\n",
      "Data columns (total 4 columns):\n",
      " #   Column     Non-Null Count   Dtype  \n",
      "---  ------     --------------   -----  \n",
      " 0   id         202607 non-null  object \n",
      " 1   call_date  202607 non-null  object \n",
      " 2   duration   202607 non-null  float64\n",
      " 3   user_id    202607 non-null  int64  \n",
      "dtypes: float64(1), int64(1), object(2)\n",
      "memory usage: 6.2+ MB\n"
     ]
    },
    {
     "data": {
      "text/plain": [
       "None"
      ]
     },
     "metadata": {},
     "output_type": "display_data"
    },
    {
     "name": "stdout",
     "output_type": "stream",
     "text": [
      "__________________________________________________\n",
      "\u001b[1mСтатистика\u001b[0m\n"
     ]
    },
    {
     "data": {
      "text/html": [
       "<div>\n",
       "<style scoped>\n",
       "    .dataframe tbody tr th:only-of-type {\n",
       "        vertical-align: middle;\n",
       "    }\n",
       "\n",
       "    .dataframe tbody tr th {\n",
       "        vertical-align: top;\n",
       "    }\n",
       "\n",
       "    .dataframe thead th {\n",
       "        text-align: right;\n",
       "    }\n",
       "</style>\n",
       "<table border=\"1\" class=\"dataframe\">\n",
       "  <thead>\n",
       "    <tr style=\"text-align: right;\">\n",
       "      <th></th>\n",
       "      <th>duration</th>\n",
       "      <th>user_id</th>\n",
       "    </tr>\n",
       "  </thead>\n",
       "  <tbody>\n",
       "    <tr>\n",
       "      <th>count</th>\n",
       "      <td>202607.000000</td>\n",
       "      <td>202607.000000</td>\n",
       "    </tr>\n",
       "    <tr>\n",
       "      <th>mean</th>\n",
       "      <td>6.755887</td>\n",
       "      <td>1253.940619</td>\n",
       "    </tr>\n",
       "    <tr>\n",
       "      <th>std</th>\n",
       "      <td>5.843365</td>\n",
       "      <td>144.722751</td>\n",
       "    </tr>\n",
       "    <tr>\n",
       "      <th>min</th>\n",
       "      <td>0.000000</td>\n",
       "      <td>1000.000000</td>\n",
       "    </tr>\n",
       "    <tr>\n",
       "      <th>25%</th>\n",
       "      <td>1.300000</td>\n",
       "      <td>1126.000000</td>\n",
       "    </tr>\n",
       "    <tr>\n",
       "      <th>50%</th>\n",
       "      <td>6.000000</td>\n",
       "      <td>1260.000000</td>\n",
       "    </tr>\n",
       "    <tr>\n",
       "      <th>75%</th>\n",
       "      <td>10.700000</td>\n",
       "      <td>1379.000000</td>\n",
       "    </tr>\n",
       "    <tr>\n",
       "      <th>max</th>\n",
       "      <td>38.000000</td>\n",
       "      <td>1499.000000</td>\n",
       "    </tr>\n",
       "  </tbody>\n",
       "</table>\n",
       "</div>"
      ],
      "text/plain": [
       "            duration        user_id\n",
       "count  202607.000000  202607.000000\n",
       "mean   6.755887       1253.940619  \n",
       "std    5.843365       144.722751   \n",
       "min    0.000000       1000.000000  \n",
       "25%    1.300000       1126.000000  \n",
       "50%    6.000000       1260.000000  \n",
       "75%    10.700000      1379.000000  \n",
       "max    38.000000      1499.000000  "
      ]
     },
     "metadata": {},
     "output_type": "display_data"
    },
    {
     "name": "stdout",
     "output_type": "stream",
     "text": [
      "__________________________________________________\n",
      "\u001b[1mВсего пропусков:\u001b[0m\n"
     ]
    },
    {
     "data": {
      "text/plain": [
       "id           0\n",
       "call_date    0\n",
       "duration     0\n",
       "user_id      0\n",
       "dtype: int64"
      ]
     },
     "metadata": {},
     "output_type": "display_data"
    },
    {
     "name": "stdout",
     "output_type": "stream",
     "text": [
      "__________________________________________________\n",
      "\u001b[1mПолные дубликаты:0\u001b[0m\n",
      "__________________________________________________\n",
      "\u001b[1mЗначения столбцов:\u001b[0m\n",
      " \n",
      "\u001b[1mid\u001b[0m\n",
      "1000_0      1\n",
      "1344_881    1\n",
      "1344_883    1\n",
      "1344_884    1\n",
      "1344_885    1\n",
      "           ..\n",
      "1171_562    1\n",
      "1171_563    1\n",
      "1171_564    1\n",
      "1171_565    1\n",
      "1499_219    1\n",
      "Name: id, Length: 202607, dtype: int64\n",
      "__________________________________________________\n",
      "\n",
      "\u001b[1mcall_date\u001b[0m\n",
      "2018-12-31    1435\n",
      "2018-12-29    1202\n",
      "2018-12-30    1192\n",
      "2018-12-22    1158\n",
      "2018-12-26    1149\n",
      "              ... \n",
      "2018-01-05    20  \n",
      "2018-01-07    18  \n",
      "2018-01-02    9   \n",
      "2018-01-03    7   \n",
      "2018-01-01    5   \n",
      "Name: call_date, Length: 365, dtype: int64\n",
      "__________________________________________________\n",
      "\n",
      "\u001b[1mduration\u001b[0m\n",
      "0.00     39613\n",
      "4.49     142  \n",
      "5.50     142  \n",
      "6.15     141  \n",
      "6.38     141  \n",
      "        ...   \n",
      "26.94    1    \n",
      "32.19    1    \n",
      "26.32    1    \n",
      "27.41    1    \n",
      "26.90    1    \n",
      "Name: duration, Length: 2871, dtype: int64\n",
      "__________________________________________________\n",
      "\n",
      "\u001b[1muser_id\u001b[0m\n",
      "1377    1760\n",
      "1168    1692\n",
      "1375    1560\n",
      "1453    1440\n",
      "1196    1240\n",
      "        ... \n",
      "1397    33  \n",
      "1442    28  \n",
      "1373    24  \n",
      "1016    20  \n",
      "1257    14  \n",
      "Name: user_id, Length: 492, dtype: int64\n",
      "__________________________________________________\n",
      "\n"
     ]
    }
   ],
   "source": [
    "#вывод на экран части таблицы и её описание\n",
    "calls = display_datainfo('calls.csv', sep=',')"
   ]
  },
  {
   "cell_type": "markdown",
   "metadata": {},
   "source": [
    "### Таблица \"Интернет\""
   ]
  },
  {
   "cell_type": "code",
   "execution_count": 5,
   "metadata": {},
   "outputs": [
    {
     "name": "stdout",
     "output_type": "stream",
     "text": [
      "\u001b[1mПервые 5 строк данных\u001b[0m\n"
     ]
    },
    {
     "data": {
      "text/html": [
       "<div>\n",
       "<style scoped>\n",
       "    .dataframe tbody tr th:only-of-type {\n",
       "        vertical-align: middle;\n",
       "    }\n",
       "\n",
       "    .dataframe tbody tr th {\n",
       "        vertical-align: top;\n",
       "    }\n",
       "\n",
       "    .dataframe thead th {\n",
       "        text-align: right;\n",
       "    }\n",
       "</style>\n",
       "<table border=\"1\" class=\"dataframe\">\n",
       "  <thead>\n",
       "    <tr style=\"text-align: right;\">\n",
       "      <th></th>\n",
       "      <th>Unnamed: 0</th>\n",
       "      <th>id</th>\n",
       "      <th>mb_used</th>\n",
       "      <th>session_date</th>\n",
       "      <th>user_id</th>\n",
       "    </tr>\n",
       "  </thead>\n",
       "  <tbody>\n",
       "    <tr>\n",
       "      <th>0</th>\n",
       "      <td>0</td>\n",
       "      <td>1000_0</td>\n",
       "      <td>112.95</td>\n",
       "      <td>2018-11-25</td>\n",
       "      <td>1000</td>\n",
       "    </tr>\n",
       "    <tr>\n",
       "      <th>1</th>\n",
       "      <td>1</td>\n",
       "      <td>1000_1</td>\n",
       "      <td>1052.81</td>\n",
       "      <td>2018-09-07</td>\n",
       "      <td>1000</td>\n",
       "    </tr>\n",
       "    <tr>\n",
       "      <th>2</th>\n",
       "      <td>2</td>\n",
       "      <td>1000_2</td>\n",
       "      <td>1197.26</td>\n",
       "      <td>2018-06-25</td>\n",
       "      <td>1000</td>\n",
       "    </tr>\n",
       "    <tr>\n",
       "      <th>3</th>\n",
       "      <td>3</td>\n",
       "      <td>1000_3</td>\n",
       "      <td>550.27</td>\n",
       "      <td>2018-08-22</td>\n",
       "      <td>1000</td>\n",
       "    </tr>\n",
       "    <tr>\n",
       "      <th>4</th>\n",
       "      <td>4</td>\n",
       "      <td>1000_4</td>\n",
       "      <td>302.56</td>\n",
       "      <td>2018-09-24</td>\n",
       "      <td>1000</td>\n",
       "    </tr>\n",
       "  </tbody>\n",
       "</table>\n",
       "</div>"
      ],
      "text/plain": [
       "   Unnamed: 0      id  mb_used session_date  user_id\n",
       "0  0           1000_0  112.95   2018-11-25   1000   \n",
       "1  1           1000_1  1052.81  2018-09-07   1000   \n",
       "2  2           1000_2  1197.26  2018-06-25   1000   \n",
       "3  3           1000_3  550.27   2018-08-22   1000   \n",
       "4  4           1000_4  302.56   2018-09-24   1000   "
      ]
     },
     "metadata": {},
     "output_type": "display_data"
    },
    {
     "name": "stdout",
     "output_type": "stream",
     "text": [
      "__________________________________________________\n",
      "\u001b[1mТипы и размер данных\u001b[0m\n",
      "<class 'pandas.core.frame.DataFrame'>\n",
      "RangeIndex: 149396 entries, 0 to 149395\n",
      "Data columns (total 5 columns):\n",
      " #   Column        Non-Null Count   Dtype  \n",
      "---  ------        --------------   -----  \n",
      " 0   Unnamed: 0    149396 non-null  int64  \n",
      " 1   id            149396 non-null  object \n",
      " 2   mb_used       149396 non-null  float64\n",
      " 3   session_date  149396 non-null  object \n",
      " 4   user_id       149396 non-null  int64  \n",
      "dtypes: float64(1), int64(2), object(2)\n",
      "memory usage: 5.7+ MB\n"
     ]
    },
    {
     "data": {
      "text/plain": [
       "None"
      ]
     },
     "metadata": {},
     "output_type": "display_data"
    },
    {
     "name": "stdout",
     "output_type": "stream",
     "text": [
      "__________________________________________________\n",
      "\u001b[1mСтатистика\u001b[0m\n"
     ]
    },
    {
     "data": {
      "text/html": [
       "<div>\n",
       "<style scoped>\n",
       "    .dataframe tbody tr th:only-of-type {\n",
       "        vertical-align: middle;\n",
       "    }\n",
       "\n",
       "    .dataframe tbody tr th {\n",
       "        vertical-align: top;\n",
       "    }\n",
       "\n",
       "    .dataframe thead th {\n",
       "        text-align: right;\n",
       "    }\n",
       "</style>\n",
       "<table border=\"1\" class=\"dataframe\">\n",
       "  <thead>\n",
       "    <tr style=\"text-align: right;\">\n",
       "      <th></th>\n",
       "      <th>Unnamed: 0</th>\n",
       "      <th>mb_used</th>\n",
       "      <th>user_id</th>\n",
       "    </tr>\n",
       "  </thead>\n",
       "  <tbody>\n",
       "    <tr>\n",
       "      <th>count</th>\n",
       "      <td>149396.000000</td>\n",
       "      <td>149396.000000</td>\n",
       "      <td>149396.000000</td>\n",
       "    </tr>\n",
       "    <tr>\n",
       "      <th>mean</th>\n",
       "      <td>74697.500000</td>\n",
       "      <td>370.192426</td>\n",
       "      <td>1252.099842</td>\n",
       "    </tr>\n",
       "    <tr>\n",
       "      <th>std</th>\n",
       "      <td>43127.054745</td>\n",
       "      <td>278.300951</td>\n",
       "      <td>144.050823</td>\n",
       "    </tr>\n",
       "    <tr>\n",
       "      <th>min</th>\n",
       "      <td>0.000000</td>\n",
       "      <td>0.000000</td>\n",
       "      <td>1000.000000</td>\n",
       "    </tr>\n",
       "    <tr>\n",
       "      <th>25%</th>\n",
       "      <td>37348.750000</td>\n",
       "      <td>138.187500</td>\n",
       "      <td>1130.000000</td>\n",
       "    </tr>\n",
       "    <tr>\n",
       "      <th>50%</th>\n",
       "      <td>74697.500000</td>\n",
       "      <td>348.015000</td>\n",
       "      <td>1251.000000</td>\n",
       "    </tr>\n",
       "    <tr>\n",
       "      <th>75%</th>\n",
       "      <td>112046.250000</td>\n",
       "      <td>559.552500</td>\n",
       "      <td>1380.000000</td>\n",
       "    </tr>\n",
       "    <tr>\n",
       "      <th>max</th>\n",
       "      <td>149395.000000</td>\n",
       "      <td>1724.830000</td>\n",
       "      <td>1499.000000</td>\n",
       "    </tr>\n",
       "  </tbody>\n",
       "</table>\n",
       "</div>"
      ],
      "text/plain": [
       "          Unnamed: 0        mb_used        user_id\n",
       "count  149396.000000  149396.000000  149396.000000\n",
       "mean   74697.500000   370.192426     1252.099842  \n",
       "std    43127.054745   278.300951     144.050823   \n",
       "min    0.000000       0.000000       1000.000000  \n",
       "25%    37348.750000   138.187500     1130.000000  \n",
       "50%    74697.500000   348.015000     1251.000000  \n",
       "75%    112046.250000  559.552500     1380.000000  \n",
       "max    149395.000000  1724.830000    1499.000000  "
      ]
     },
     "metadata": {},
     "output_type": "display_data"
    },
    {
     "name": "stdout",
     "output_type": "stream",
     "text": [
      "__________________________________________________\n",
      "\u001b[1mВсего пропусков:\u001b[0m\n"
     ]
    },
    {
     "data": {
      "text/plain": [
       "Unnamed: 0      0\n",
       "id              0\n",
       "mb_used         0\n",
       "session_date    0\n",
       "user_id         0\n",
       "dtype: int64"
      ]
     },
     "metadata": {},
     "output_type": "display_data"
    },
    {
     "name": "stdout",
     "output_type": "stream",
     "text": [
      "__________________________________________________\n",
      "\u001b[1mПолные дубликаты:0\u001b[0m\n",
      "__________________________________________________\n",
      "\u001b[1mЗначения столбцов:\u001b[0m\n",
      " \n",
      "\u001b[1mUnnamed: 0\u001b[0m\n",
      "0         1\n",
      "99574     1\n",
      "99594     1\n",
      "99595     1\n",
      "99596     1\n",
      "         ..\n",
      "49798     1\n",
      "49799     1\n",
      "49800     1\n",
      "49801     1\n",
      "149395    1\n",
      "Name: Unnamed: 0, Length: 149396, dtype: int64\n",
      "__________________________________________________\n",
      "\n",
      "\u001b[1mid\u001b[0m\n",
      "1000_0      1\n",
      "1333_109    1\n",
      "1334_0      1\n",
      "1334_1      1\n",
      "1334_2      1\n",
      "           ..\n",
      "1172_80     1\n",
      "1172_81     1\n",
      "1172_82     1\n",
      "1172_83     1\n",
      "1499_156    1\n",
      "Name: id, Length: 149396, dtype: int64\n",
      "__________________________________________________\n",
      "\n",
      "\u001b[1mmb_used\u001b[0m\n",
      "0.00      19598\n",
      "335.91    9    \n",
      "447.30    9    \n",
      "197.56    9    \n",
      "199.11    8    \n",
      "         ..    \n",
      "643.43    1    \n",
      "973.04    1    \n",
      "834.51    1    \n",
      "777.30    1    \n",
      "23.72     1    \n",
      "Name: mb_used, Length: 70003, dtype: int64\n",
      "__________________________________________________\n",
      "\n",
      "\u001b[1msession_date\u001b[0m\n",
      "2018-12-31    1057\n",
      "2018-12-30    903 \n",
      "2018-12-25    859 \n",
      "2018-12-26    844 \n",
      "2018-12-22    834 \n",
      "             ...  \n",
      "2018-01-05    14  \n",
      "2018-01-04    9   \n",
      "2018-01-03    6   \n",
      "2018-01-02    3   \n",
      "2018-01-01    3   \n",
      "Name: session_date, Length: 365, dtype: int64\n",
      "__________________________________________________\n",
      "\n",
      "\u001b[1muser_id\u001b[0m\n",
      "1496    834\n",
      "1227    812\n",
      "1204    789\n",
      "1240    764\n",
      "1251    759\n",
      "       ... \n",
      "1151    35 \n",
      "1467    27 \n",
      "1343    26 \n",
      "1192    22 \n",
      "1399    8  \n",
      "Name: user_id, Length: 497, dtype: int64\n",
      "__________________________________________________\n",
      "\n"
     ]
    }
   ],
   "source": [
    "#вывод на экран части таблицы и её описание\n",
    "internet = display_datainfo('internet.csv', sep=',')"
   ]
  },
  {
   "cell_type": "markdown",
   "metadata": {},
   "source": [
    "### Таблица \"Сообщения\""
   ]
  },
  {
   "cell_type": "code",
   "execution_count": 6,
   "metadata": {},
   "outputs": [
    {
     "name": "stdout",
     "output_type": "stream",
     "text": [
      "\u001b[1mПервые 5 строк данных\u001b[0m\n"
     ]
    },
    {
     "data": {
      "text/html": [
       "<div>\n",
       "<style scoped>\n",
       "    .dataframe tbody tr th:only-of-type {\n",
       "        vertical-align: middle;\n",
       "    }\n",
       "\n",
       "    .dataframe tbody tr th {\n",
       "        vertical-align: top;\n",
       "    }\n",
       "\n",
       "    .dataframe thead th {\n",
       "        text-align: right;\n",
       "    }\n",
       "</style>\n",
       "<table border=\"1\" class=\"dataframe\">\n",
       "  <thead>\n",
       "    <tr style=\"text-align: right;\">\n",
       "      <th></th>\n",
       "      <th>id</th>\n",
       "      <th>message_date</th>\n",
       "      <th>user_id</th>\n",
       "    </tr>\n",
       "  </thead>\n",
       "  <tbody>\n",
       "    <tr>\n",
       "      <th>0</th>\n",
       "      <td>1000_0</td>\n",
       "      <td>2018-06-27</td>\n",
       "      <td>1000</td>\n",
       "    </tr>\n",
       "    <tr>\n",
       "      <th>1</th>\n",
       "      <td>1000_1</td>\n",
       "      <td>2018-10-08</td>\n",
       "      <td>1000</td>\n",
       "    </tr>\n",
       "    <tr>\n",
       "      <th>2</th>\n",
       "      <td>1000_2</td>\n",
       "      <td>2018-08-04</td>\n",
       "      <td>1000</td>\n",
       "    </tr>\n",
       "    <tr>\n",
       "      <th>3</th>\n",
       "      <td>1000_3</td>\n",
       "      <td>2018-06-16</td>\n",
       "      <td>1000</td>\n",
       "    </tr>\n",
       "    <tr>\n",
       "      <th>4</th>\n",
       "      <td>1000_4</td>\n",
       "      <td>2018-12-05</td>\n",
       "      <td>1000</td>\n",
       "    </tr>\n",
       "  </tbody>\n",
       "</table>\n",
       "</div>"
      ],
      "text/plain": [
       "       id message_date  user_id\n",
       "0  1000_0  2018-06-27   1000   \n",
       "1  1000_1  2018-10-08   1000   \n",
       "2  1000_2  2018-08-04   1000   \n",
       "3  1000_3  2018-06-16   1000   \n",
       "4  1000_4  2018-12-05   1000   "
      ]
     },
     "metadata": {},
     "output_type": "display_data"
    },
    {
     "name": "stdout",
     "output_type": "stream",
     "text": [
      "__________________________________________________\n",
      "\u001b[1mТипы и размер данных\u001b[0m\n",
      "<class 'pandas.core.frame.DataFrame'>\n",
      "RangeIndex: 123036 entries, 0 to 123035\n",
      "Data columns (total 3 columns):\n",
      " #   Column        Non-Null Count   Dtype \n",
      "---  ------        --------------   ----- \n",
      " 0   id            123036 non-null  object\n",
      " 1   message_date  123036 non-null  object\n",
      " 2   user_id       123036 non-null  int64 \n",
      "dtypes: int64(1), object(2)\n",
      "memory usage: 2.8+ MB\n"
     ]
    },
    {
     "data": {
      "text/plain": [
       "None"
      ]
     },
     "metadata": {},
     "output_type": "display_data"
    },
    {
     "name": "stdout",
     "output_type": "stream",
     "text": [
      "__________________________________________________\n",
      "\u001b[1mСтатистика\u001b[0m\n"
     ]
    },
    {
     "data": {
      "text/html": [
       "<div>\n",
       "<style scoped>\n",
       "    .dataframe tbody tr th:only-of-type {\n",
       "        vertical-align: middle;\n",
       "    }\n",
       "\n",
       "    .dataframe tbody tr th {\n",
       "        vertical-align: top;\n",
       "    }\n",
       "\n",
       "    .dataframe thead th {\n",
       "        text-align: right;\n",
       "    }\n",
       "</style>\n",
       "<table border=\"1\" class=\"dataframe\">\n",
       "  <thead>\n",
       "    <tr style=\"text-align: right;\">\n",
       "      <th></th>\n",
       "      <th>user_id</th>\n",
       "    </tr>\n",
       "  </thead>\n",
       "  <tbody>\n",
       "    <tr>\n",
       "      <th>count</th>\n",
       "      <td>123036.000000</td>\n",
       "    </tr>\n",
       "    <tr>\n",
       "      <th>mean</th>\n",
       "      <td>1256.989410</td>\n",
       "    </tr>\n",
       "    <tr>\n",
       "      <th>std</th>\n",
       "      <td>143.523967</td>\n",
       "    </tr>\n",
       "    <tr>\n",
       "      <th>min</th>\n",
       "      <td>1000.000000</td>\n",
       "    </tr>\n",
       "    <tr>\n",
       "      <th>25%</th>\n",
       "      <td>1134.000000</td>\n",
       "    </tr>\n",
       "    <tr>\n",
       "      <th>50%</th>\n",
       "      <td>1271.000000</td>\n",
       "    </tr>\n",
       "    <tr>\n",
       "      <th>75%</th>\n",
       "      <td>1381.000000</td>\n",
       "    </tr>\n",
       "    <tr>\n",
       "      <th>max</th>\n",
       "      <td>1499.000000</td>\n",
       "    </tr>\n",
       "  </tbody>\n",
       "</table>\n",
       "</div>"
      ],
      "text/plain": [
       "             user_id\n",
       "count  123036.000000\n",
       "mean   1256.989410  \n",
       "std    143.523967   \n",
       "min    1000.000000  \n",
       "25%    1134.000000  \n",
       "50%    1271.000000  \n",
       "75%    1381.000000  \n",
       "max    1499.000000  "
      ]
     },
     "metadata": {},
     "output_type": "display_data"
    },
    {
     "name": "stdout",
     "output_type": "stream",
     "text": [
      "__________________________________________________\n",
      "\u001b[1mВсего пропусков:\u001b[0m\n"
     ]
    },
    {
     "data": {
      "text/plain": [
       "id              0\n",
       "message_date    0\n",
       "user_id         0\n",
       "dtype: int64"
      ]
     },
     "metadata": {},
     "output_type": "display_data"
    },
    {
     "name": "stdout",
     "output_type": "stream",
     "text": [
      "__________________________________________________\n",
      "\u001b[1mПолные дубликаты:0\u001b[0m\n",
      "__________________________________________________\n",
      "\u001b[1mЗначения столбцов:\u001b[0m\n",
      " \n",
      "\u001b[1mid\u001b[0m\n",
      "1000_0      1\n",
      "1344_248    1\n",
      "1344_96     1\n",
      "1344_95     1\n",
      "1344_94     1\n",
      "           ..\n",
      "1174_352    1\n",
      "1174_351    1\n",
      "1174_350    1\n",
      "1174_349    1\n",
      "1499_183    1\n",
      "Name: id, Length: 123036, dtype: int64\n",
      "__________________________________________________\n",
      "\n",
      "\u001b[1mmessage_date\u001b[0m\n",
      "2018-12-31    859\n",
      "2018-12-30    765\n",
      "2018-12-21    712\n",
      "2018-12-29    702\n",
      "2018-12-28    699\n",
      "             ... \n",
      "2018-01-11    12 \n",
      "2018-01-05    10 \n",
      "2018-01-04    10 \n",
      "2018-01-02    10 \n",
      "2018-01-03    4  \n",
      "Name: message_date, Length: 364, dtype: int64\n",
      "__________________________________________________\n",
      "\n",
      "\u001b[1muser_id\u001b[0m\n",
      "1277    1463\n",
      "1089    1408\n",
      "1231    1384\n",
      "1385    1380\n",
      "1356    1224\n",
      "        ... \n",
      "1389    6   \n",
      "1279    5   \n",
      "1074    3   \n",
      "1159    2   \n",
      "1141    1   \n",
      "Name: user_id, Length: 426, dtype: int64\n",
      "__________________________________________________\n",
      "\n"
     ]
    }
   ],
   "source": [
    "#вывод на экран части таблицы и её описание\n",
    "messages = display_datainfo('messages.csv', sep=',')"
   ]
  },
  {
   "cell_type": "markdown",
   "metadata": {},
   "source": [
    "### Таблица \"Тарифы\""
   ]
  },
  {
   "cell_type": "code",
   "execution_count": 7,
   "metadata": {},
   "outputs": [
    {
     "name": "stdout",
     "output_type": "stream",
     "text": [
      "\u001b[1mПервые 5 строк данных\u001b[0m\n"
     ]
    },
    {
     "data": {
      "text/html": [
       "<div>\n",
       "<style scoped>\n",
       "    .dataframe tbody tr th:only-of-type {\n",
       "        vertical-align: middle;\n",
       "    }\n",
       "\n",
       "    .dataframe tbody tr th {\n",
       "        vertical-align: top;\n",
       "    }\n",
       "\n",
       "    .dataframe thead th {\n",
       "        text-align: right;\n",
       "    }\n",
       "</style>\n",
       "<table border=\"1\" class=\"dataframe\">\n",
       "  <thead>\n",
       "    <tr style=\"text-align: right;\">\n",
       "      <th></th>\n",
       "      <th>messages_included</th>\n",
       "      <th>mb_per_month_included</th>\n",
       "      <th>minutes_included</th>\n",
       "      <th>rub_monthly_fee</th>\n",
       "      <th>rub_per_gb</th>\n",
       "      <th>rub_per_message</th>\n",
       "      <th>rub_per_minute</th>\n",
       "      <th>tariff_name</th>\n",
       "    </tr>\n",
       "  </thead>\n",
       "  <tbody>\n",
       "    <tr>\n",
       "      <th>0</th>\n",
       "      <td>50</td>\n",
       "      <td>15360</td>\n",
       "      <td>500</td>\n",
       "      <td>550</td>\n",
       "      <td>200</td>\n",
       "      <td>3</td>\n",
       "      <td>3</td>\n",
       "      <td>smart</td>\n",
       "    </tr>\n",
       "    <tr>\n",
       "      <th>1</th>\n",
       "      <td>1000</td>\n",
       "      <td>30720</td>\n",
       "      <td>3000</td>\n",
       "      <td>1950</td>\n",
       "      <td>150</td>\n",
       "      <td>1</td>\n",
       "      <td>1</td>\n",
       "      <td>ultra</td>\n",
       "    </tr>\n",
       "  </tbody>\n",
       "</table>\n",
       "</div>"
      ],
      "text/plain": [
       "   messages_included  mb_per_month_included  minutes_included  \\\n",
       "0  50                 15360                  500                \n",
       "1  1000               30720                  3000               \n",
       "\n",
       "   rub_monthly_fee  rub_per_gb  rub_per_message  rub_per_minute tariff_name  \n",
       "0  550              200         3                3               smart       \n",
       "1  1950             150         1                1               ultra       "
      ]
     },
     "metadata": {},
     "output_type": "display_data"
    },
    {
     "name": "stdout",
     "output_type": "stream",
     "text": [
      "__________________________________________________\n",
      "\u001b[1mТипы и размер данных\u001b[0m\n",
      "<class 'pandas.core.frame.DataFrame'>\n",
      "RangeIndex: 2 entries, 0 to 1\n",
      "Data columns (total 8 columns):\n",
      " #   Column                 Non-Null Count  Dtype \n",
      "---  ------                 --------------  ----- \n",
      " 0   messages_included      2 non-null      int64 \n",
      " 1   mb_per_month_included  2 non-null      int64 \n",
      " 2   minutes_included       2 non-null      int64 \n",
      " 3   rub_monthly_fee        2 non-null      int64 \n",
      " 4   rub_per_gb             2 non-null      int64 \n",
      " 5   rub_per_message        2 non-null      int64 \n",
      " 6   rub_per_minute         2 non-null      int64 \n",
      " 7   tariff_name            2 non-null      object\n",
      "dtypes: int64(7), object(1)\n",
      "memory usage: 256.0+ bytes\n"
     ]
    },
    {
     "data": {
      "text/plain": [
       "None"
      ]
     },
     "metadata": {},
     "output_type": "display_data"
    },
    {
     "name": "stdout",
     "output_type": "stream",
     "text": [
      "__________________________________________________\n",
      "\u001b[1mСтатистика\u001b[0m\n"
     ]
    },
    {
     "data": {
      "text/html": [
       "<div>\n",
       "<style scoped>\n",
       "    .dataframe tbody tr th:only-of-type {\n",
       "        vertical-align: middle;\n",
       "    }\n",
       "\n",
       "    .dataframe tbody tr th {\n",
       "        vertical-align: top;\n",
       "    }\n",
       "\n",
       "    .dataframe thead th {\n",
       "        text-align: right;\n",
       "    }\n",
       "</style>\n",
       "<table border=\"1\" class=\"dataframe\">\n",
       "  <thead>\n",
       "    <tr style=\"text-align: right;\">\n",
       "      <th></th>\n",
       "      <th>messages_included</th>\n",
       "      <th>mb_per_month_included</th>\n",
       "      <th>minutes_included</th>\n",
       "      <th>rub_monthly_fee</th>\n",
       "      <th>rub_per_gb</th>\n",
       "      <th>rub_per_message</th>\n",
       "      <th>rub_per_minute</th>\n",
       "    </tr>\n",
       "  </thead>\n",
       "  <tbody>\n",
       "    <tr>\n",
       "      <th>count</th>\n",
       "      <td>2.000000</td>\n",
       "      <td>2.000000</td>\n",
       "      <td>2.000000</td>\n",
       "      <td>2.000000</td>\n",
       "      <td>2.000000</td>\n",
       "      <td>2.000000</td>\n",
       "      <td>2.000000</td>\n",
       "    </tr>\n",
       "    <tr>\n",
       "      <th>mean</th>\n",
       "      <td>525.000000</td>\n",
       "      <td>23040.000000</td>\n",
       "      <td>1750.000000</td>\n",
       "      <td>1250.000000</td>\n",
       "      <td>175.000000</td>\n",
       "      <td>2.000000</td>\n",
       "      <td>2.000000</td>\n",
       "    </tr>\n",
       "    <tr>\n",
       "      <th>std</th>\n",
       "      <td>671.751442</td>\n",
       "      <td>10861.160159</td>\n",
       "      <td>1767.766953</td>\n",
       "      <td>989.949494</td>\n",
       "      <td>35.355339</td>\n",
       "      <td>1.414214</td>\n",
       "      <td>1.414214</td>\n",
       "    </tr>\n",
       "    <tr>\n",
       "      <th>min</th>\n",
       "      <td>50.000000</td>\n",
       "      <td>15360.000000</td>\n",
       "      <td>500.000000</td>\n",
       "      <td>550.000000</td>\n",
       "      <td>150.000000</td>\n",
       "      <td>1.000000</td>\n",
       "      <td>1.000000</td>\n",
       "    </tr>\n",
       "    <tr>\n",
       "      <th>25%</th>\n",
       "      <td>287.500000</td>\n",
       "      <td>19200.000000</td>\n",
       "      <td>1125.000000</td>\n",
       "      <td>900.000000</td>\n",
       "      <td>162.500000</td>\n",
       "      <td>1.500000</td>\n",
       "      <td>1.500000</td>\n",
       "    </tr>\n",
       "    <tr>\n",
       "      <th>50%</th>\n",
       "      <td>525.000000</td>\n",
       "      <td>23040.000000</td>\n",
       "      <td>1750.000000</td>\n",
       "      <td>1250.000000</td>\n",
       "      <td>175.000000</td>\n",
       "      <td>2.000000</td>\n",
       "      <td>2.000000</td>\n",
       "    </tr>\n",
       "    <tr>\n",
       "      <th>75%</th>\n",
       "      <td>762.500000</td>\n",
       "      <td>26880.000000</td>\n",
       "      <td>2375.000000</td>\n",
       "      <td>1600.000000</td>\n",
       "      <td>187.500000</td>\n",
       "      <td>2.500000</td>\n",
       "      <td>2.500000</td>\n",
       "    </tr>\n",
       "    <tr>\n",
       "      <th>max</th>\n",
       "      <td>1000.000000</td>\n",
       "      <td>30720.000000</td>\n",
       "      <td>3000.000000</td>\n",
       "      <td>1950.000000</td>\n",
       "      <td>200.000000</td>\n",
       "      <td>3.000000</td>\n",
       "      <td>3.000000</td>\n",
       "    </tr>\n",
       "  </tbody>\n",
       "</table>\n",
       "</div>"
      ],
      "text/plain": [
       "       messages_included  mb_per_month_included  minutes_included  \\\n",
       "count  2.000000           2.000000               2.000000           \n",
       "mean   525.000000         23040.000000           1750.000000        \n",
       "std    671.751442         10861.160159           1767.766953        \n",
       "min    50.000000          15360.000000           500.000000         \n",
       "25%    287.500000         19200.000000           1125.000000        \n",
       "50%    525.000000         23040.000000           1750.000000        \n",
       "75%    762.500000         26880.000000           2375.000000        \n",
       "max    1000.000000        30720.000000           3000.000000        \n",
       "\n",
       "       rub_monthly_fee  rub_per_gb  rub_per_message  rub_per_minute  \n",
       "count  2.000000         2.000000    2.000000         2.000000        \n",
       "mean   1250.000000      175.000000  2.000000         2.000000        \n",
       "std    989.949494       35.355339   1.414214         1.414214        \n",
       "min    550.000000       150.000000  1.000000         1.000000        \n",
       "25%    900.000000       162.500000  1.500000         1.500000        \n",
       "50%    1250.000000      175.000000  2.000000         2.000000        \n",
       "75%    1600.000000      187.500000  2.500000         2.500000        \n",
       "max    1950.000000      200.000000  3.000000         3.000000        "
      ]
     },
     "metadata": {},
     "output_type": "display_data"
    },
    {
     "name": "stdout",
     "output_type": "stream",
     "text": [
      "__________________________________________________\n",
      "\u001b[1mВсего пропусков:\u001b[0m\n"
     ]
    },
    {
     "data": {
      "text/plain": [
       "messages_included        0\n",
       "mb_per_month_included    0\n",
       "minutes_included         0\n",
       "rub_monthly_fee          0\n",
       "rub_per_gb               0\n",
       "rub_per_message          0\n",
       "rub_per_minute           0\n",
       "tariff_name              0\n",
       "dtype: int64"
      ]
     },
     "metadata": {},
     "output_type": "display_data"
    },
    {
     "name": "stdout",
     "output_type": "stream",
     "text": [
      "__________________________________________________\n",
      "\u001b[1mПолные дубликаты:0\u001b[0m\n",
      "__________________________________________________\n",
      "\u001b[1mЗначения столбцов:\u001b[0m\n",
      " \n",
      "\u001b[1mmessages_included\u001b[0m\n",
      "50      1\n",
      "1000    1\n",
      "Name: messages_included, dtype: int64\n",
      "__________________________________________________\n",
      "\n",
      "\u001b[1mmb_per_month_included\u001b[0m\n",
      "15360    1\n",
      "30720    1\n",
      "Name: mb_per_month_included, dtype: int64\n",
      "__________________________________________________\n",
      "\n",
      "\u001b[1mminutes_included\u001b[0m\n",
      "500     1\n",
      "3000    1\n",
      "Name: minutes_included, dtype: int64\n",
      "__________________________________________________\n",
      "\n",
      "\u001b[1mrub_monthly_fee\u001b[0m\n",
      "550     1\n",
      "1950    1\n",
      "Name: rub_monthly_fee, dtype: int64\n",
      "__________________________________________________\n",
      "\n",
      "\u001b[1mrub_per_gb\u001b[0m\n",
      "200    1\n",
      "150    1\n",
      "Name: rub_per_gb, dtype: int64\n",
      "__________________________________________________\n",
      "\n",
      "\u001b[1mrub_per_message\u001b[0m\n",
      "3    1\n",
      "1    1\n",
      "Name: rub_per_message, dtype: int64\n",
      "__________________________________________________\n",
      "\n",
      "\u001b[1mrub_per_minute\u001b[0m\n",
      "3    1\n",
      "1    1\n",
      "Name: rub_per_minute, dtype: int64\n",
      "__________________________________________________\n",
      "\n",
      "\u001b[1mtariff_name\u001b[0m\n",
      "smart    1\n",
      "ultra    1\n",
      "Name: tariff_name, dtype: int64\n",
      "__________________________________________________\n",
      "\n"
     ]
    }
   ],
   "source": [
    "#вывод на экран части таблицы и её описание\n",
    "tariffs = display_datainfo('tariffs.csv', sep=',')"
   ]
  },
  {
   "cell_type": "markdown",
   "metadata": {},
   "source": [
    "### Таблица \"Пользователи\""
   ]
  },
  {
   "cell_type": "code",
   "execution_count": 8,
   "metadata": {},
   "outputs": [
    {
     "name": "stdout",
     "output_type": "stream",
     "text": [
      "\u001b[1mПервые 5 строк данных\u001b[0m\n"
     ]
    },
    {
     "data": {
      "text/html": [
       "<div>\n",
       "<style scoped>\n",
       "    .dataframe tbody tr th:only-of-type {\n",
       "        vertical-align: middle;\n",
       "    }\n",
       "\n",
       "    .dataframe tbody tr th {\n",
       "        vertical-align: top;\n",
       "    }\n",
       "\n",
       "    .dataframe thead th {\n",
       "        text-align: right;\n",
       "    }\n",
       "</style>\n",
       "<table border=\"1\" class=\"dataframe\">\n",
       "  <thead>\n",
       "    <tr style=\"text-align: right;\">\n",
       "      <th></th>\n",
       "      <th>user_id</th>\n",
       "      <th>age</th>\n",
       "      <th>churn_date</th>\n",
       "      <th>city</th>\n",
       "      <th>first_name</th>\n",
       "      <th>last_name</th>\n",
       "      <th>reg_date</th>\n",
       "      <th>tariff</th>\n",
       "    </tr>\n",
       "  </thead>\n",
       "  <tbody>\n",
       "    <tr>\n",
       "      <th>0</th>\n",
       "      <td>1000</td>\n",
       "      <td>52</td>\n",
       "      <td>NaN</td>\n",
       "      <td>Краснодар</td>\n",
       "      <td>Рафаил</td>\n",
       "      <td>Верещагин</td>\n",
       "      <td>2018-05-25</td>\n",
       "      <td>ultra</td>\n",
       "    </tr>\n",
       "    <tr>\n",
       "      <th>1</th>\n",
       "      <td>1001</td>\n",
       "      <td>41</td>\n",
       "      <td>NaN</td>\n",
       "      <td>Москва</td>\n",
       "      <td>Иван</td>\n",
       "      <td>Ежов</td>\n",
       "      <td>2018-11-01</td>\n",
       "      <td>smart</td>\n",
       "    </tr>\n",
       "    <tr>\n",
       "      <th>2</th>\n",
       "      <td>1002</td>\n",
       "      <td>59</td>\n",
       "      <td>NaN</td>\n",
       "      <td>Стерлитамак</td>\n",
       "      <td>Евгений</td>\n",
       "      <td>Абрамович</td>\n",
       "      <td>2018-06-17</td>\n",
       "      <td>smart</td>\n",
       "    </tr>\n",
       "    <tr>\n",
       "      <th>3</th>\n",
       "      <td>1003</td>\n",
       "      <td>23</td>\n",
       "      <td>NaN</td>\n",
       "      <td>Москва</td>\n",
       "      <td>Белла</td>\n",
       "      <td>Белякова</td>\n",
       "      <td>2018-08-17</td>\n",
       "      <td>ultra</td>\n",
       "    </tr>\n",
       "    <tr>\n",
       "      <th>4</th>\n",
       "      <td>1004</td>\n",
       "      <td>68</td>\n",
       "      <td>NaN</td>\n",
       "      <td>Новокузнецк</td>\n",
       "      <td>Татьяна</td>\n",
       "      <td>Авдеенко</td>\n",
       "      <td>2018-05-14</td>\n",
       "      <td>ultra</td>\n",
       "    </tr>\n",
       "  </tbody>\n",
       "</table>\n",
       "</div>"
      ],
      "text/plain": [
       "   user_id  age churn_date         city first_name  last_name    reg_date  \\\n",
       "0  1000     52   NaN        Краснодар    Рафаил     Верещагин  2018-05-25   \n",
       "1  1001     41   NaN        Москва       Иван       Ежов       2018-11-01   \n",
       "2  1002     59   NaN        Стерлитамак  Евгений    Абрамович  2018-06-17   \n",
       "3  1003     23   NaN        Москва       Белла      Белякова   2018-08-17   \n",
       "4  1004     68   NaN        Новокузнецк  Татьяна    Авдеенко   2018-05-14   \n",
       "\n",
       "  tariff  \n",
       "0  ultra  \n",
       "1  smart  \n",
       "2  smart  \n",
       "3  ultra  \n",
       "4  ultra  "
      ]
     },
     "metadata": {},
     "output_type": "display_data"
    },
    {
     "name": "stdout",
     "output_type": "stream",
     "text": [
      "__________________________________________________\n",
      "\u001b[1mТипы и размер данных\u001b[0m\n",
      "<class 'pandas.core.frame.DataFrame'>\n",
      "RangeIndex: 500 entries, 0 to 499\n",
      "Data columns (total 8 columns):\n",
      " #   Column      Non-Null Count  Dtype \n",
      "---  ------      --------------  ----- \n",
      " 0   user_id     500 non-null    int64 \n",
      " 1   age         500 non-null    int64 \n",
      " 2   churn_date  38 non-null     object\n",
      " 3   city        500 non-null    object\n",
      " 4   first_name  500 non-null    object\n",
      " 5   last_name   500 non-null    object\n",
      " 6   reg_date    500 non-null    object\n",
      " 7   tariff      500 non-null    object\n",
      "dtypes: int64(2), object(6)\n",
      "memory usage: 31.4+ KB\n"
     ]
    },
    {
     "data": {
      "text/plain": [
       "None"
      ]
     },
     "metadata": {},
     "output_type": "display_data"
    },
    {
     "name": "stdout",
     "output_type": "stream",
     "text": [
      "__________________________________________________\n",
      "\u001b[1mСтатистика\u001b[0m\n"
     ]
    },
    {
     "data": {
      "text/html": [
       "<div>\n",
       "<style scoped>\n",
       "    .dataframe tbody tr th:only-of-type {\n",
       "        vertical-align: middle;\n",
       "    }\n",
       "\n",
       "    .dataframe tbody tr th {\n",
       "        vertical-align: top;\n",
       "    }\n",
       "\n",
       "    .dataframe thead th {\n",
       "        text-align: right;\n",
       "    }\n",
       "</style>\n",
       "<table border=\"1\" class=\"dataframe\">\n",
       "  <thead>\n",
       "    <tr style=\"text-align: right;\">\n",
       "      <th></th>\n",
       "      <th>user_id</th>\n",
       "      <th>age</th>\n",
       "    </tr>\n",
       "  </thead>\n",
       "  <tbody>\n",
       "    <tr>\n",
       "      <th>count</th>\n",
       "      <td>500.000000</td>\n",
       "      <td>500.00000</td>\n",
       "    </tr>\n",
       "    <tr>\n",
       "      <th>mean</th>\n",
       "      <td>1249.500000</td>\n",
       "      <td>46.58800</td>\n",
       "    </tr>\n",
       "    <tr>\n",
       "      <th>std</th>\n",
       "      <td>144.481833</td>\n",
       "      <td>16.66763</td>\n",
       "    </tr>\n",
       "    <tr>\n",
       "      <th>min</th>\n",
       "      <td>1000.000000</td>\n",
       "      <td>18.00000</td>\n",
       "    </tr>\n",
       "    <tr>\n",
       "      <th>25%</th>\n",
       "      <td>1124.750000</td>\n",
       "      <td>32.00000</td>\n",
       "    </tr>\n",
       "    <tr>\n",
       "      <th>50%</th>\n",
       "      <td>1249.500000</td>\n",
       "      <td>46.00000</td>\n",
       "    </tr>\n",
       "    <tr>\n",
       "      <th>75%</th>\n",
       "      <td>1374.250000</td>\n",
       "      <td>62.00000</td>\n",
       "    </tr>\n",
       "    <tr>\n",
       "      <th>max</th>\n",
       "      <td>1499.000000</td>\n",
       "      <td>75.00000</td>\n",
       "    </tr>\n",
       "  </tbody>\n",
       "</table>\n",
       "</div>"
      ],
      "text/plain": [
       "           user_id        age\n",
       "count  500.000000   500.00000\n",
       "mean   1249.500000  46.58800 \n",
       "std    144.481833   16.66763 \n",
       "min    1000.000000  18.00000 \n",
       "25%    1124.750000  32.00000 \n",
       "50%    1249.500000  46.00000 \n",
       "75%    1374.250000  62.00000 \n",
       "max    1499.000000  75.00000 "
      ]
     },
     "metadata": {},
     "output_type": "display_data"
    },
    {
     "name": "stdout",
     "output_type": "stream",
     "text": [
      "__________________________________________________\n",
      "\u001b[1mВсего пропусков:\u001b[0m\n"
     ]
    },
    {
     "data": {
      "text/plain": [
       "user_id       0  \n",
       "age           0  \n",
       "churn_date    462\n",
       "city          0  \n",
       "first_name    0  \n",
       "last_name     0  \n",
       "reg_date      0  \n",
       "tariff        0  \n",
       "dtype: int64"
      ]
     },
     "metadata": {},
     "output_type": "display_data"
    },
    {
     "name": "stdout",
     "output_type": "stream",
     "text": [
      "__________________________________________________\n",
      "\u001b[1mПолные дубликаты:0\u001b[0m\n",
      "__________________________________________________\n",
      "\u001b[1mЗначения столбцов:\u001b[0m\n",
      " \n",
      "\u001b[1muser_id\u001b[0m\n",
      "1000    1\n",
      "1329    1\n",
      "1342    1\n",
      "1341    1\n",
      "1340    1\n",
      "       ..\n",
      "1161    1\n",
      "1160    1\n",
      "1159    1\n",
      "1158    1\n",
      "1499    1\n",
      "Name: user_id, Length: 500, dtype: int64\n",
      "__________________________________________________\n",
      "\n",
      "\u001b[1mage\u001b[0m\n",
      "53    14\n",
      "42    14\n",
      "63    13\n",
      "64    13\n",
      "71    13\n",
      "73    12\n",
      "21    12\n",
      "40    12\n",
      "37    11\n",
      "29    11\n",
      "39    11\n",
      "26    11\n",
      "47    11\n",
      "70    10\n",
      "45    10\n",
      "41    10\n",
      "52    10\n",
      "58    10\n",
      "36    10\n",
      "66    9 \n",
      "23    9 \n",
      "50    9 \n",
      "65    9 \n",
      "19    9 \n",
      "48    9 \n",
      "24    9 \n",
      "68    9 \n",
      "27    9 \n",
      "28    9 \n",
      "51    9 \n",
      "20    9 \n",
      "56    9 \n",
      "30    9 \n",
      "60    8 \n",
      "44    8 \n",
      "69    8 \n",
      "62    8 \n",
      "55    8 \n",
      "74    7 \n",
      "25    7 \n",
      "46    7 \n",
      "35    7 \n",
      "32    7 \n",
      "67    7 \n",
      "43    7 \n",
      "31    7 \n",
      "18    6 \n",
      "75    6 \n",
      "54    6 \n",
      "59    6 \n",
      "72    5 \n",
      "22    5 \n",
      "34    5 \n",
      "33    5 \n",
      "38    5 \n",
      "49    4 \n",
      "57    4 \n",
      "61    3 \n",
      "Name: age, dtype: int64\n",
      "__________________________________________________\n",
      "\n",
      "\u001b[1mchurn_date\u001b[0m\n",
      "2018-12-03    2\n",
      "2018-10-03    2\n",
      "2018-10-14    2\n",
      "2018-12-09    2\n",
      "2018-12-21    2\n",
      "2018-12-30    1\n",
      "2018-10-28    1\n",
      "2018-11-26    1\n",
      "2018-11-27    1\n",
      "2018-11-16    1\n",
      "2018-10-27    1\n",
      "2018-10-05    1\n",
      "2018-09-27    1\n",
      "2018-11-13    1\n",
      "2018-12-25    1\n",
      "2018-12-14    1\n",
      "2018-12-24    1\n",
      "2018-09-26    1\n",
      "2018-11-22    1\n",
      "2018-08-17    1\n",
      "2018-10-04    1\n",
      "2018-09-02    1\n",
      "2018-12-18    1\n",
      "2018-11-30    1\n",
      "2018-12-20    1\n",
      "2018-12-16    1\n",
      "2018-11-07    1\n",
      "2018-12-23    1\n",
      "2018-08-31    1\n",
      "2018-12-26    1\n",
      "2018-12-11    1\n",
      "2018-11-21    1\n",
      "2018-10-25    1\n",
      "Name: churn_date, dtype: int64\n",
      "__________________________________________________\n",
      "\n",
      "\u001b[1mcity\u001b[0m\n",
      "Москва             99\n",
      "Санкт-Петербург    39\n",
      "Новосибирск        16\n",
      "Омск               14\n",
      "Казань             14\n",
      "                   ..\n",
      "Архангельск        1 \n",
      "Иваново            1 \n",
      "Нижневартовск      1 \n",
      "Химки              1 \n",
      "Подольск           1 \n",
      "Name: city, Length: 76, dtype: int64\n",
      "__________________________________________________\n",
      "\n",
      "\u001b[1mfirst_name\u001b[0m\n",
      "Радим      6\n",
      "Леонид     5\n",
      "Пётр       5\n",
      "Андрей     4\n",
      "Адам       4\n",
      "          ..\n",
      "Зинаида    1\n",
      "Глеб       1\n",
      "Роза       1\n",
      "Юзефа      1\n",
      "Трифон     1\n",
      "Name: first_name, Length: 246, dtype: int64\n",
      "__________________________________________________\n",
      "\n",
      "\u001b[1mlast_name\u001b[0m\n",
      "Андреенко     5\n",
      "Березина      3\n",
      "Аркадьев      3\n",
      "Булгаков      3\n",
      "Соловьев      3\n",
      "             ..\n",
      "Медведев      1\n",
      "Минаева       1\n",
      "Авдонюшкин    1\n",
      "Андрейчук     1\n",
      "Акимчин       1\n",
      "Name: last_name, Length: 419, dtype: int64\n",
      "__________________________________________________\n",
      "\n",
      "\u001b[1mreg_date\u001b[0m\n",
      "2018-05-28    8\n",
      "2018-11-16    5\n",
      "2018-10-05    5\n",
      "2018-04-03    5\n",
      "2018-01-04    5\n",
      "             ..\n",
      "2018-09-20    1\n",
      "2018-04-28    1\n",
      "2018-08-07    1\n",
      "2018-06-18    1\n",
      "2018-04-25    1\n",
      "Name: reg_date, Length: 270, dtype: int64\n",
      "__________________________________________________\n",
      "\n",
      "\u001b[1mtariff\u001b[0m\n",
      "smart    351\n",
      "ultra    149\n",
      "Name: tariff, dtype: int64\n",
      "__________________________________________________\n",
      "\n"
     ]
    }
   ],
   "source": [
    "#вывод на экран части таблицы и её описание\n",
    "users = display_datainfo('users.csv', sep=',')"
   ]
  },
  {
   "cell_type": "code",
   "execution_count": 9,
   "metadata": {},
   "outputs": [
    {
     "name": "stdout",
     "output_type": "stream",
     "text": [
      "Все пользователи подключили тарифы в течение периода: 2018-01-01 - 2018-12-31\n"
     ]
    }
   ],
   "source": [
    "print('Все пользователи подключили тарифы в течение периода:', users['reg_date'].min(),'-', users['reg_date'].max())"
   ]
  },
  {
   "cell_type": "markdown",
   "metadata": {},
   "source": [
    "### Вывод"
   ]
  },
  {
   "cell_type": "markdown",
   "metadata": {},
   "source": [
    "В ходе первичного обзора данных обратили внимание на следующие особенности:\n",
    "\n",
    "1. Таблица `calls` содержит информацию о времени и продолжительности всех звонков выбранных абонентов за 2018 год. В таблице 202607 строк и 4 столбца. Названия столбцов заданы корректно. Пропусков в структуре данных нет. \n",
    "2. В столбце `duration` 39613 нулевых значения - почти 20% от общего числа звонков. Нули могут быть пропущенными вызовами. Необходимо исследовать чувствительность результатов исследования к наличию или отстутсвию таких значений в датасете. \n",
    "3. Таблица `internet` содержит информацию о времени и объеме всех интернет-сессий абонентов за период. В таблице 149396 и 5 столбцов. Названия столбцов заданы корректно.Столбец `Unnamed: 0` дублирует индексы. Вероятно, он появился из-за неправильной выгрузке данных. От него можно избавиться. Пропусков в структуре данных нет. \n",
    "4. В столбце `mb_used` 19598 нулевых значения - 13% от общего числа сессий. Это могут быть мнгновенные подключения со стороны пользователя или тестовые запуски приложений с объемом трафика до 10 Кб. Необходимо исследовать чувствительность результатов исследования к наличию или отстутсвию таких значений в датасете.\n",
    "5. Таблица `messages` содержит информацию о времени отправки всех смс-сообщений абонентов за период. В таблице 123036 строк и 3 столбца. Названия столбцов заданы корректно. Пропусков в структуре данных нет.\n",
    "6. Таблица `tariffs` содержит параметры тарифных планов. В таблице 2 строки и 8 столбцов. Названия столбцов заданы корректно. Пропусков в структуре данных нет. Типы данных для числовых значений заданы оптимально - int64. \n",
    "7. Таблица `users` содержит информацию о пользователях: имя, фамилия, возраст, город, тариф, дата подключения и выхода из тарифа. В таблице 500 строк и 8 столбцов. Названия столбцов заданы корректно.\n",
    "8. В столбце `churn_date`  есть пропуски и только 38 значений из 500 заполнены. Более 7% пользователей сменили тариф в течение года.\n",
    "9. Все пользователи в таблице подключили тарифы в 2018 году.\n",
    "10. Данные в столбцах: `call_date`,`session_date`, `churn_date`, `reg_date`, `message_date` хранятся в формате float. Целесообразно изменить тип данных на datetime.  \n",
    "11. Тип данных столбцов: `user_id`- int64. Данные можно хранить в типе данных int32, т.о. файл будет занимать меньше места на диске.\n",
    "12. Данные необходимо проверить на дубликаты, ошибки, выбросы.\n",
    "13. Для исследования предоставлены данные по 500 абонентам, пользующимся исследуемыми тарифами \"Смарт\" и \"Ультра\" за 2018 год.\n",
    "14. Пользователей тарифа \"Смарт\" в выборке - 351 - в 2,35 раза больше, чем пользователей тарифа \"Ультра\" - 149."
   ]
  },
  {
   "cell_type": "markdown",
   "metadata": {},
   "source": [
    "## Предобработка данных"
   ]
  },
  {
   "cell_type": "markdown",
   "metadata": {},
   "source": [
    "### Обработка дубликатов"
   ]
  },
  {
   "cell_type": "markdown",
   "metadata": {},
   "source": [
    "Дубликаты не обнаружены.\n",
    "\n",
    "Столбец `Unnamed: 0` в таблице `internet` дублирует индексы. Отбросим его."
   ]
  },
  {
   "cell_type": "code",
   "execution_count": 10,
   "metadata": {},
   "outputs": [
    {
     "data": {
      "text/html": [
       "<div>\n",
       "<style scoped>\n",
       "    .dataframe tbody tr th:only-of-type {\n",
       "        vertical-align: middle;\n",
       "    }\n",
       "\n",
       "    .dataframe tbody tr th {\n",
       "        vertical-align: top;\n",
       "    }\n",
       "\n",
       "    .dataframe thead th {\n",
       "        text-align: right;\n",
       "    }\n",
       "</style>\n",
       "<table border=\"1\" class=\"dataframe\">\n",
       "  <thead>\n",
       "    <tr style=\"text-align: right;\">\n",
       "      <th></th>\n",
       "      <th>id</th>\n",
       "      <th>user_id</th>\n",
       "      <th>session_date</th>\n",
       "      <th>mb_used</th>\n",
       "    </tr>\n",
       "  </thead>\n",
       "  <tbody>\n",
       "    <tr>\n",
       "      <th>0</th>\n",
       "      <td>1000_0</td>\n",
       "      <td>1000</td>\n",
       "      <td>2018-11-25</td>\n",
       "      <td>112.95</td>\n",
       "    </tr>\n",
       "    <tr>\n",
       "      <th>1</th>\n",
       "      <td>1000_1</td>\n",
       "      <td>1000</td>\n",
       "      <td>2018-09-07</td>\n",
       "      <td>1052.81</td>\n",
       "    </tr>\n",
       "  </tbody>\n",
       "</table>\n",
       "</div>"
      ],
      "text/plain": [
       "       id  user_id session_date  mb_used\n",
       "0  1000_0  1000     2018-11-25   112.95 \n",
       "1  1000_1  1000     2018-09-07   1052.81"
      ]
     },
     "execution_count": 10,
     "metadata": {},
     "output_type": "execute_result"
    }
   ],
   "source": [
    "internet = internet[['id','user_id','session_date','mb_used']]\n",
    "internet.head(2) #Проверим результат преобразования"
   ]
  },
  {
   "cell_type": "markdown",
   "metadata": {},
   "source": [
    "### Изменение типов данных"
   ]
  },
  {
   "cell_type": "markdown",
   "metadata": {},
   "source": [
    "Данные в столбцах: `call_date`, `session_date`, `churn_date`, `reg_date`, `message_date` хранятся в формате float. Применим функцию to_datetime() для замены типа данных на datetime."
   ]
  },
  {
   "cell_type": "code",
   "execution_count": 11,
   "metadata": {},
   "outputs": [
    {
     "data": {
      "text/plain": [
       "0   2018-07-25\n",
       "1   2018-08-17\n",
       "Name: call_date, dtype: datetime64[ns]"
      ]
     },
     "execution_count": 11,
     "metadata": {},
     "output_type": "execute_result"
    }
   ],
   "source": [
    "calls['call_date'] = pd.to_datetime(calls['call_date'], format='%Y-%m-%d')\n",
    "calls['call_date'].head(2) #Проверим результат преобразования"
   ]
  },
  {
   "cell_type": "code",
   "execution_count": 12,
   "metadata": {},
   "outputs": [
    {
     "data": {
      "text/plain": [
       "0   2018-07-25\n",
       "1   2018-08-17\n",
       "Name: call_date, dtype: datetime64[ns]"
      ]
     },
     "execution_count": 12,
     "metadata": {},
     "output_type": "execute_result"
    }
   ],
   "source": [
    "internet['session_date'] = pd.to_datetime(internet['session_date'], format='%Y-%m-%d')\n",
    "calls['call_date'].head(2)"
   ]
  },
  {
   "cell_type": "code",
   "execution_count": 13,
   "metadata": {},
   "outputs": [
    {
     "data": {
      "text/plain": [
       "0   2018-07-25\n",
       "1   2018-08-17\n",
       "Name: call_date, dtype: datetime64[ns]"
      ]
     },
     "execution_count": 13,
     "metadata": {},
     "output_type": "execute_result"
    }
   ],
   "source": [
    "messages['message_date'] = pd.to_datetime(messages['message_date'], format='%Y-%m-%d')\n",
    "calls['call_date'].head(2)"
   ]
  },
  {
   "cell_type": "code",
   "execution_count": 14,
   "metadata": {},
   "outputs": [
    {
     "data": {
      "text/plain": [
       "0   NaT\n",
       "1   NaT\n",
       "Name: churn_date, dtype: datetime64[ns]"
      ]
     },
     "execution_count": 14,
     "metadata": {},
     "output_type": "execute_result"
    }
   ],
   "source": [
    "users['churn_date'] = pd.to_datetime(users['churn_date'], format='%Y-%m-%d')\n",
    "users['churn_date'].head(2)"
   ]
  },
  {
   "cell_type": "code",
   "execution_count": 15,
   "metadata": {},
   "outputs": [
    {
     "data": {
      "text/plain": [
       "0   2018-05-25\n",
       "1   2018-11-01\n",
       "Name: reg_date, dtype: datetime64[ns]"
      ]
     },
     "execution_count": 15,
     "metadata": {},
     "output_type": "execute_result"
    }
   ],
   "source": [
    "users['reg_date'] = pd.to_datetime(users['reg_date'], format='%Y-%m-%d')\n",
    "users['reg_date'].head(2)"
   ]
  },
  {
   "cell_type": "markdown",
   "metadata": {},
   "source": [
    "Тип данных столбцов: user_id - int64. Данные можно хранить в типе данных int32, т.о. файл будет занимать меньше места на диске. Для замены типа данных используем метод .astype('int32')."
   ]
  },
  {
   "cell_type": "code",
   "execution_count": 16,
   "metadata": {},
   "outputs": [
    {
     "data": {
      "text/plain": [
       "0    1000\n",
       "1    1000\n",
       "Name: user_id, dtype: int32"
      ]
     },
     "execution_count": 16,
     "metadata": {},
     "output_type": "execute_result"
    }
   ],
   "source": [
    "calls['user_id'] = calls['user_id'].astype('int32')\n",
    "calls['user_id'].head(2)  #Проверим результат преобразования"
   ]
  },
  {
   "cell_type": "code",
   "execution_count": 17,
   "metadata": {},
   "outputs": [
    {
     "data": {
      "text/plain": [
       "0    1000\n",
       "1    1000\n",
       "Name: user_id, dtype: int32"
      ]
     },
     "execution_count": 17,
     "metadata": {},
     "output_type": "execute_result"
    }
   ],
   "source": [
    "messages['user_id'] = messages['user_id'].astype('int32')\n",
    "messages['user_id'].head(2)"
   ]
  },
  {
   "cell_type": "code",
   "execution_count": 18,
   "metadata": {},
   "outputs": [
    {
     "data": {
      "text/plain": [
       "0    1000\n",
       "1    1000\n",
       "Name: user_id, dtype: int32"
      ]
     },
     "execution_count": 18,
     "metadata": {},
     "output_type": "execute_result"
    }
   ],
   "source": [
    "internet['user_id'] = internet['user_id'].astype('int32')\n",
    "internet['user_id'].head(2)"
   ]
  },
  {
   "cell_type": "code",
   "execution_count": 19,
   "metadata": {},
   "outputs": [
    {
     "data": {
      "text/plain": [
       "0    1000\n",
       "1    1001\n",
       "Name: user_id, dtype: int32"
      ]
     },
     "execution_count": 19,
     "metadata": {},
     "output_type": "execute_result"
    }
   ],
   "source": [
    "users['user_id'] = users['user_id'].astype('int32')\n",
    "users['user_id'].head(2)"
   ]
  },
  {
   "cell_type": "markdown",
   "metadata": {},
   "source": [
    "### Обработка ошибок"
   ]
  },
  {
   "cell_type": "markdown",
   "metadata": {},
   "source": [
    "- В столбце `duration` 39613 нулевых значения - почти 20% от общего числа звонков. Нули могут быть пропущенными вызовами. \n",
    "- В столбце `mb_used` 19598 нулевых значения - 13% от общего числа сессий. Это могут быть мнгновенные подключения со стороны пользователя или тестовые запуски приложений с объемом трафика до 10 Кб.\n",
    "\n",
    "На расчет показателей выручки нулевые значения не повлияют, но окажут влияние на важные статистические метрики.\n",
    "\n",
    "Проверим, как нулевые значения длительности звонков и объёма потраченного за сессию интернет-трафика повлияют на оценку средних значений."
   ]
  },
  {
   "cell_type": "markdown",
   "metadata": {},
   "source": [
    "#### Длительность звонков"
   ]
  },
  {
   "cell_type": "code",
   "execution_count": 20,
   "metadata": {},
   "outputs": [
    {
     "data": {
      "text/plain": [
       "count    202607.000000\n",
       "mean     6.755887     \n",
       "std      5.843365     \n",
       "min      0.000000     \n",
       "25%      1.300000     \n",
       "50%      6.000000     \n",
       "75%      10.700000    \n",
       "max      38.000000    \n",
       "Name: duration, dtype: float64"
      ]
     },
     "execution_count": 20,
     "metadata": {},
     "output_type": "execute_result"
    }
   ],
   "source": [
    "calls['duration'].describe() #Оценка средних и отклонений"
   ]
  },
  {
   "cell_type": "code",
   "execution_count": 21,
   "metadata": {
    "scrolled": false
   },
   "outputs": [
    {
     "data": {
      "image/png": "[encoded data removed]",
      "text/plain": [
       "<Figure size 432x288 with 1 Axes>"
      ]
     },
     "metadata": {
      "needs_background": "light"
     },
     "output_type": "display_data"
    }
   ],
   "source": [
    "plt.title('Распределение значений длительности звонков')\n",
    "plt.xlabel('минуты')\n",
    "plt.ylabel('число случаев')\n",
    "calls['duration'].hist(bins=38); #Оценка распределения и выбросов"
   ]
  },
  {
   "cell_type": "markdown",
   "metadata": {},
   "source": [
    "Характер распределения значений нормальный. Разброс значений от 0 до 38 мин - в пределах нормы. Нулевые значения имеют признаки выбросов. Среднее и медиана - 6.8 мин и 6 мин соответсвенно.\n",
    "\n",
    "Отбросим строки с нулевыми значениями и оценим изменения."
   ]
  },
  {
   "cell_type": "code",
   "execution_count": 22,
   "metadata": {},
   "outputs": [],
   "source": [
    "calls = calls.loc[calls['duration']>0]"
   ]
  },
  {
   "cell_type": "code",
   "execution_count": 23,
   "metadata": {
    "scrolled": true
   },
   "outputs": [
    {
     "data": {
      "text/plain": [
       "count    162994.000000\n",
       "mean     8.397794     \n",
       "std      5.353022     \n",
       "min      0.010000     \n",
       "25%      4.170000     \n",
       "50%      7.740000     \n",
       "75%      11.850000    \n",
       "max      38.000000    \n",
       "Name: duration, dtype: float64"
      ]
     },
     "execution_count": 23,
     "metadata": {},
     "output_type": "execute_result"
    }
   ],
   "source": [
    "calls['duration'].describe() #Оценка средних и отклонений после преобразований"
   ]
  },
  {
   "cell_type": "markdown",
   "metadata": {},
   "source": [
    "После удаления нулей  среднее и медиана увеличились - 8.4 мин и 7.7 мин соответсвенно. На самом деле средний звонок длится на четверть дольше, чем мы полагали до очистки данных."
   ]
  },
  {
   "cell_type": "markdown",
   "metadata": {},
   "source": [
    "#### Объем интернет-трафика"
   ]
  },
  {
   "cell_type": "code",
   "execution_count": 24,
   "metadata": {},
   "outputs": [
    {
     "data": {
      "text/plain": [
       "count    149396.000000\n",
       "mean     370.192426   \n",
       "std      278.300951   \n",
       "min      0.000000     \n",
       "25%      138.187500   \n",
       "50%      348.015000   \n",
       "75%      559.552500   \n",
       "max      1724.830000  \n",
       "Name: mb_used, dtype: float64"
      ]
     },
     "execution_count": 24,
     "metadata": {},
     "output_type": "execute_result"
    }
   ],
   "source": [
    "internet['mb_used'].describe() #Оценка средних и отклонений"
   ]
  },
  {
   "cell_type": "code",
   "execution_count": 25,
   "metadata": {
    "scrolled": false
   },
   "outputs": [
    {
     "data": {
      "image/png": "[encoded data removed]",
      "text/plain": [
       "<Figure size 432x288 with 1 Axes>"
      ]
     },
     "metadata": {
      "needs_background": "light"
     },
     "output_type": "display_data"
    }
   ],
   "source": [
    "plt.title('Распределение значений расхода интернет-трафика за одну сессию')\n",
    "plt.xlabel('Мб')\n",
    "plt.ylabel('число случаев')\n",
    "internet['mb_used'].hist(bins=100); #Оценка распределения и выбросов"
   ]
  },
  {
   "cell_type": "code",
   "execution_count": 26,
   "metadata": {},
   "outputs": [
    {
     "data": {
      "image/png": "[encoded data removed]",
      "text/plain": [
       "<Figure size 432x288 with 1 Axes>"
      ]
     },
     "metadata": {
      "needs_background": "light"
     },
     "output_type": "display_data"
    }
   ],
   "source": [
    "plt.title('Распределение высоких значений расхода интернет-трафика')\n",
    "plt.xlabel('Мб')\n",
    "plt.ylabel('число случаев')\n",
    "internet['mb_used'].hist(bins=100, range=(1200,1750));"
   ]
  },
  {
   "cell_type": "code",
   "execution_count": 27,
   "metadata": {},
   "outputs": [
    {
     "data": {
      "image/png": "[encoded data removed]",
      "text/plain": [
       "<Figure size 432x288 with 1 Axes>"
      ]
     },
     "metadata": {
      "needs_background": "light"
     },
     "output_type": "display_data"
    }
   ],
   "source": [
    "plt.ylim(1200, 1750)\n",
    "internet.boxplot(column='mb_used');"
   ]
  },
  {
   "cell_type": "code",
   "execution_count": 28,
   "metadata": {},
   "outputs": [
    {
     "data": {
      "text/plain": [
       "0.0019813114139602133"
      ]
     },
     "execution_count": 28,
     "metadata": {},
     "output_type": "execute_result"
    }
   ],
   "source": [
    "#Доля значений более 1250 Мб в общем числе.\n",
    "len(internet.query('mb_used >1250'))/len(internet)"
   ]
  },
  {
   "cell_type": "code",
   "execution_count": 29,
   "metadata": {},
   "outputs": [
    {
     "data": {
      "text/plain": [
       "0.007239673659202085"
      ]
     },
     "execution_count": 29,
     "metadata": {},
     "output_type": "execute_result"
    }
   ],
   "source": [
    "internet.query('mb_used >1250')['mb_used'].sum()/internet['mb_used'].sum()"
   ]
  },
  {
   "cell_type": "markdown",
   "metadata": {},
   "source": [
    "Характер распределения значений нормальный. На долю высоких значений от 1250 Мб (0,2% от общего числа) приходится 0,7% от всего трафика. Такие доли не являются статистически значимыми. На значениях более 1250 наблюдается плавная нисходящая динамика гистограммы и её дискретность с незначительными интервалами между значениями. Следует игнорировать высокие значения, т.к. их наличие не отразится на результах исследования, а отсутсвие даст искаженную картину в разрезе использованного трафика по отдельным пользователям.\n",
    "\n",
    "Разброс значений от 0 до 1725 Мб находится в пределах нормы.  Нулевые значения имеют признаки выбросов. Среднее и медиана - 370 и 348 Мб соответсвенно.\n",
    "\n",
    "Отбросим строки с нулевыми значениями и оценим изменения."
   ]
  },
  {
   "cell_type": "code",
   "execution_count": 30,
   "metadata": {},
   "outputs": [],
   "source": [
    "internet = internet.loc[internet['mb_used']>0]"
   ]
  },
  {
   "cell_type": "code",
   "execution_count": 31,
   "metadata": {},
   "outputs": [
    {
     "data": {
      "text/plain": [
       "count    129798.000000\n",
       "mean     426.087210   \n",
       "std      255.596447   \n",
       "min      0.030000     \n",
       "25%      227.460000   \n",
       "50%      400.540000   \n",
       "75%      592.947500   \n",
       "max      1724.830000  \n",
       "Name: mb_used, dtype: float64"
      ]
     },
     "execution_count": 31,
     "metadata": {},
     "output_type": "execute_result"
    }
   ],
   "source": [
    "internet['mb_used'].describe() #Оценка средних и отклонений после преобразований"
   ]
  },
  {
   "cell_type": "markdown",
   "metadata": {},
   "source": [
    "После удаления нулей среднее и медиана увеличились - 426 и 400 Мб соответсвенно. В среднем пользователь тратит на 15% больше трафика за сессию, чем мы полагали до очистки данных."
   ]
  },
  {
   "cell_type": "markdown",
   "metadata": {},
   "source": [
    "### Вывод"
   ]
  },
  {
   "cell_type": "markdown",
   "metadata": {},
   "source": [
    "Мы провели первичный анализ и обработку данных: \n",
    "\n",
    "* Проверили данные на наличие дубликатов. В таблице `internet` удалили столбец, дублирующий индексы.\n",
    "* Заменили типы данных в столбцах: `call_date`, `session_date`, `churn_date`, `reg_date`, `message_date` на datetime. \n",
    "* Тип данных столбцов `user_id` заменили на более компактный int32.\n",
    "* Выявили и отбросили нулевые значения в столбцах `calls['duration']` и `internet['mb_used']`, которые влияли на характер распределения и статистические метрики этих видов трафика. Нули могут появиться в результате пропущенных вызовов, мгновенного подключения к интернету со стороны пользователя или тестовых запусков приложений с объемом трафика до 10 Кб. После удаления нулей средние значения увеличились на 25% и 15% сответсвенно."
   ]
  },
  {
   "cell_type": "markdown",
   "metadata": {},
   "source": [
    "## Рассчёты и добавление результатов в таблицу"
   ]
  },
  {
   "cell_type": "markdown",
   "metadata": {},
   "source": [
    "### Дополнение и группировка данных трафика"
   ]
  },
  {
   "cell_type": "markdown",
   "metadata": {},
   "source": [
    "- Дополним таблицы `calls`, `internet` и `messages` столбцами `month` с порядковым номером месяца методом .dt.month.\n",
    "- Дополним таблицу `calls` столбцом `duration_estimated` с округленной до целых минут в большую сторону длительностью звонка.\n",
    "- Дополним таблицу `internet` столбцом `mb_used_estimated` с округленным до целых Мб в большую сторону трафиком.\n",
    "- Создадим таблицы `calls_grouped`, `internet_grouped` и `messages_grouped`, сгруппированные по столбцам `user_id` и `month`. "
   ]
  },
  {
   "cell_type": "code",
   "execution_count": 32,
   "metadata": {},
   "outputs": [],
   "source": [
    "calls['duration_estimated'] = calls['duration'].apply(np.ceil).astype('int')"
   ]
  },
  {
   "cell_type": "code",
   "execution_count": 33,
   "metadata": {
    "scrolled": false
   },
   "outputs": [
    {
     "data": {
      "text/html": [
       "<div>\n",
       "<style scoped>\n",
       "    .dataframe tbody tr th:only-of-type {\n",
       "        vertical-align: middle;\n",
       "    }\n",
       "\n",
       "    .dataframe tbody tr th {\n",
       "        vertical-align: top;\n",
       "    }\n",
       "\n",
       "    .dataframe thead th {\n",
       "        text-align: right;\n",
       "    }\n",
       "</style>\n",
       "<table border=\"1\" class=\"dataframe\">\n",
       "  <thead>\n",
       "    <tr style=\"text-align: right;\">\n",
       "      <th></th>\n",
       "      <th>id</th>\n",
       "      <th>call_date</th>\n",
       "      <th>duration</th>\n",
       "      <th>user_id</th>\n",
       "      <th>duration_estimated</th>\n",
       "      <th>month</th>\n",
       "    </tr>\n",
       "  </thead>\n",
       "  <tbody>\n",
       "    <tr>\n",
       "      <th>48347</th>\n",
       "      <td>1121_4</td>\n",
       "      <td>2018-11-04</td>\n",
       "      <td>8.65</td>\n",
       "      <td>1121</td>\n",
       "      <td>9</td>\n",
       "      <td>11</td>\n",
       "    </tr>\n",
       "    <tr>\n",
       "      <th>145756</th>\n",
       "      <td>1370_142</td>\n",
       "      <td>2018-05-22</td>\n",
       "      <td>13.62</td>\n",
       "      <td>1370</td>\n",
       "      <td>14</td>\n",
       "      <td>5</td>\n",
       "    </tr>\n",
       "    <tr>\n",
       "      <th>167878</th>\n",
       "      <td>1413_88</td>\n",
       "      <td>2018-12-05</td>\n",
       "      <td>7.70</td>\n",
       "      <td>1413</td>\n",
       "      <td>8</td>\n",
       "      <td>12</td>\n",
       "    </tr>\n",
       "    <tr>\n",
       "      <th>113495</th>\n",
       "      <td>1291_121</td>\n",
       "      <td>2018-03-01</td>\n",
       "      <td>13.11</td>\n",
       "      <td>1291</td>\n",
       "      <td>14</td>\n",
       "      <td>3</td>\n",
       "    </tr>\n",
       "    <tr>\n",
       "      <th>85268</th>\n",
       "      <td>1213_314</td>\n",
       "      <td>2018-11-10</td>\n",
       "      <td>13.76</td>\n",
       "      <td>1213</td>\n",
       "      <td>14</td>\n",
       "      <td>11</td>\n",
       "    </tr>\n",
       "  </tbody>\n",
       "</table>\n",
       "</div>"
      ],
      "text/plain": [
       "              id  call_date  duration  user_id  duration_estimated  month\n",
       "48347   1121_4   2018-11-04  8.65      1121     9                   11   \n",
       "145756  1370_142 2018-05-22  13.62     1370     14                  5    \n",
       "167878  1413_88  2018-12-05  7.70      1413     8                   12   \n",
       "113495  1291_121 2018-03-01  13.11     1291     14                  3    \n",
       "85268   1213_314 2018-11-10  13.76     1213     14                  11   "
      ]
     },
     "execution_count": 33,
     "metadata": {},
     "output_type": "execute_result"
    }
   ],
   "source": [
    "calls['month'] = calls['call_date'].dt.month\n",
    "calls.sample(5)"
   ]
  },
  {
   "cell_type": "code",
   "execution_count": 34,
   "metadata": {},
   "outputs": [
    {
     "data": {
      "text/html": [
       "<div>\n",
       "<style scoped>\n",
       "    .dataframe tbody tr th:only-of-type {\n",
       "        vertical-align: middle;\n",
       "    }\n",
       "\n",
       "    .dataframe tbody tr th {\n",
       "        vertical-align: top;\n",
       "    }\n",
       "\n",
       "    .dataframe thead th {\n",
       "        text-align: right;\n",
       "    }\n",
       "</style>\n",
       "<table border=\"1\" class=\"dataframe\">\n",
       "  <thead>\n",
       "    <tr style=\"text-align: right;\">\n",
       "      <th></th>\n",
       "      <th>user_id</th>\n",
       "      <th>month</th>\n",
       "      <th>calls_count</th>\n",
       "      <th>calls_duration_total</th>\n",
       "    </tr>\n",
       "  </thead>\n",
       "  <tbody>\n",
       "    <tr>\n",
       "      <th>0</th>\n",
       "      <td>1000</td>\n",
       "      <td>5</td>\n",
       "      <td>17</td>\n",
       "      <td>159</td>\n",
       "    </tr>\n",
       "    <tr>\n",
       "      <th>1</th>\n",
       "      <td>1000</td>\n",
       "      <td>6</td>\n",
       "      <td>28</td>\n",
       "      <td>172</td>\n",
       "    </tr>\n",
       "    <tr>\n",
       "      <th>2</th>\n",
       "      <td>1000</td>\n",
       "      <td>7</td>\n",
       "      <td>41</td>\n",
       "      <td>340</td>\n",
       "    </tr>\n",
       "    <tr>\n",
       "      <th>3</th>\n",
       "      <td>1000</td>\n",
       "      <td>8</td>\n",
       "      <td>42</td>\n",
       "      <td>408</td>\n",
       "    </tr>\n",
       "    <tr>\n",
       "      <th>4</th>\n",
       "      <td>1000</td>\n",
       "      <td>9</td>\n",
       "      <td>46</td>\n",
       "      <td>466</td>\n",
       "    </tr>\n",
       "    <tr>\n",
       "      <th>...</th>\n",
       "      <td>...</td>\n",
       "      <td>...</td>\n",
       "      <td>...</td>\n",
       "      <td>...</td>\n",
       "    </tr>\n",
       "    <tr>\n",
       "      <th>3163</th>\n",
       "      <td>1498</td>\n",
       "      <td>10</td>\n",
       "      <td>30</td>\n",
       "      <td>247</td>\n",
       "    </tr>\n",
       "    <tr>\n",
       "      <th>3164</th>\n",
       "      <td>1499</td>\n",
       "      <td>9</td>\n",
       "      <td>8</td>\n",
       "      <td>70</td>\n",
       "    </tr>\n",
       "    <tr>\n",
       "      <th>3165</th>\n",
       "      <td>1499</td>\n",
       "      <td>10</td>\n",
       "      <td>44</td>\n",
       "      <td>449</td>\n",
       "    </tr>\n",
       "    <tr>\n",
       "      <th>3166</th>\n",
       "      <td>1499</td>\n",
       "      <td>11</td>\n",
       "      <td>62</td>\n",
       "      <td>612</td>\n",
       "    </tr>\n",
       "    <tr>\n",
       "      <th>3167</th>\n",
       "      <td>1499</td>\n",
       "      <td>12</td>\n",
       "      <td>56</td>\n",
       "      <td>492</td>\n",
       "    </tr>\n",
       "  </tbody>\n",
       "</table>\n",
       "<p>3168 rows × 4 columns</p>\n",
       "</div>"
      ],
      "text/plain": [
       "      user_id  month  calls_count  calls_duration_total\n",
       "0     1000     5      17           159                 \n",
       "1     1000     6      28           172                 \n",
       "2     1000     7      41           340                 \n",
       "3     1000     8      42           408                 \n",
       "4     1000     9      46           466                 \n",
       "...    ...    ..      ..           ...                 \n",
       "3163  1498     10     30           247                 \n",
       "3164  1499     9      8            70                  \n",
       "3165  1499     10     44           449                 \n",
       "3166  1499     11     62           612                 \n",
       "3167  1499     12     56           492                 \n",
       "\n",
       "[3168 rows x 4 columns]"
      ]
     },
     "execution_count": 34,
     "metadata": {},
     "output_type": "execute_result"
    }
   ],
   "source": [
    "calls_grouped = calls.groupby(['user_id','month']).agg( #группируем по двум столбцам\n",
    "        calls_count=pd.NamedAgg(column=\"id\", aggfunc='count'), #добавляем столбец с количеством звонков\n",
    "        calls_duration_total=pd.NamedAgg(column=\"duration_estimated\", aggfunc='sum') #добавляем столбец с общей длительностью звонков\n",
    "    ).reset_index()  #сбросим индексы\n",
    "calls_grouped #выведем результат группировки"
   ]
  },
  {
   "cell_type": "code",
   "execution_count": 35,
   "metadata": {},
   "outputs": [],
   "source": [
    "internet['mb_used_estimated'] = internet['mb_used'].apply(np.ceil).astype('int')"
   ]
  },
  {
   "cell_type": "code",
   "execution_count": 36,
   "metadata": {
    "scrolled": true
   },
   "outputs": [
    {
     "data": {
      "text/html": [
       "<div>\n",
       "<style scoped>\n",
       "    .dataframe tbody tr th:only-of-type {\n",
       "        vertical-align: middle;\n",
       "    }\n",
       "\n",
       "    .dataframe tbody tr th {\n",
       "        vertical-align: top;\n",
       "    }\n",
       "\n",
       "    .dataframe thead th {\n",
       "        text-align: right;\n",
       "    }\n",
       "</style>\n",
       "<table border=\"1\" class=\"dataframe\">\n",
       "  <thead>\n",
       "    <tr style=\"text-align: right;\">\n",
       "      <th></th>\n",
       "      <th>id</th>\n",
       "      <th>user_id</th>\n",
       "      <th>session_date</th>\n",
       "      <th>mb_used</th>\n",
       "      <th>mb_used_estimated</th>\n",
       "      <th>month</th>\n",
       "    </tr>\n",
       "  </thead>\n",
       "  <tbody>\n",
       "    <tr>\n",
       "      <th>137926</th>\n",
       "      <td>1464_150</td>\n",
       "      <td>1464</td>\n",
       "      <td>2018-08-23</td>\n",
       "      <td>203.86</td>\n",
       "      <td>204</td>\n",
       "      <td>8</td>\n",
       "    </tr>\n",
       "    <tr>\n",
       "      <th>77482</th>\n",
       "      <td>1262_134</td>\n",
       "      <td>1262</td>\n",
       "      <td>2018-04-07</td>\n",
       "      <td>700.73</td>\n",
       "      <td>701</td>\n",
       "      <td>4</td>\n",
       "    </tr>\n",
       "    <tr>\n",
       "      <th>118720</th>\n",
       "      <td>1401_141</td>\n",
       "      <td>1401</td>\n",
       "      <td>2018-06-30</td>\n",
       "      <td>128.22</td>\n",
       "      <td>129</td>\n",
       "      <td>6</td>\n",
       "    </tr>\n",
       "    <tr>\n",
       "      <th>130040</th>\n",
       "      <td>1433_235</td>\n",
       "      <td>1433</td>\n",
       "      <td>2018-04-25</td>\n",
       "      <td>137.59</td>\n",
       "      <td>138</td>\n",
       "      <td>4</td>\n",
       "    </tr>\n",
       "    <tr>\n",
       "      <th>98453</th>\n",
       "      <td>1330_661</td>\n",
       "      <td>1330</td>\n",
       "      <td>2018-07-03</td>\n",
       "      <td>277.52</td>\n",
       "      <td>278</td>\n",
       "      <td>7</td>\n",
       "    </tr>\n",
       "  </tbody>\n",
       "</table>\n",
       "</div>"
      ],
      "text/plain": [
       "              id  user_id session_date  mb_used  mb_used_estimated  month\n",
       "137926  1464_150  1464    2018-08-23    203.86   204                8    \n",
       "77482   1262_134  1262    2018-04-07    700.73   701                4    \n",
       "118720  1401_141  1401    2018-06-30    128.22   129                6    \n",
       "130040  1433_235  1433    2018-04-25    137.59   138                4    \n",
       "98453   1330_661  1330    2018-07-03    277.52   278                7    "
      ]
     },
     "execution_count": 36,
     "metadata": {},
     "output_type": "execute_result"
    }
   ],
   "source": [
    "internet['month'] = internet['session_date'].dt.month\n",
    "internet.sample(5)"
   ]
  },
  {
   "cell_type": "code",
   "execution_count": 37,
   "metadata": {},
   "outputs": [
    {
     "data": {
      "text/html": [
       "<div>\n",
       "<style scoped>\n",
       "    .dataframe tbody tr th:only-of-type {\n",
       "        vertical-align: middle;\n",
       "    }\n",
       "\n",
       "    .dataframe tbody tr th {\n",
       "        vertical-align: top;\n",
       "    }\n",
       "\n",
       "    .dataframe thead th {\n",
       "        text-align: right;\n",
       "    }\n",
       "</style>\n",
       "<table border=\"1\" class=\"dataframe\">\n",
       "  <thead>\n",
       "    <tr style=\"text-align: right;\">\n",
       "      <th></th>\n",
       "      <th>user_id</th>\n",
       "      <th>month</th>\n",
       "      <th>mb_used_total</th>\n",
       "    </tr>\n",
       "  </thead>\n",
       "  <tbody>\n",
       "    <tr>\n",
       "      <th>0</th>\n",
       "      <td>1000</td>\n",
       "      <td>5</td>\n",
       "      <td>2256</td>\n",
       "    </tr>\n",
       "    <tr>\n",
       "      <th>1</th>\n",
       "      <td>1000</td>\n",
       "      <td>6</td>\n",
       "      <td>23257</td>\n",
       "    </tr>\n",
       "    <tr>\n",
       "      <th>2</th>\n",
       "      <td>1000</td>\n",
       "      <td>7</td>\n",
       "      <td>14016</td>\n",
       "    </tr>\n",
       "    <tr>\n",
       "      <th>3</th>\n",
       "      <td>1000</td>\n",
       "      <td>8</td>\n",
       "      <td>14070</td>\n",
       "    </tr>\n",
       "    <tr>\n",
       "      <th>4</th>\n",
       "      <td>1000</td>\n",
       "      <td>9</td>\n",
       "      <td>14581</td>\n",
       "    </tr>\n",
       "    <tr>\n",
       "      <th>...</th>\n",
       "      <td>...</td>\n",
       "      <td>...</td>\n",
       "      <td>...</td>\n",
       "    </tr>\n",
       "    <tr>\n",
       "      <th>3196</th>\n",
       "      <td>1498</td>\n",
       "      <td>10</td>\n",
       "      <td>20604</td>\n",
       "    </tr>\n",
       "    <tr>\n",
       "      <th>3197</th>\n",
       "      <td>1499</td>\n",
       "      <td>9</td>\n",
       "      <td>1848</td>\n",
       "    </tr>\n",
       "    <tr>\n",
       "      <th>3198</th>\n",
       "      <td>1499</td>\n",
       "      <td>10</td>\n",
       "      <td>17809</td>\n",
       "    </tr>\n",
       "    <tr>\n",
       "      <th>3199</th>\n",
       "      <td>1499</td>\n",
       "      <td>11</td>\n",
       "      <td>17984</td>\n",
       "    </tr>\n",
       "    <tr>\n",
       "      <th>3200</th>\n",
       "      <td>1499</td>\n",
       "      <td>12</td>\n",
       "      <td>13077</td>\n",
       "    </tr>\n",
       "  </tbody>\n",
       "</table>\n",
       "<p>3201 rows × 3 columns</p>\n",
       "</div>"
      ],
      "text/plain": [
       "      user_id  month  mb_used_total\n",
       "0     1000     5      2256         \n",
       "1     1000     6      23257        \n",
       "2     1000     7      14016        \n",
       "3     1000     8      14070        \n",
       "4     1000     9      14581        \n",
       "...    ...    ..        ...        \n",
       "3196  1498     10     20604        \n",
       "3197  1499     9      1848         \n",
       "3198  1499     10     17809        \n",
       "3199  1499     11     17984        \n",
       "3200  1499     12     13077        \n",
       "\n",
       "[3201 rows x 3 columns]"
      ]
     },
     "execution_count": 37,
     "metadata": {},
     "output_type": "execute_result"
    }
   ],
   "source": [
    "internet_grouped = internet.groupby(['user_id','month']).agg( #группируем по двум столбцам\n",
    "        mb_used_total=pd.NamedAgg(column=\"mb_used_estimated\", aggfunc='sum') #добавляем столбец с общим объемом трафика\n",
    "    ).reset_index() #сбросим индексы\n",
    "internet_grouped #выведем результат группировки"
   ]
  },
  {
   "cell_type": "code",
   "execution_count": 38,
   "metadata": {},
   "outputs": [
    {
     "data": {
      "text/html": [
       "<div>\n",
       "<style scoped>\n",
       "    .dataframe tbody tr th:only-of-type {\n",
       "        vertical-align: middle;\n",
       "    }\n",
       "\n",
       "    .dataframe tbody tr th {\n",
       "        vertical-align: top;\n",
       "    }\n",
       "\n",
       "    .dataframe thead th {\n",
       "        text-align: right;\n",
       "    }\n",
       "</style>\n",
       "<table border=\"1\" class=\"dataframe\">\n",
       "  <thead>\n",
       "    <tr style=\"text-align: right;\">\n",
       "      <th></th>\n",
       "      <th>id</th>\n",
       "      <th>message_date</th>\n",
       "      <th>user_id</th>\n",
       "      <th>month</th>\n",
       "    </tr>\n",
       "  </thead>\n",
       "  <tbody>\n",
       "    <tr>\n",
       "      <th>13642</th>\n",
       "      <td>1056_224</td>\n",
       "      <td>2018-09-06</td>\n",
       "      <td>1056</td>\n",
       "      <td>9</td>\n",
       "    </tr>\n",
       "    <tr>\n",
       "      <th>84679</th>\n",
       "      <td>1354_131</td>\n",
       "      <td>2018-10-27</td>\n",
       "      <td>1354</td>\n",
       "      <td>10</td>\n",
       "    </tr>\n",
       "    <tr>\n",
       "      <th>71137</th>\n",
       "      <td>1300_889</td>\n",
       "      <td>2018-10-23</td>\n",
       "      <td>1300</td>\n",
       "      <td>10</td>\n",
       "    </tr>\n",
       "    <tr>\n",
       "      <th>58719</th>\n",
       "      <td>1257_511</td>\n",
       "      <td>2018-11-27</td>\n",
       "      <td>1257</td>\n",
       "      <td>11</td>\n",
       "    </tr>\n",
       "    <tr>\n",
       "      <th>23672</th>\n",
       "      <td>1097_187</td>\n",
       "      <td>2018-09-17</td>\n",
       "      <td>1097</td>\n",
       "      <td>9</td>\n",
       "    </tr>\n",
       "  </tbody>\n",
       "</table>\n",
       "</div>"
      ],
      "text/plain": [
       "             id message_date  user_id  month\n",
       "13642  1056_224 2018-09-06    1056     9    \n",
       "84679  1354_131 2018-10-27    1354     10   \n",
       "71137  1300_889 2018-10-23    1300     10   \n",
       "58719  1257_511 2018-11-27    1257     11   \n",
       "23672  1097_187 2018-09-17    1097     9    "
      ]
     },
     "execution_count": 38,
     "metadata": {},
     "output_type": "execute_result"
    }
   ],
   "source": [
    "messages['month'] = messages['message_date'].dt.month\n",
    "messages.sample(5)"
   ]
  },
  {
   "cell_type": "code",
   "execution_count": 39,
   "metadata": {},
   "outputs": [
    {
     "data": {
      "text/html": [
       "<div>\n",
       "<style scoped>\n",
       "    .dataframe tbody tr th:only-of-type {\n",
       "        vertical-align: middle;\n",
       "    }\n",
       "\n",
       "    .dataframe tbody tr th {\n",
       "        vertical-align: top;\n",
       "    }\n",
       "\n",
       "    .dataframe thead th {\n",
       "        text-align: right;\n",
       "    }\n",
       "</style>\n",
       "<table border=\"1\" class=\"dataframe\">\n",
       "  <thead>\n",
       "    <tr style=\"text-align: right;\">\n",
       "      <th></th>\n",
       "      <th>user_id</th>\n",
       "      <th>month</th>\n",
       "      <th>messages_count</th>\n",
       "    </tr>\n",
       "  </thead>\n",
       "  <tbody>\n",
       "    <tr>\n",
       "      <th>0</th>\n",
       "      <td>1000</td>\n",
       "      <td>5</td>\n",
       "      <td>22</td>\n",
       "    </tr>\n",
       "    <tr>\n",
       "      <th>1</th>\n",
       "      <td>1000</td>\n",
       "      <td>6</td>\n",
       "      <td>60</td>\n",
       "    </tr>\n",
       "    <tr>\n",
       "      <th>2</th>\n",
       "      <td>1000</td>\n",
       "      <td>7</td>\n",
       "      <td>75</td>\n",
       "    </tr>\n",
       "    <tr>\n",
       "      <th>3</th>\n",
       "      <td>1000</td>\n",
       "      <td>8</td>\n",
       "      <td>81</td>\n",
       "    </tr>\n",
       "    <tr>\n",
       "      <th>4</th>\n",
       "      <td>1000</td>\n",
       "      <td>9</td>\n",
       "      <td>57</td>\n",
       "    </tr>\n",
       "    <tr>\n",
       "      <th>...</th>\n",
       "      <td>...</td>\n",
       "      <td>...</td>\n",
       "      <td>...</td>\n",
       "    </tr>\n",
       "    <tr>\n",
       "      <th>2712</th>\n",
       "      <td>1498</td>\n",
       "      <td>10</td>\n",
       "      <td>42</td>\n",
       "    </tr>\n",
       "    <tr>\n",
       "      <th>2713</th>\n",
       "      <td>1499</td>\n",
       "      <td>9</td>\n",
       "      <td>11</td>\n",
       "    </tr>\n",
       "    <tr>\n",
       "      <th>2714</th>\n",
       "      <td>1499</td>\n",
       "      <td>10</td>\n",
       "      <td>48</td>\n",
       "    </tr>\n",
       "    <tr>\n",
       "      <th>2715</th>\n",
       "      <td>1499</td>\n",
       "      <td>11</td>\n",
       "      <td>59</td>\n",
       "    </tr>\n",
       "    <tr>\n",
       "      <th>2716</th>\n",
       "      <td>1499</td>\n",
       "      <td>12</td>\n",
       "      <td>66</td>\n",
       "    </tr>\n",
       "  </tbody>\n",
       "</table>\n",
       "<p>2717 rows × 3 columns</p>\n",
       "</div>"
      ],
      "text/plain": [
       "      user_id  month  messages_count\n",
       "0     1000     5      22            \n",
       "1     1000     6      60            \n",
       "2     1000     7      75            \n",
       "3     1000     8      81            \n",
       "4     1000     9      57            \n",
       "...    ...    ..      ..            \n",
       "2712  1498     10     42            \n",
       "2713  1499     9      11            \n",
       "2714  1499     10     48            \n",
       "2715  1499     11     59            \n",
       "2716  1499     12     66            \n",
       "\n",
       "[2717 rows x 3 columns]"
      ]
     },
     "execution_count": 39,
     "metadata": {},
     "output_type": "execute_result"
    }
   ],
   "source": [
    "messages_grouped = messages.groupby(['user_id','month']).agg( #группируем по двум столбцам\n",
    "        messages_count=pd.NamedAgg(column=\"id\", aggfunc='count') #добавляем столбец с количеством смс\n",
    "    ).reset_index() #сбросим индексы\n",
    "messages_grouped #выведем результат группировки"
   ]
  },
  {
   "cell_type": "markdown",
   "metadata": {},
   "source": [
    "### Объединение таблиц"
   ]
  },
  {
   "cell_type": "markdown",
   "metadata": {},
   "source": [
    "Объединим поочередно таблицы методом .merge по столбцам `user_id`,`month` в таблицу `data`. В финальную таблицу включим столбцы: 'user_id','month','calls_count','calls_duration_total','mb_used_total','messages_count','reg_date','churn_date','city','tariff'. "
   ]
  },
  {
   "cell_type": "code",
   "execution_count": 40,
   "metadata": {},
   "outputs": [
    {
     "data": {
      "text/html": [
       "<div>\n",
       "<style scoped>\n",
       "    .dataframe tbody tr th:only-of-type {\n",
       "        vertical-align: middle;\n",
       "    }\n",
       "\n",
       "    .dataframe tbody tr th {\n",
       "        vertical-align: top;\n",
       "    }\n",
       "\n",
       "    .dataframe thead th {\n",
       "        text-align: right;\n",
       "    }\n",
       "</style>\n",
       "<table border=\"1\" class=\"dataframe\">\n",
       "  <thead>\n",
       "    <tr style=\"text-align: right;\">\n",
       "      <th></th>\n",
       "      <th>user_id</th>\n",
       "      <th>age</th>\n",
       "      <th>churn_date</th>\n",
       "      <th>city</th>\n",
       "      <th>first_name</th>\n",
       "      <th>last_name</th>\n",
       "      <th>reg_date</th>\n",
       "      <th>tariff</th>\n",
       "    </tr>\n",
       "  </thead>\n",
       "  <tbody>\n",
       "  </tbody>\n",
       "</table>\n",
       "</div>"
      ],
      "text/plain": [
       "Empty DataFrame\n",
       "Columns: [user_id, age, churn_date, city, first_name, last_name, reg_date, tariff]\n",
       "Index: []"
      ]
     },
     "execution_count": 40,
     "metadata": {},
     "output_type": "execute_result"
    }
   ],
   "source": [
    "data = calls_grouped.merge(internet_grouped, on=['user_id','month'], how='outer') \n",
    "data = data.merge(messages_grouped, on=['user_id','month'], how='outer') \n",
    "users.query('user_id > 1499 or user_id < 1000')"
   ]
  },
  {
   "cell_type": "code",
   "execution_count": 41,
   "metadata": {},
   "outputs": [
    {
     "data": {
      "text/html": [
       "<div>\n",
       "<style scoped>\n",
       "    .dataframe tbody tr th:only-of-type {\n",
       "        vertical-align: middle;\n",
       "    }\n",
       "\n",
       "    .dataframe tbody tr th {\n",
       "        vertical-align: top;\n",
       "    }\n",
       "\n",
       "    .dataframe thead th {\n",
       "        text-align: right;\n",
       "    }\n",
       "</style>\n",
       "<table border=\"1\" class=\"dataframe\">\n",
       "  <thead>\n",
       "    <tr style=\"text-align: right;\">\n",
       "      <th></th>\n",
       "      <th>user_id</th>\n",
       "      <th>age</th>\n",
       "      <th>churn_date</th>\n",
       "      <th>city</th>\n",
       "      <th>first_name</th>\n",
       "      <th>last_name</th>\n",
       "      <th>reg_date</th>\n",
       "      <th>tariff</th>\n",
       "    </tr>\n",
       "  </thead>\n",
       "  <tbody>\n",
       "    <tr>\n",
       "      <th>128</th>\n",
       "      <td>1128</td>\n",
       "      <td>51</td>\n",
       "      <td>2018-12-23</td>\n",
       "      <td>Волжский</td>\n",
       "      <td>Ксения</td>\n",
       "      <td>Агаева</td>\n",
       "      <td>2018-12-15</td>\n",
       "      <td>ultra</td>\n",
       "    </tr>\n",
       "    <tr>\n",
       "      <th>371</th>\n",
       "      <td>1371</td>\n",
       "      <td>50</td>\n",
       "      <td>2018-12-30</td>\n",
       "      <td>Омск</td>\n",
       "      <td>Ириней</td>\n",
       "      <td>Трофимов</td>\n",
       "      <td>2018-12-25</td>\n",
       "      <td>smart</td>\n",
       "    </tr>\n",
       "  </tbody>\n",
       "</table>\n",
       "</div>"
      ],
      "text/plain": [
       "     user_id  age churn_date      city first_name last_name   reg_date tariff\n",
       "128  1128     51  2018-12-23  Волжский  Ксения     Агаева   2018-12-15  ultra\n",
       "371  1371     50  2018-12-30  Омск      Ириней     Трофимов 2018-12-25  smart"
      ]
     },
     "execution_count": 41,
     "metadata": {},
     "output_type": "execute_result"
    }
   ],
   "source": [
    "users.query('user_id == 1128 or user_id == 1371')"
   ]
  },
  {
   "cell_type": "code",
   "execution_count": 42,
   "metadata": {},
   "outputs": [
    {
     "data": {
      "text/html": [
       "<div>\n",
       "<style scoped>\n",
       "    .dataframe tbody tr th:only-of-type {\n",
       "        vertical-align: middle;\n",
       "    }\n",
       "\n",
       "    .dataframe tbody tr th {\n",
       "        vertical-align: top;\n",
       "    }\n",
       "\n",
       "    .dataframe thead th {\n",
       "        text-align: right;\n",
       "    }\n",
       "</style>\n",
       "<table border=\"1\" class=\"dataframe\">\n",
       "  <thead>\n",
       "    <tr style=\"text-align: right;\">\n",
       "      <th></th>\n",
       "      <th>user_id</th>\n",
       "      <th>month</th>\n",
       "      <th>calls_count</th>\n",
       "      <th>calls_duration_total</th>\n",
       "      <th>mb_used_total</th>\n",
       "      <th>messages_count</th>\n",
       "      <th>age</th>\n",
       "      <th>churn_date</th>\n",
       "      <th>city</th>\n",
       "      <th>first_name</th>\n",
       "      <th>last_name</th>\n",
       "      <th>reg_date</th>\n",
       "      <th>tariff</th>\n",
       "    </tr>\n",
       "  </thead>\n",
       "  <tbody>\n",
       "    <tr>\n",
       "      <th>0</th>\n",
       "      <td>1000</td>\n",
       "      <td>5</td>\n",
       "      <td>17.0</td>\n",
       "      <td>159.0</td>\n",
       "      <td>2256.0</td>\n",
       "      <td>22.0</td>\n",
       "      <td>52</td>\n",
       "      <td>NaT</td>\n",
       "      <td>Краснодар</td>\n",
       "      <td>Рафаил</td>\n",
       "      <td>Верещагин</td>\n",
       "      <td>2018-05-25</td>\n",
       "      <td>ultra</td>\n",
       "    </tr>\n",
       "    <tr>\n",
       "      <th>1</th>\n",
       "      <td>1000</td>\n",
       "      <td>6</td>\n",
       "      <td>28.0</td>\n",
       "      <td>172.0</td>\n",
       "      <td>23257.0</td>\n",
       "      <td>60.0</td>\n",
       "      <td>52</td>\n",
       "      <td>NaT</td>\n",
       "      <td>Краснодар</td>\n",
       "      <td>Рафаил</td>\n",
       "      <td>Верещагин</td>\n",
       "      <td>2018-05-25</td>\n",
       "      <td>ultra</td>\n",
       "    </tr>\n",
       "    <tr>\n",
       "      <th>2</th>\n",
       "      <td>1000</td>\n",
       "      <td>7</td>\n",
       "      <td>41.0</td>\n",
       "      <td>340.0</td>\n",
       "      <td>14016.0</td>\n",
       "      <td>75.0</td>\n",
       "      <td>52</td>\n",
       "      <td>NaT</td>\n",
       "      <td>Краснодар</td>\n",
       "      <td>Рафаил</td>\n",
       "      <td>Верещагин</td>\n",
       "      <td>2018-05-25</td>\n",
       "      <td>ultra</td>\n",
       "    </tr>\n",
       "    <tr>\n",
       "      <th>3</th>\n",
       "      <td>1000</td>\n",
       "      <td>8</td>\n",
       "      <td>42.0</td>\n",
       "      <td>408.0</td>\n",
       "      <td>14070.0</td>\n",
       "      <td>81.0</td>\n",
       "      <td>52</td>\n",
       "      <td>NaT</td>\n",
       "      <td>Краснодар</td>\n",
       "      <td>Рафаил</td>\n",
       "      <td>Верещагин</td>\n",
       "      <td>2018-05-25</td>\n",
       "      <td>ultra</td>\n",
       "    </tr>\n",
       "    <tr>\n",
       "      <th>4</th>\n",
       "      <td>1000</td>\n",
       "      <td>9</td>\n",
       "      <td>46.0</td>\n",
       "      <td>466.0</td>\n",
       "      <td>14581.0</td>\n",
       "      <td>57.0</td>\n",
       "      <td>52</td>\n",
       "      <td>NaT</td>\n",
       "      <td>Краснодар</td>\n",
       "      <td>Рафаил</td>\n",
       "      <td>Верещагин</td>\n",
       "      <td>2018-05-25</td>\n",
       "      <td>ultra</td>\n",
       "    </tr>\n",
       "    <tr>\n",
       "      <th>...</th>\n",
       "      <td>...</td>\n",
       "      <td>...</td>\n",
       "      <td>...</td>\n",
       "      <td>...</td>\n",
       "      <td>...</td>\n",
       "      <td>...</td>\n",
       "      <td>...</td>\n",
       "      <td>...</td>\n",
       "      <td>...</td>\n",
       "      <td>...</td>\n",
       "      <td>...</td>\n",
       "      <td>...</td>\n",
       "      <td>...</td>\n",
       "    </tr>\n",
       "    <tr>\n",
       "      <th>3209</th>\n",
       "      <td>1489</td>\n",
       "      <td>8</td>\n",
       "      <td>NaN</td>\n",
       "      <td>NaN</td>\n",
       "      <td>11066.0</td>\n",
       "      <td>17.0</td>\n",
       "      <td>35</td>\n",
       "      <td>NaT</td>\n",
       "      <td>Санкт-Петербург</td>\n",
       "      <td>Павел</td>\n",
       "      <td>Гончаров</td>\n",
       "      <td>2018-08-15</td>\n",
       "      <td>smart</td>\n",
       "    </tr>\n",
       "    <tr>\n",
       "      <th>3210</th>\n",
       "      <td>1489</td>\n",
       "      <td>9</td>\n",
       "      <td>NaN</td>\n",
       "      <td>NaN</td>\n",
       "      <td>17232.0</td>\n",
       "      <td>32.0</td>\n",
       "      <td>35</td>\n",
       "      <td>NaT</td>\n",
       "      <td>Санкт-Петербург</td>\n",
       "      <td>Павел</td>\n",
       "      <td>Гончаров</td>\n",
       "      <td>2018-08-15</td>\n",
       "      <td>smart</td>\n",
       "    </tr>\n",
       "    <tr>\n",
       "      <th>3211</th>\n",
       "      <td>1489</td>\n",
       "      <td>10</td>\n",
       "      <td>NaN</td>\n",
       "      <td>NaN</td>\n",
       "      <td>19588.0</td>\n",
       "      <td>21.0</td>\n",
       "      <td>35</td>\n",
       "      <td>NaT</td>\n",
       "      <td>Санкт-Петербург</td>\n",
       "      <td>Павел</td>\n",
       "      <td>Гончаров</td>\n",
       "      <td>2018-08-15</td>\n",
       "      <td>smart</td>\n",
       "    </tr>\n",
       "    <tr>\n",
       "      <th>3212</th>\n",
       "      <td>1489</td>\n",
       "      <td>11</td>\n",
       "      <td>NaN</td>\n",
       "      <td>NaN</td>\n",
       "      <td>17516.0</td>\n",
       "      <td>20.0</td>\n",
       "      <td>35</td>\n",
       "      <td>NaT</td>\n",
       "      <td>Санкт-Петербург</td>\n",
       "      <td>Павел</td>\n",
       "      <td>Гончаров</td>\n",
       "      <td>2018-08-15</td>\n",
       "      <td>smart</td>\n",
       "    </tr>\n",
       "    <tr>\n",
       "      <th>3213</th>\n",
       "      <td>1489</td>\n",
       "      <td>12</td>\n",
       "      <td>NaN</td>\n",
       "      <td>NaN</td>\n",
       "      <td>17341.0</td>\n",
       "      <td>35.0</td>\n",
       "      <td>35</td>\n",
       "      <td>NaT</td>\n",
       "      <td>Санкт-Петербург</td>\n",
       "      <td>Павел</td>\n",
       "      <td>Гончаров</td>\n",
       "      <td>2018-08-15</td>\n",
       "      <td>smart</td>\n",
       "    </tr>\n",
       "  </tbody>\n",
       "</table>\n",
       "<p>3214 rows × 13 columns</p>\n",
       "</div>"
      ],
      "text/plain": [
       "      user_id  month  calls_count  calls_duration_total  mb_used_total  \\\n",
       "0     1000     5      17.0         159.0                 2256.0          \n",
       "1     1000     6      28.0         172.0                 23257.0         \n",
       "2     1000     7      41.0         340.0                 14016.0         \n",
       "3     1000     8      42.0         408.0                 14070.0         \n",
       "4     1000     9      46.0         466.0                 14581.0         \n",
       "...    ...    ..       ...           ...                     ...         \n",
       "3209  1489     8     NaN          NaN                    11066.0         \n",
       "3210  1489     9     NaN          NaN                    17232.0         \n",
       "3211  1489     10    NaN          NaN                    19588.0         \n",
       "3212  1489     11    NaN          NaN                    17516.0         \n",
       "3213  1489     12    NaN          NaN                    17341.0         \n",
       "\n",
       "      messages_count  age churn_date             city first_name  last_name  \\\n",
       "0     22.0            52  NaT         Краснодар        Рафаил     Верещагин   \n",
       "1     60.0            52  NaT         Краснодар        Рафаил     Верещагин   \n",
       "2     75.0            52  NaT         Краснодар        Рафаил     Верещагин   \n",
       "3     81.0            52  NaT         Краснодар        Рафаил     Верещагин   \n",
       "4     57.0            52  NaT         Краснодар        Рафаил     Верещагин   \n",
       "...    ...            ..   ..               ...           ...           ...   \n",
       "3209  17.0            35  NaT         Санкт-Петербург  Павел      Гончаров    \n",
       "3210  32.0            35  NaT         Санкт-Петербург  Павел      Гончаров    \n",
       "3211  21.0            35  NaT         Санкт-Петербург  Павел      Гончаров    \n",
       "3212  20.0            35  NaT         Санкт-Петербург  Павел      Гончаров    \n",
       "3213  35.0            35  NaT         Санкт-Петербург  Павел      Гончаров    \n",
       "\n",
       "       reg_date tariff  \n",
       "0    2018-05-25  ultra  \n",
       "1    2018-05-25  ultra  \n",
       "2    2018-05-25  ultra  \n",
       "3    2018-05-25  ultra  \n",
       "4    2018-05-25  ultra  \n",
       "...         ...    ...  \n",
       "3209 2018-08-15  smart  \n",
       "3210 2018-08-15  smart  \n",
       "3211 2018-08-15  smart  \n",
       "3212 2018-08-15  smart  \n",
       "3213 2018-08-15  smart  \n",
       "\n",
       "[3214 rows x 13 columns]"
      ]
     },
     "execution_count": 42,
     "metadata": {},
     "output_type": "execute_result"
    }
   ],
   "source": [
    "data = data.merge(users, on='user_id', how='left') \n",
    "data"
   ]
  },
  {
   "cell_type": "code",
   "execution_count": 43,
   "metadata": {},
   "outputs": [
    {
     "data": {
      "text/html": [
       "<div>\n",
       "<style scoped>\n",
       "    .dataframe tbody tr th:only-of-type {\n",
       "        vertical-align: middle;\n",
       "    }\n",
       "\n",
       "    .dataframe tbody tr th {\n",
       "        vertical-align: top;\n",
       "    }\n",
       "\n",
       "    .dataframe thead th {\n",
       "        text-align: right;\n",
       "    }\n",
       "</style>\n",
       "<table border=\"1\" class=\"dataframe\">\n",
       "  <thead>\n",
       "    <tr style=\"text-align: right;\">\n",
       "      <th></th>\n",
       "      <th>user_id</th>\n",
       "      <th>age</th>\n",
       "      <th>churn_date</th>\n",
       "      <th>city</th>\n",
       "      <th>first_name</th>\n",
       "      <th>last_name</th>\n",
       "      <th>reg_date</th>\n",
       "      <th>tariff</th>\n",
       "    </tr>\n",
       "  </thead>\n",
       "  <tbody>\n",
       "    <tr>\n",
       "      <th>128</th>\n",
       "      <td>1128</td>\n",
       "      <td>51</td>\n",
       "      <td>2018-12-23</td>\n",
       "      <td>Волжский</td>\n",
       "      <td>Ксения</td>\n",
       "      <td>Агаева</td>\n",
       "      <td>2018-12-15</td>\n",
       "      <td>ultra</td>\n",
       "    </tr>\n",
       "    <tr>\n",
       "      <th>371</th>\n",
       "      <td>1371</td>\n",
       "      <td>50</td>\n",
       "      <td>2018-12-30</td>\n",
       "      <td>Омск</td>\n",
       "      <td>Ириней</td>\n",
       "      <td>Трофимов</td>\n",
       "      <td>2018-12-25</td>\n",
       "      <td>smart</td>\n",
       "    </tr>\n",
       "  </tbody>\n",
       "</table>\n",
       "</div>"
      ],
      "text/plain": [
       "     user_id  age churn_date      city first_name last_name   reg_date tariff\n",
       "128  1128     51  2018-12-23  Волжский  Ксения     Агаева   2018-12-15  ultra\n",
       "371  1371     50  2018-12-30  Омск      Ириней     Трофимов 2018-12-25  smart"
      ]
     },
     "execution_count": 43,
     "metadata": {},
     "output_type": "execute_result"
    }
   ],
   "source": [
    "users.query('user_id == 1128 or user_id == 1371')"
   ]
  },
  {
   "cell_type": "markdown",
   "metadata": {},
   "source": [
    "При слиянии таблиц по ключам из таблицы `users` отбросились 2 id. Абоненты так и не воспользовались услугами и вышли из тарифа в течение недели.\n",
    "\n",
    "У нас образовались пропуски, вероятно клиент попросту не пользовался какой-то услугой в определенный месяц, поэтому можно заполнить пропуски нулем."
   ]
  },
  {
   "cell_type": "code",
   "execution_count": 44,
   "metadata": {},
   "outputs": [
    {
     "data": {
      "text/html": [
       "<div>\n",
       "<style scoped>\n",
       "    .dataframe tbody tr th:only-of-type {\n",
       "        vertical-align: middle;\n",
       "    }\n",
       "\n",
       "    .dataframe tbody tr th {\n",
       "        vertical-align: top;\n",
       "    }\n",
       "\n",
       "    .dataframe thead th {\n",
       "        text-align: right;\n",
       "    }\n",
       "</style>\n",
       "<table border=\"1\" class=\"dataframe\">\n",
       "  <thead>\n",
       "    <tr style=\"text-align: right;\">\n",
       "      <th></th>\n",
       "      <th>user_id</th>\n",
       "      <th>month</th>\n",
       "      <th>calls_count</th>\n",
       "      <th>calls_duration_total</th>\n",
       "      <th>mb_used_total</th>\n",
       "      <th>messages_count</th>\n",
       "      <th>reg_date</th>\n",
       "      <th>churn_date</th>\n",
       "      <th>city</th>\n",
       "      <th>tariff</th>\n",
       "    </tr>\n",
       "  </thead>\n",
       "  <tbody>\n",
       "    <tr>\n",
       "      <th>0</th>\n",
       "      <td>1000</td>\n",
       "      <td>5</td>\n",
       "      <td>17</td>\n",
       "      <td>159</td>\n",
       "      <td>2256</td>\n",
       "      <td>22</td>\n",
       "      <td>2018-05-25</td>\n",
       "      <td>NaT</td>\n",
       "      <td>Краснодар</td>\n",
       "      <td>ultra</td>\n",
       "    </tr>\n",
       "    <tr>\n",
       "      <th>1</th>\n",
       "      <td>1000</td>\n",
       "      <td>6</td>\n",
       "      <td>28</td>\n",
       "      <td>172</td>\n",
       "      <td>23257</td>\n",
       "      <td>60</td>\n",
       "      <td>2018-05-25</td>\n",
       "      <td>NaT</td>\n",
       "      <td>Краснодар</td>\n",
       "      <td>ultra</td>\n",
       "    </tr>\n",
       "    <tr>\n",
       "      <th>2</th>\n",
       "      <td>1000</td>\n",
       "      <td>7</td>\n",
       "      <td>41</td>\n",
       "      <td>340</td>\n",
       "      <td>14016</td>\n",
       "      <td>75</td>\n",
       "      <td>2018-05-25</td>\n",
       "      <td>NaT</td>\n",
       "      <td>Краснодар</td>\n",
       "      <td>ultra</td>\n",
       "    </tr>\n",
       "    <tr>\n",
       "      <th>3</th>\n",
       "      <td>1000</td>\n",
       "      <td>8</td>\n",
       "      <td>42</td>\n",
       "      <td>408</td>\n",
       "      <td>14070</td>\n",
       "      <td>81</td>\n",
       "      <td>2018-05-25</td>\n",
       "      <td>NaT</td>\n",
       "      <td>Краснодар</td>\n",
       "      <td>ultra</td>\n",
       "    </tr>\n",
       "    <tr>\n",
       "      <th>4</th>\n",
       "      <td>1000</td>\n",
       "      <td>9</td>\n",
       "      <td>46</td>\n",
       "      <td>466</td>\n",
       "      <td>14581</td>\n",
       "      <td>57</td>\n",
       "      <td>2018-05-25</td>\n",
       "      <td>NaT</td>\n",
       "      <td>Краснодар</td>\n",
       "      <td>ultra</td>\n",
       "    </tr>\n",
       "    <tr>\n",
       "      <th>...</th>\n",
       "      <td>...</td>\n",
       "      <td>...</td>\n",
       "      <td>...</td>\n",
       "      <td>...</td>\n",
       "      <td>...</td>\n",
       "      <td>...</td>\n",
       "      <td>...</td>\n",
       "      <td>...</td>\n",
       "      <td>...</td>\n",
       "      <td>...</td>\n",
       "    </tr>\n",
       "    <tr>\n",
       "      <th>3209</th>\n",
       "      <td>1489</td>\n",
       "      <td>8</td>\n",
       "      <td>0</td>\n",
       "      <td>0</td>\n",
       "      <td>11066</td>\n",
       "      <td>17</td>\n",
       "      <td>2018-08-15</td>\n",
       "      <td>NaT</td>\n",
       "      <td>Санкт-Петербург</td>\n",
       "      <td>smart</td>\n",
       "    </tr>\n",
       "    <tr>\n",
       "      <th>3210</th>\n",
       "      <td>1489</td>\n",
       "      <td>9</td>\n",
       "      <td>0</td>\n",
       "      <td>0</td>\n",
       "      <td>17232</td>\n",
       "      <td>32</td>\n",
       "      <td>2018-08-15</td>\n",
       "      <td>NaT</td>\n",
       "      <td>Санкт-Петербург</td>\n",
       "      <td>smart</td>\n",
       "    </tr>\n",
       "    <tr>\n",
       "      <th>3211</th>\n",
       "      <td>1489</td>\n",
       "      <td>10</td>\n",
       "      <td>0</td>\n",
       "      <td>0</td>\n",
       "      <td>19588</td>\n",
       "      <td>21</td>\n",
       "      <td>2018-08-15</td>\n",
       "      <td>NaT</td>\n",
       "      <td>Санкт-Петербург</td>\n",
       "      <td>smart</td>\n",
       "    </tr>\n",
       "    <tr>\n",
       "      <th>3212</th>\n",
       "      <td>1489</td>\n",
       "      <td>11</td>\n",
       "      <td>0</td>\n",
       "      <td>0</td>\n",
       "      <td>17516</td>\n",
       "      <td>20</td>\n",
       "      <td>2018-08-15</td>\n",
       "      <td>NaT</td>\n",
       "      <td>Санкт-Петербург</td>\n",
       "      <td>smart</td>\n",
       "    </tr>\n",
       "    <tr>\n",
       "      <th>3213</th>\n",
       "      <td>1489</td>\n",
       "      <td>12</td>\n",
       "      <td>0</td>\n",
       "      <td>0</td>\n",
       "      <td>17341</td>\n",
       "      <td>35</td>\n",
       "      <td>2018-08-15</td>\n",
       "      <td>NaT</td>\n",
       "      <td>Санкт-Петербург</td>\n",
       "      <td>smart</td>\n",
       "    </tr>\n",
       "  </tbody>\n",
       "</table>\n",
       "<p>3214 rows × 10 columns</p>\n",
       "</div>"
      ],
      "text/plain": [
       "      user_id  month  calls_count  calls_duration_total  mb_used_total  \\\n",
       "0     1000     5      17           159                   2256            \n",
       "1     1000     6      28           172                   23257           \n",
       "2     1000     7      41           340                   14016           \n",
       "3     1000     8      42           408                   14070           \n",
       "4     1000     9      46           466                   14581           \n",
       "...    ...    ..      ..           ...                     ...           \n",
       "3209  1489     8      0            0                     11066           \n",
       "3210  1489     9      0            0                     17232           \n",
       "3211  1489     10     0            0                     19588           \n",
       "3212  1489     11     0            0                     17516           \n",
       "3213  1489     12     0            0                     17341           \n",
       "\n",
       "      messages_count   reg_date churn_date             city tariff  \n",
       "0     22             2018-05-25 NaT         Краснодар        ultra  \n",
       "1     60             2018-05-25 NaT         Краснодар        ultra  \n",
       "2     75             2018-05-25 NaT         Краснодар        ultra  \n",
       "3     81             2018-05-25 NaT         Краснодар        ultra  \n",
       "4     57             2018-05-25 NaT         Краснодар        ultra  \n",
       "...   ..                    ...  ..               ...          ...  \n",
       "3209  17             2018-08-15 NaT         Санкт-Петербург  smart  \n",
       "3210  32             2018-08-15 NaT         Санкт-Петербург  smart  \n",
       "3211  21             2018-08-15 NaT         Санкт-Петербург  smart  \n",
       "3212  20             2018-08-15 NaT         Санкт-Петербург  smart  \n",
       "3213  35             2018-08-15 NaT         Санкт-Петербург  smart  \n",
       "\n",
       "[3214 rows x 10 columns]"
      ]
     },
     "execution_count": 44,
     "metadata": {},
     "output_type": "execute_result"
    }
   ],
   "source": [
    "data = data[['user_id','month','calls_count','calls_duration_total','mb_used_total','messages_count',\n",
    "             'reg_date','churn_date','city','tariff']]\n",
    "\n",
    "data['calls_count']=data.loc[:,'calls_count'].fillna(0).astype('int')\n",
    "data['calls_duration_total']=data.loc[:,'calls_duration_total'].fillna(0).astype('int')\n",
    "data['mb_used_total']=data.loc[:,'mb_used_total'].fillna(0).astype('int')\n",
    "data['messages_count']=data.loc[:,'messages_count'].fillna(0).astype('int')\n",
    "\n",
    "data #Вывод результата объединения"
   ]
  },
  {
   "cell_type": "markdown",
   "metadata": {},
   "source": [
    "### Расчет помесячной выручки по клиентам"
   ]
  },
  {
   "cell_type": "markdown",
   "metadata": {},
   "source": [
    "- Напишем функцию для подсчета выручки в каждой строке таблицы - `revenue`.\n",
    "- Дополним таблицу `data` столбцом `revenue`. Значения столбца получим применением функции `revenue` к таблице данных методом .apply()."
   ]
  },
  {
   "cell_type": "code",
   "execution_count": 45,
   "metadata": {},
   "outputs": [
    {
     "data": {
      "text/html": [
       "<div>\n",
       "<style scoped>\n",
       "    .dataframe tbody tr th:only-of-type {\n",
       "        vertical-align: middle;\n",
       "    }\n",
       "\n",
       "    .dataframe tbody tr th {\n",
       "        vertical-align: top;\n",
       "    }\n",
       "\n",
       "    .dataframe thead th {\n",
       "        text-align: right;\n",
       "    }\n",
       "</style>\n",
       "<table border=\"1\" class=\"dataframe\">\n",
       "  <thead>\n",
       "    <tr style=\"text-align: right;\">\n",
       "      <th></th>\n",
       "      <th>messages_included</th>\n",
       "      <th>mb_per_month_included</th>\n",
       "      <th>minutes_included</th>\n",
       "      <th>rub_monthly_fee</th>\n",
       "      <th>rub_per_gb</th>\n",
       "      <th>rub_per_message</th>\n",
       "      <th>rub_per_minute</th>\n",
       "      <th>tariff_name</th>\n",
       "    </tr>\n",
       "  </thead>\n",
       "  <tbody>\n",
       "    <tr>\n",
       "      <th>0</th>\n",
       "      <td>50</td>\n",
       "      <td>15360</td>\n",
       "      <td>500</td>\n",
       "      <td>550</td>\n",
       "      <td>200</td>\n",
       "      <td>3</td>\n",
       "      <td>3</td>\n",
       "      <td>smart</td>\n",
       "    </tr>\n",
       "    <tr>\n",
       "      <th>1</th>\n",
       "      <td>1000</td>\n",
       "      <td>30720</td>\n",
       "      <td>3000</td>\n",
       "      <td>1950</td>\n",
       "      <td>150</td>\n",
       "      <td>1</td>\n",
       "      <td>1</td>\n",
       "      <td>ultra</td>\n",
       "    </tr>\n",
       "  </tbody>\n",
       "</table>\n",
       "</div>"
      ],
      "text/plain": [
       "   messages_included  mb_per_month_included  minutes_included  \\\n",
       "0  50                 15360                  500                \n",
       "1  1000               30720                  3000               \n",
       "\n",
       "   rub_monthly_fee  rub_per_gb  rub_per_message  rub_per_minute tariff_name  \n",
       "0  550              200         3                3               smart       \n",
       "1  1950             150         1                1               ultra       "
      ]
     },
     "execution_count": 45,
     "metadata": {},
     "output_type": "execute_result"
    }
   ],
   "source": [
    "tariffs # Информация о тарифах"
   ]
  },
  {
   "cell_type": "code",
   "execution_count": 46,
   "metadata": {},
   "outputs": [],
   "source": [
    "# Функция для подсчета выручки в каждой строке таблицы\n",
    "def revenue(row):\n",
    "    tariff = row['tariff']\n",
    "    minutes = row['calls_duration_total']\n",
    "    mb = row['mb_used_total']\n",
    "    messages = row['messages_count']\n",
    "    for row in data:\n",
    "        if tariff == 'smart': #для тарифа \"Смарт\"\n",
    "     #выручка со звонков - положительная разница между числом потраченных минут и лимитом минут тарифа, умноженная на цену минуты       \n",
    "            if minutes > tariffs.loc[0,'minutes_included']: \n",
    "                min_rev = (minutes - tariffs.loc[0,'minutes_included'])*tariffs.loc[0,'rub_per_minute'] \n",
    "            else:\n",
    "                min_rev = 0 #если разница отрицательная, выручка = 0\n",
    "     #выручка с интернет-трафика - положительная разница между числом потраченных Гб, округленных до целых в большую сторону и лимитом Гб тарифа, умноженная на цену Гб (1024Мб в 1 Гб)           \n",
    "            if mb > tariffs.loc[0,'mb_per_month_included']:\n",
    "                mb_rev = np.ceil((mb - tariffs.loc[0,'mb_per_month_included']) / 1024) * tariffs.loc[0,'rub_per_gb'] \n",
    "            else:\n",
    "                mb_rev = 0   \n",
    "     #выручка с сообщений - положительная разница между числом отправленных сообщений и лимитом сообщений тарифа, умноженная на цену сообщения\n",
    "            if messages > tariffs.loc[0,'messages_included']:\n",
    "                mess_rev = (messages - tariffs.loc[0,'messages_included'])*tariffs.loc[0,'rub_per_message']\n",
    "            else:\n",
    "                mess_rev = 0  \n",
    "     #выручка по строке - сумма выручек со звонков, интернет-трафика и сообщений и ежемесячной платы за тариф \n",
    "            revenue = min_rev+mb_rev+mess_rev+tariffs.loc[0,'rub_monthly_fee']\n",
    "        if tariff == 'ultra':  #для тарифа \"Ультра\" алгоритм повторяется\n",
    "            if minutes > tariffs.loc[1,'minutes_included']:\n",
    "                min_rev = (minutes - tariffs.loc[1,'minutes_included'])*tariffs.loc[1,'rub_per_minute']\n",
    "            else:\n",
    "                min_rev = 0\n",
    "            if mb > tariffs.loc[1,'mb_per_month_included']:\n",
    "                mb_rev = np.ceil((mb - tariffs.loc[1,'mb_per_month_included']) / 1024) * tariffs.loc[1,'rub_per_gb'] \n",
    "            else:\n",
    "                mb_rev = 0   \n",
    "            if messages > tariffs.loc[1,'messages_included']:\n",
    "                mess_rev = (messages - tariffs.loc[1,'messages_included'])*tariffs.loc[1,'rub_per_message']\n",
    "            else:\n",
    "                mess_rev = 0                         \n",
    "            revenue = min_rev+mb_rev+mess_rev+tariffs.loc[1,'rub_monthly_fee']\n",
    "        return round(revenue,2) #округляем до 2х знаков после точки"
   ]
  },
  {
   "cell_type": "code",
   "execution_count": 47,
   "metadata": {},
   "outputs": [
    {
     "data": {
      "text/html": [
       "<div>\n",
       "<style scoped>\n",
       "    .dataframe tbody tr th:only-of-type {\n",
       "        vertical-align: middle;\n",
       "    }\n",
       "\n",
       "    .dataframe tbody tr th {\n",
       "        vertical-align: top;\n",
       "    }\n",
       "\n",
       "    .dataframe thead th {\n",
       "        text-align: right;\n",
       "    }\n",
       "</style>\n",
       "<table border=\"1\" class=\"dataframe\">\n",
       "  <thead>\n",
       "    <tr style=\"text-align: right;\">\n",
       "      <th></th>\n",
       "      <th>user_id</th>\n",
       "      <th>month</th>\n",
       "      <th>calls_count</th>\n",
       "      <th>calls_duration_total</th>\n",
       "      <th>mb_used_total</th>\n",
       "      <th>messages_count</th>\n",
       "      <th>reg_date</th>\n",
       "      <th>churn_date</th>\n",
       "      <th>city</th>\n",
       "      <th>tariff</th>\n",
       "      <th>revenue</th>\n",
       "    </tr>\n",
       "  </thead>\n",
       "  <tbody>\n",
       "    <tr>\n",
       "      <th>0</th>\n",
       "      <td>1000</td>\n",
       "      <td>5</td>\n",
       "      <td>17</td>\n",
       "      <td>159</td>\n",
       "      <td>2256</td>\n",
       "      <td>22</td>\n",
       "      <td>2018-05-25</td>\n",
       "      <td>NaT</td>\n",
       "      <td>Краснодар</td>\n",
       "      <td>ultra</td>\n",
       "      <td>1950</td>\n",
       "    </tr>\n",
       "    <tr>\n",
       "      <th>1</th>\n",
       "      <td>1000</td>\n",
       "      <td>6</td>\n",
       "      <td>28</td>\n",
       "      <td>172</td>\n",
       "      <td>23257</td>\n",
       "      <td>60</td>\n",
       "      <td>2018-05-25</td>\n",
       "      <td>NaT</td>\n",
       "      <td>Краснодар</td>\n",
       "      <td>ultra</td>\n",
       "      <td>1950</td>\n",
       "    </tr>\n",
       "    <tr>\n",
       "      <th>2</th>\n",
       "      <td>1000</td>\n",
       "      <td>7</td>\n",
       "      <td>41</td>\n",
       "      <td>340</td>\n",
       "      <td>14016</td>\n",
       "      <td>75</td>\n",
       "      <td>2018-05-25</td>\n",
       "      <td>NaT</td>\n",
       "      <td>Краснодар</td>\n",
       "      <td>ultra</td>\n",
       "      <td>1950</td>\n",
       "    </tr>\n",
       "    <tr>\n",
       "      <th>3</th>\n",
       "      <td>1000</td>\n",
       "      <td>8</td>\n",
       "      <td>42</td>\n",
       "      <td>408</td>\n",
       "      <td>14070</td>\n",
       "      <td>81</td>\n",
       "      <td>2018-05-25</td>\n",
       "      <td>NaT</td>\n",
       "      <td>Краснодар</td>\n",
       "      <td>ultra</td>\n",
       "      <td>1950</td>\n",
       "    </tr>\n",
       "    <tr>\n",
       "      <th>4</th>\n",
       "      <td>1000</td>\n",
       "      <td>9</td>\n",
       "      <td>46</td>\n",
       "      <td>466</td>\n",
       "      <td>14581</td>\n",
       "      <td>57</td>\n",
       "      <td>2018-05-25</td>\n",
       "      <td>NaT</td>\n",
       "      <td>Краснодар</td>\n",
       "      <td>ultra</td>\n",
       "      <td>1950</td>\n",
       "    </tr>\n",
       "    <tr>\n",
       "      <th>...</th>\n",
       "      <td>...</td>\n",
       "      <td>...</td>\n",
       "      <td>...</td>\n",
       "      <td>...</td>\n",
       "      <td>...</td>\n",
       "      <td>...</td>\n",
       "      <td>...</td>\n",
       "      <td>...</td>\n",
       "      <td>...</td>\n",
       "      <td>...</td>\n",
       "      <td>...</td>\n",
       "    </tr>\n",
       "    <tr>\n",
       "      <th>3209</th>\n",
       "      <td>1489</td>\n",
       "      <td>8</td>\n",
       "      <td>0</td>\n",
       "      <td>0</td>\n",
       "      <td>11066</td>\n",
       "      <td>17</td>\n",
       "      <td>2018-08-15</td>\n",
       "      <td>NaT</td>\n",
       "      <td>Санкт-Петербург</td>\n",
       "      <td>smart</td>\n",
       "      <td>550</td>\n",
       "    </tr>\n",
       "    <tr>\n",
       "      <th>3210</th>\n",
       "      <td>1489</td>\n",
       "      <td>9</td>\n",
       "      <td>0</td>\n",
       "      <td>0</td>\n",
       "      <td>17232</td>\n",
       "      <td>32</td>\n",
       "      <td>2018-08-15</td>\n",
       "      <td>NaT</td>\n",
       "      <td>Санкт-Петербург</td>\n",
       "      <td>smart</td>\n",
       "      <td>950</td>\n",
       "    </tr>\n",
       "    <tr>\n",
       "      <th>3211</th>\n",
       "      <td>1489</td>\n",
       "      <td>10</td>\n",
       "      <td>0</td>\n",
       "      <td>0</td>\n",
       "      <td>19588</td>\n",
       "      <td>21</td>\n",
       "      <td>2018-08-15</td>\n",
       "      <td>NaT</td>\n",
       "      <td>Санкт-Петербург</td>\n",
       "      <td>smart</td>\n",
       "      <td>1550</td>\n",
       "    </tr>\n",
       "    <tr>\n",
       "      <th>3212</th>\n",
       "      <td>1489</td>\n",
       "      <td>11</td>\n",
       "      <td>0</td>\n",
       "      <td>0</td>\n",
       "      <td>17516</td>\n",
       "      <td>20</td>\n",
       "      <td>2018-08-15</td>\n",
       "      <td>NaT</td>\n",
       "      <td>Санкт-Петербург</td>\n",
       "      <td>smart</td>\n",
       "      <td>1150</td>\n",
       "    </tr>\n",
       "    <tr>\n",
       "      <th>3213</th>\n",
       "      <td>1489</td>\n",
       "      <td>12</td>\n",
       "      <td>0</td>\n",
       "      <td>0</td>\n",
       "      <td>17341</td>\n",
       "      <td>35</td>\n",
       "      <td>2018-08-15</td>\n",
       "      <td>NaT</td>\n",
       "      <td>Санкт-Петербург</td>\n",
       "      <td>smart</td>\n",
       "      <td>950</td>\n",
       "    </tr>\n",
       "  </tbody>\n",
       "</table>\n",
       "<p>3214 rows × 11 columns</p>\n",
       "</div>"
      ],
      "text/plain": [
       "      user_id  month  calls_count  calls_duration_total  mb_used_total  \\\n",
       "0     1000     5      17           159                   2256            \n",
       "1     1000     6      28           172                   23257           \n",
       "2     1000     7      41           340                   14016           \n",
       "3     1000     8      42           408                   14070           \n",
       "4     1000     9      46           466                   14581           \n",
       "...    ...    ..      ..           ...                     ...           \n",
       "3209  1489     8      0            0                     11066           \n",
       "3210  1489     9      0            0                     17232           \n",
       "3211  1489     10     0            0                     19588           \n",
       "3212  1489     11     0            0                     17516           \n",
       "3213  1489     12     0            0                     17341           \n",
       "\n",
       "      messages_count   reg_date churn_date             city tariff  revenue  \n",
       "0     22             2018-05-25 NaT         Краснодар        ultra  1950     \n",
       "1     60             2018-05-25 NaT         Краснодар        ultra  1950     \n",
       "2     75             2018-05-25 NaT         Краснодар        ultra  1950     \n",
       "3     81             2018-05-25 NaT         Краснодар        ultra  1950     \n",
       "4     57             2018-05-25 NaT         Краснодар        ultra  1950     \n",
       "...   ..                    ...  ..               ...          ...   ...     \n",
       "3209  17             2018-08-15 NaT         Санкт-Петербург  smart  550      \n",
       "3210  32             2018-08-15 NaT         Санкт-Петербург  smart  950      \n",
       "3211  21             2018-08-15 NaT         Санкт-Петербург  smart  1550     \n",
       "3212  20             2018-08-15 NaT         Санкт-Петербург  smart  1150     \n",
       "3213  35             2018-08-15 NaT         Санкт-Петербург  smart  950      \n",
       "\n",
       "[3214 rows x 11 columns]"
      ]
     },
     "execution_count": 47,
     "metadata": {},
     "output_type": "execute_result"
    }
   ],
   "source": [
    "data['revenue'] = data.apply(revenue, axis = 1).astype('int')\n",
    "data"
   ]
  },
  {
   "cell_type": "markdown",
   "metadata": {},
   "source": [
    "Оценим распределение выручки в столбце `revenue`."
   ]
  },
  {
   "cell_type": "code",
   "execution_count": 48,
   "metadata": {},
   "outputs": [
    {
     "data": {
      "text/plain": [
       "<AxesSubplot:title={'center':'Распределение значений выручки по абонентам в месяц'}, xlabel='рублей', ylabel='число случаев'>"
      ]
     },
     "execution_count": 48,
     "metadata": {},
     "output_type": "execute_result"
    },
    {
     "data": {
      "image/png": "[encoded data removed]",
      "text/plain": [
       "<Figure size 432x288 with 1 Axes>"
      ]
     },
     "metadata": {
      "needs_background": "light"
     },
     "output_type": "display_data"
    }
   ],
   "source": [
    "plt.title('Распределение значений выручки по абонентам в месяц')\n",
    "plt.xlabel('рублей')\n",
    "plt.ylabel('число случаев')\n",
    "data['revenue'].hist(bins=30)"
   ]
  },
  {
   "cell_type": "markdown",
   "metadata": {},
   "source": [
    "Два пика на гистограмме - абонплата по тарифам: 550 и 1950 руб.\n",
    "Посмотрим, нет ли среди \"заплативших много\" явных выбросов. Сделаем выборку данных, когда месячная выручка превысила 4000 руб."
   ]
  },
  {
   "cell_type": "code",
   "execution_count": 49,
   "metadata": {},
   "outputs": [
    {
     "data": {
      "text/html": [
       "<div>\n",
       "<style scoped>\n",
       "    .dataframe tbody tr th:only-of-type {\n",
       "        vertical-align: middle;\n",
       "    }\n",
       "\n",
       "    .dataframe tbody tr th {\n",
       "        vertical-align: top;\n",
       "    }\n",
       "\n",
       "    .dataframe thead th {\n",
       "        text-align: right;\n",
       "    }\n",
       "</style>\n",
       "<table border=\"1\" class=\"dataframe\">\n",
       "  <thead>\n",
       "    <tr style=\"text-align: right;\">\n",
       "      <th></th>\n",
       "      <th>user_id</th>\n",
       "      <th>month</th>\n",
       "      <th>calls_count</th>\n",
       "      <th>calls_duration_total</th>\n",
       "      <th>mb_used_total</th>\n",
       "      <th>messages_count</th>\n",
       "      <th>reg_date</th>\n",
       "      <th>churn_date</th>\n",
       "      <th>city</th>\n",
       "      <th>tariff</th>\n",
       "      <th>revenue</th>\n",
       "    </tr>\n",
       "  </thead>\n",
       "  <tbody>\n",
       "    <tr>\n",
       "      <th>260</th>\n",
       "      <td>1042</td>\n",
       "      <td>12</td>\n",
       "      <td>94</td>\n",
       "      <td>728</td>\n",
       "      <td>37219</td>\n",
       "      <td>75</td>\n",
       "      <td>2018-11-25</td>\n",
       "      <td>NaT</td>\n",
       "      <td>Хабаровск</td>\n",
       "      <td>smart</td>\n",
       "      <td>5709</td>\n",
       "    </tr>\n",
       "    <tr>\n",
       "      <th>423</th>\n",
       "      <td>1066</td>\n",
       "      <td>8</td>\n",
       "      <td>61</td>\n",
       "      <td>587</td>\n",
       "      <td>31017</td>\n",
       "      <td>46</td>\n",
       "      <td>2018-06-24</td>\n",
       "      <td>NaT</td>\n",
       "      <td>Астрахань</td>\n",
       "      <td>smart</td>\n",
       "      <td>4011</td>\n",
       "    </tr>\n",
       "    <tr>\n",
       "      <th>615</th>\n",
       "      <td>1098</td>\n",
       "      <td>12</td>\n",
       "      <td>63</td>\n",
       "      <td>588</td>\n",
       "      <td>36568</td>\n",
       "      <td>14</td>\n",
       "      <td>2018-06-23</td>\n",
       "      <td>NaT</td>\n",
       "      <td>Челябинск</td>\n",
       "      <td>smart</td>\n",
       "      <td>5014</td>\n",
       "    </tr>\n",
       "    <tr>\n",
       "      <th>782</th>\n",
       "      <td>1124</td>\n",
       "      <td>10</td>\n",
       "      <td>130</td>\n",
       "      <td>1225</td>\n",
       "      <td>49789</td>\n",
       "      <td>121</td>\n",
       "      <td>2018-09-24</td>\n",
       "      <td>NaT</td>\n",
       "      <td>Махачкала</td>\n",
       "      <td>ultra</td>\n",
       "      <td>4800</td>\n",
       "    </tr>\n",
       "    <tr>\n",
       "      <th>856</th>\n",
       "      <td>1138</td>\n",
       "      <td>8</td>\n",
       "      <td>90</td>\n",
       "      <td>859</td>\n",
       "      <td>28870</td>\n",
       "      <td>3</td>\n",
       "      <td>2018-07-13</td>\n",
       "      <td>NaT</td>\n",
       "      <td>Екатеринбург</td>\n",
       "      <td>smart</td>\n",
       "      <td>4427</td>\n",
       "    </tr>\n",
       "    <tr>\n",
       "      <th>1000</th>\n",
       "      <td>1159</td>\n",
       "      <td>12</td>\n",
       "      <td>85</td>\n",
       "      <td>734</td>\n",
       "      <td>35178</td>\n",
       "      <td>2</td>\n",
       "      <td>2018-11-28</td>\n",
       "      <td>NaT</td>\n",
       "      <td>Красноярск</td>\n",
       "      <td>smart</td>\n",
       "      <td>5252</td>\n",
       "    </tr>\n",
       "    <tr>\n",
       "      <th>1069</th>\n",
       "      <td>1172</td>\n",
       "      <td>6</td>\n",
       "      <td>59</td>\n",
       "      <td>541</td>\n",
       "      <td>33927</td>\n",
       "      <td>2</td>\n",
       "      <td>2018-05-05</td>\n",
       "      <td>NaT</td>\n",
       "      <td>Санкт-Петербург</td>\n",
       "      <td>smart</td>\n",
       "      <td>4473</td>\n",
       "    </tr>\n",
       "    <tr>\n",
       "      <th>1073</th>\n",
       "      <td>1172</td>\n",
       "      <td>10</td>\n",
       "      <td>45</td>\n",
       "      <td>356</td>\n",
       "      <td>32781</td>\n",
       "      <td>4</td>\n",
       "      <td>2018-05-05</td>\n",
       "      <td>NaT</td>\n",
       "      <td>Санкт-Петербург</td>\n",
       "      <td>smart</td>\n",
       "      <td>4150</td>\n",
       "    </tr>\n",
       "    <tr>\n",
       "      <th>1359</th>\n",
       "      <td>1216</td>\n",
       "      <td>12</td>\n",
       "      <td>162</td>\n",
       "      <td>1435</td>\n",
       "      <td>20095</td>\n",
       "      <td>64</td>\n",
       "      <td>2018-11-23</td>\n",
       "      <td>NaT</td>\n",
       "      <td>Волгоград</td>\n",
       "      <td>smart</td>\n",
       "      <td>4397</td>\n",
       "    </tr>\n",
       "    <tr>\n",
       "      <th>1452</th>\n",
       "      <td>1229</td>\n",
       "      <td>12</td>\n",
       "      <td>106</td>\n",
       "      <td>1022</td>\n",
       "      <td>25033</td>\n",
       "      <td>6</td>\n",
       "      <td>2018-10-29</td>\n",
       "      <td>NaT</td>\n",
       "      <td>Москва</td>\n",
       "      <td>smart</td>\n",
       "      <td>4116</td>\n",
       "    </tr>\n",
       "    <tr>\n",
       "      <th>1498</th>\n",
       "      <td>1240</td>\n",
       "      <td>8</td>\n",
       "      <td>49</td>\n",
       "      <td>457</td>\n",
       "      <td>48395</td>\n",
       "      <td>0</td>\n",
       "      <td>2018-02-27</td>\n",
       "      <td>NaT</td>\n",
       "      <td>Воронеж</td>\n",
       "      <td>ultra</td>\n",
       "      <td>4650</td>\n",
       "    </tr>\n",
       "    <tr>\n",
       "      <th>1596</th>\n",
       "      <td>1255</td>\n",
       "      <td>7</td>\n",
       "      <td>29</td>\n",
       "      <td>263</td>\n",
       "      <td>45222</td>\n",
       "      <td>0</td>\n",
       "      <td>2018-02-19</td>\n",
       "      <td>2018-09-02</td>\n",
       "      <td>Саранск</td>\n",
       "      <td>ultra</td>\n",
       "      <td>4200</td>\n",
       "    </tr>\n",
       "    <tr>\n",
       "      <th>1617</th>\n",
       "      <td>1261</td>\n",
       "      <td>11</td>\n",
       "      <td>82</td>\n",
       "      <td>738</td>\n",
       "      <td>32542</td>\n",
       "      <td>25</td>\n",
       "      <td>2018-10-30</td>\n",
       "      <td>NaT</td>\n",
       "      <td>Казань</td>\n",
       "      <td>smart</td>\n",
       "      <td>4664</td>\n",
       "    </tr>\n",
       "    <tr>\n",
       "      <th>1618</th>\n",
       "      <td>1261</td>\n",
       "      <td>12</td>\n",
       "      <td>113</td>\n",
       "      <td>1074</td>\n",
       "      <td>32697</td>\n",
       "      <td>22</td>\n",
       "      <td>2018-10-30</td>\n",
       "      <td>NaT</td>\n",
       "      <td>Казань</td>\n",
       "      <td>smart</td>\n",
       "      <td>5672</td>\n",
       "    </tr>\n",
       "    <tr>\n",
       "      <th>1789</th>\n",
       "      <td>1286</td>\n",
       "      <td>12</td>\n",
       "      <td>83</td>\n",
       "      <td>739</td>\n",
       "      <td>35151</td>\n",
       "      <td>68</td>\n",
       "      <td>2018-11-27</td>\n",
       "      <td>NaT</td>\n",
       "      <td>Москва</td>\n",
       "      <td>smart</td>\n",
       "      <td>5321</td>\n",
       "    </tr>\n",
       "    <tr>\n",
       "      <th>1880</th>\n",
       "      <td>1300</td>\n",
       "      <td>11</td>\n",
       "      <td>74</td>\n",
       "      <td>658</td>\n",
       "      <td>44341</td>\n",
       "      <td>170</td>\n",
       "      <td>2018-07-26</td>\n",
       "      <td>NaT</td>\n",
       "      <td>Москва</td>\n",
       "      <td>ultra</td>\n",
       "      <td>4050</td>\n",
       "    </tr>\n",
       "    <tr>\n",
       "      <th>1910</th>\n",
       "      <td>1306</td>\n",
       "      <td>12</td>\n",
       "      <td>55</td>\n",
       "      <td>484</td>\n",
       "      <td>34962</td>\n",
       "      <td>0</td>\n",
       "      <td>2018-11-30</td>\n",
       "      <td>NaT</td>\n",
       "      <td>Чита</td>\n",
       "      <td>smart</td>\n",
       "      <td>4550</td>\n",
       "    </tr>\n",
       "    <tr>\n",
       "      <th>2026</th>\n",
       "      <td>1324</td>\n",
       "      <td>10</td>\n",
       "      <td>93</td>\n",
       "      <td>838</td>\n",
       "      <td>26933</td>\n",
       "      <td>139</td>\n",
       "      <td>2018-05-28</td>\n",
       "      <td>NaT</td>\n",
       "      <td>Череповец</td>\n",
       "      <td>smart</td>\n",
       "      <td>4231</td>\n",
       "    </tr>\n",
       "    <tr>\n",
       "      <th>2276</th>\n",
       "      <td>1365</td>\n",
       "      <td>12</td>\n",
       "      <td>90</td>\n",
       "      <td>782</td>\n",
       "      <td>30172</td>\n",
       "      <td>43</td>\n",
       "      <td>2018-10-31</td>\n",
       "      <td>NaT</td>\n",
       "      <td>Ростов-на-Дону</td>\n",
       "      <td>smart</td>\n",
       "      <td>4396</td>\n",
       "    </tr>\n",
       "    <tr>\n",
       "      <th>2892</th>\n",
       "      <td>1456</td>\n",
       "      <td>11</td>\n",
       "      <td>95</td>\n",
       "      <td>889</td>\n",
       "      <td>28037</td>\n",
       "      <td>0</td>\n",
       "      <td>2018-08-25</td>\n",
       "      <td>NaT</td>\n",
       "      <td>Санкт-Петербург</td>\n",
       "      <td>smart</td>\n",
       "      <td>4317</td>\n",
       "    </tr>\n",
       "    <tr>\n",
       "      <th>2893</th>\n",
       "      <td>1456</td>\n",
       "      <td>12</td>\n",
       "      <td>93</td>\n",
       "      <td>930</td>\n",
       "      <td>26896</td>\n",
       "      <td>0</td>\n",
       "      <td>2018-08-25</td>\n",
       "      <td>NaT</td>\n",
       "      <td>Санкт-Петербург</td>\n",
       "      <td>smart</td>\n",
       "      <td>4240</td>\n",
       "    </tr>\n",
       "    <tr>\n",
       "      <th>3099</th>\n",
       "      <td>1486</td>\n",
       "      <td>11</td>\n",
       "      <td>84</td>\n",
       "      <td>764</td>\n",
       "      <td>36319</td>\n",
       "      <td>96</td>\n",
       "      <td>2018-10-31</td>\n",
       "      <td>NaT</td>\n",
       "      <td>Нижний Новгород</td>\n",
       "      <td>smart</td>\n",
       "      <td>5680</td>\n",
       "    </tr>\n",
       "    <tr>\n",
       "      <th>3100</th>\n",
       "      <td>1486</td>\n",
       "      <td>12</td>\n",
       "      <td>115</td>\n",
       "      <td>1007</td>\n",
       "      <td>38610</td>\n",
       "      <td>83</td>\n",
       "      <td>2018-10-31</td>\n",
       "      <td>NaT</td>\n",
       "      <td>Нижний Новгород</td>\n",
       "      <td>smart</td>\n",
       "      <td>6770</td>\n",
       "    </tr>\n",
       "  </tbody>\n",
       "</table>\n",
       "</div>"
      ],
      "text/plain": [
       "      user_id  month  calls_count  calls_duration_total  mb_used_total  \\\n",
       "260   1042     12     94           728                   37219           \n",
       "423   1066     8      61           587                   31017           \n",
       "615   1098     12     63           588                   36568           \n",
       "782   1124     10     130          1225                  49789           \n",
       "856   1138     8      90           859                   28870           \n",
       "1000  1159     12     85           734                   35178           \n",
       "1069  1172     6      59           541                   33927           \n",
       "1073  1172     10     45           356                   32781           \n",
       "1359  1216     12     162          1435                  20095           \n",
       "1452  1229     12     106          1022                  25033           \n",
       "1498  1240     8      49           457                   48395           \n",
       "1596  1255     7      29           263                   45222           \n",
       "1617  1261     11     82           738                   32542           \n",
       "1618  1261     12     113          1074                  32697           \n",
       "1789  1286     12     83           739                   35151           \n",
       "1880  1300     11     74           658                   44341           \n",
       "1910  1306     12     55           484                   34962           \n",
       "2026  1324     10     93           838                   26933           \n",
       "2276  1365     12     90           782                   30172           \n",
       "2892  1456     11     95           889                   28037           \n",
       "2893  1456     12     93           930                   26896           \n",
       "3099  1486     11     84           764                   36319           \n",
       "3100  1486     12     115          1007                  38610           \n",
       "\n",
       "      messages_count   reg_date churn_date             city tariff  revenue  \n",
       "260   75             2018-11-25 NaT         Хабаровск        smart  5709     \n",
       "423   46             2018-06-24 NaT         Астрахань        smart  4011     \n",
       "615   14             2018-06-23 NaT         Челябинск        smart  5014     \n",
       "782   121            2018-09-24 NaT         Махачкала        ultra  4800     \n",
       "856   3              2018-07-13 NaT         Екатеринбург     smart  4427     \n",
       "1000  2              2018-11-28 NaT         Красноярск       smart  5252     \n",
       "1069  2              2018-05-05 NaT         Санкт-Петербург  smart  4473     \n",
       "1073  4              2018-05-05 NaT         Санкт-Петербург  smart  4150     \n",
       "1359  64             2018-11-23 NaT         Волгоград        smart  4397     \n",
       "1452  6              2018-10-29 NaT         Москва           smart  4116     \n",
       "1498  0              2018-02-27 NaT         Воронеж          ultra  4650     \n",
       "1596  0              2018-02-19 2018-09-02  Саранск          ultra  4200     \n",
       "1617  25             2018-10-30 NaT         Казань           smart  4664     \n",
       "1618  22             2018-10-30 NaT         Казань           smart  5672     \n",
       "1789  68             2018-11-27 NaT         Москва           smart  5321     \n",
       "1880  170            2018-07-26 NaT         Москва           ultra  4050     \n",
       "1910  0              2018-11-30 NaT         Чита             smart  4550     \n",
       "2026  139            2018-05-28 NaT         Череповец        smart  4231     \n",
       "2276  43             2018-10-31 NaT         Ростов-на-Дону   smart  4396     \n",
       "2892  0              2018-08-25 NaT         Санкт-Петербург  smart  4317     \n",
       "2893  0              2018-08-25 NaT         Санкт-Петербург  smart  4240     \n",
       "3099  96             2018-10-31 NaT         Нижний Новгород  smart  5680     \n",
       "3100  83             2018-10-31 NaT         Нижний Новгород  smart  6770     "
      ]
     },
     "execution_count": 49,
     "metadata": {},
     "output_type": "execute_result"
    }
   ],
   "source": [
    "data.query('revenue>4000')"
   ]
  },
  {
   "cell_type": "markdown",
   "metadata": {},
   "source": [
    "Из таблицы видно,что в большинстве таких случаев использовался тариф Smart с меньшим пакетом трафика. Все они заплатили бы меньше, если бы использовали другой тариф. Те, кто использовал тариф Ultra, заплатили много из-за значительного превышения лимита интернет-трафика. В таблице пользователи встречаются не более 2х раз. Но это не значит, что превышение лимитов трафика встречается единожды за период наблюдения. У высоких значений нет явных признаков ошибок и выбросов."
   ]
  },
  {
   "cell_type": "markdown",
   "metadata": {},
   "source": [
    "### Вывод"
   ]
  },
  {
   "cell_type": "markdown",
   "metadata": {},
   "source": [
    "В ходе проведения расчетов мы подготовили данные для дальнейшего исследования:\n",
    "\n",
    "- Дополнили таблицы `calls`, `internet` и `messages` столбцами `month` с порядковым номером месяца.\n",
    "- Дополнили таблицу `calls` столбцом `duration_estimated` с округленной до целых минут в большую сторону длительностью звонка.\n",
    "- Дополнили таблицу `internet` столбцом `mb_used_estimated` с округленным до целых Мб в большую сторону трафиком.\n",
    "- Создали таблицы `calls_grouped`, `internet_grouped` и `messages_grouped`, сгруппированные по столбцам `user_id` и `month`. \n",
    "- Объединили таблицу `users` и сгруппированные таблицы по столбцам `user_id` и `month` в сводную таблицу `data`.\n",
    "- Дополнили таблицу `data` столбцом `revenue` с помесячной выручкой по каждому абоненту.\n",
    "- Проверили полученные данные по выручке на наличие ошибок и выбросов.\n",
    "- Установили, что в большинстве случаев, когда выручка превысила 4000 руб. в месяц, использовался тариф Smart с меньшим пакетом трафика. Такие пользователи заплатили бы меньше, если бы использовали другой тариф. Те, кто использовал тариф Ultra, заплатили много из-за значительного превышения лимита интернет-трафика."
   ]
  },
  {
   "cell_type": "markdown",
   "metadata": {},
   "source": [
    "## Анализ использования тарифов"
   ]
  },
  {
   "cell_type": "markdown",
   "metadata": {},
   "source": [
    "Разделим данные на две таблицы в разрезе тарифов. Выведем статистическое описание данных методом .describe()."
   ]
  },
  {
   "cell_type": "code",
   "execution_count": 50,
   "metadata": {},
   "outputs": [
    {
     "data": {
      "text/html": [
       "<div>\n",
       "<style scoped>\n",
       "    .dataframe tbody tr th:only-of-type {\n",
       "        vertical-align: middle;\n",
       "    }\n",
       "\n",
       "    .dataframe tbody tr th {\n",
       "        vertical-align: top;\n",
       "    }\n",
       "\n",
       "    .dataframe thead th {\n",
       "        text-align: right;\n",
       "    }\n",
       "</style>\n",
       "<table border=\"1\" class=\"dataframe\">\n",
       "  <thead>\n",
       "    <tr style=\"text-align: right;\">\n",
       "      <th></th>\n",
       "      <th>user_id</th>\n",
       "      <th>month</th>\n",
       "      <th>calls_count</th>\n",
       "      <th>calls_duration_total</th>\n",
       "      <th>mb_used_total</th>\n",
       "      <th>messages_count</th>\n",
       "      <th>revenue</th>\n",
       "    </tr>\n",
       "  </thead>\n",
       "  <tbody>\n",
       "    <tr>\n",
       "      <th>count</th>\n",
       "      <td>2229.000000</td>\n",
       "      <td>2229.000000</td>\n",
       "      <td>2229.000000</td>\n",
       "      <td>2229.000000</td>\n",
       "      <td>2229.000000</td>\n",
       "      <td>2229.000000</td>\n",
       "      <td>2229.000000</td>\n",
       "    </tr>\n",
       "    <tr>\n",
       "      <th>mean</th>\n",
       "      <td>1246.506505</td>\n",
       "      <td>8.346792</td>\n",
       "      <td>46.947510</td>\n",
       "      <td>417.934948</td>\n",
       "      <td>16229.188425</td>\n",
       "      <td>33.384029</td>\n",
       "      <td>1294.639300</td>\n",
       "    </tr>\n",
       "    <tr>\n",
       "      <th>std</th>\n",
       "      <td>146.119496</td>\n",
       "      <td>2.920316</td>\n",
       "      <td>21.039171</td>\n",
       "      <td>190.313730</td>\n",
       "      <td>5877.576978</td>\n",
       "      <td>28.227876</td>\n",
       "      <td>820.933202</td>\n",
       "    </tr>\n",
       "    <tr>\n",
       "      <th>min</th>\n",
       "      <td>1001.000000</td>\n",
       "      <td>1.000000</td>\n",
       "      <td>0.000000</td>\n",
       "      <td>0.000000</td>\n",
       "      <td>0.000000</td>\n",
       "      <td>0.000000</td>\n",
       "      <td>550.000000</td>\n",
       "    </tr>\n",
       "    <tr>\n",
       "      <th>25%</th>\n",
       "      <td>1121.000000</td>\n",
       "      <td>6.000000</td>\n",
       "      <td>32.000000</td>\n",
       "      <td>282.000000</td>\n",
       "      <td>12658.000000</td>\n",
       "      <td>10.000000</td>\n",
       "      <td>550.000000</td>\n",
       "    </tr>\n",
       "    <tr>\n",
       "      <th>50%</th>\n",
       "      <td>1239.000000</td>\n",
       "      <td>9.000000</td>\n",
       "      <td>47.000000</td>\n",
       "      <td>422.000000</td>\n",
       "      <td>16531.000000</td>\n",
       "      <td>28.000000</td>\n",
       "      <td>1038.000000</td>\n",
       "    </tr>\n",
       "    <tr>\n",
       "      <th>75%</th>\n",
       "      <td>1376.000000</td>\n",
       "      <td>11.000000</td>\n",
       "      <td>61.000000</td>\n",
       "      <td>545.000000</td>\n",
       "      <td>20068.000000</td>\n",
       "      <td>51.000000</td>\n",
       "      <td>1750.000000</td>\n",
       "    </tr>\n",
       "    <tr>\n",
       "      <th>max</th>\n",
       "      <td>1499.000000</td>\n",
       "      <td>12.000000</td>\n",
       "      <td>162.000000</td>\n",
       "      <td>1435.000000</td>\n",
       "      <td>38610.000000</td>\n",
       "      <td>143.000000</td>\n",
       "      <td>6770.000000</td>\n",
       "    </tr>\n",
       "  </tbody>\n",
       "</table>\n",
       "</div>"
      ],
      "text/plain": [
       "           user_id        month  calls_count  calls_duration_total  \\\n",
       "count  2229.000000  2229.000000  2229.000000  2229.000000            \n",
       "mean   1246.506505  8.346792     46.947510    417.934948             \n",
       "std    146.119496   2.920316     21.039171    190.313730             \n",
       "min    1001.000000  1.000000     0.000000     0.000000               \n",
       "25%    1121.000000  6.000000     32.000000    282.000000             \n",
       "50%    1239.000000  9.000000     47.000000    422.000000             \n",
       "75%    1376.000000  11.000000    61.000000    545.000000             \n",
       "max    1499.000000  12.000000    162.000000   1435.000000            \n",
       "\n",
       "       mb_used_total  messages_count      revenue  \n",
       "count  2229.000000    2229.000000     2229.000000  \n",
       "mean   16229.188425   33.384029       1294.639300  \n",
       "std    5877.576978    28.227876       820.933202   \n",
       "min    0.000000       0.000000        550.000000   \n",
       "25%    12658.000000   10.000000       550.000000   \n",
       "50%    16531.000000   28.000000       1038.000000  \n",
       "75%    20068.000000   51.000000       1750.000000  \n",
       "max    38610.000000   143.000000      6770.000000  "
      ]
     },
     "execution_count": 50,
     "metadata": {},
     "output_type": "execute_result"
    }
   ],
   "source": [
    "data_smart = data.query('tariff == \"smart\"')\n",
    "data_smart.describe()"
   ]
  },
  {
   "cell_type": "code",
   "execution_count": 51,
   "metadata": {},
   "outputs": [
    {
     "data": {
      "text/html": [
       "<div>\n",
       "<style scoped>\n",
       "    .dataframe tbody tr th:only-of-type {\n",
       "        vertical-align: middle;\n",
       "    }\n",
       "\n",
       "    .dataframe tbody tr th {\n",
       "        vertical-align: top;\n",
       "    }\n",
       "\n",
       "    .dataframe thead th {\n",
       "        text-align: right;\n",
       "    }\n",
       "</style>\n",
       "<table border=\"1\" class=\"dataframe\">\n",
       "  <thead>\n",
       "    <tr style=\"text-align: right;\">\n",
       "      <th></th>\n",
       "      <th>user_id</th>\n",
       "      <th>month</th>\n",
       "      <th>calls_count</th>\n",
       "      <th>calls_duration_total</th>\n",
       "      <th>mb_used_total</th>\n",
       "      <th>messages_count</th>\n",
       "      <th>revenue</th>\n",
       "    </tr>\n",
       "  </thead>\n",
       "  <tbody>\n",
       "    <tr>\n",
       "      <th>count</th>\n",
       "      <td>985.000000</td>\n",
       "      <td>985.000000</td>\n",
       "      <td>985.000000</td>\n",
       "      <td>985.000000</td>\n",
       "      <td>985.000000</td>\n",
       "      <td>985.000000</td>\n",
       "      <td>985.000000</td>\n",
       "    </tr>\n",
       "    <tr>\n",
       "      <th>mean</th>\n",
       "      <td>1263.094416</td>\n",
       "      <td>8.250761</td>\n",
       "      <td>59.236548</td>\n",
       "      <td>526.623350</td>\n",
       "      <td>19486.901523</td>\n",
       "      <td>49.363452</td>\n",
       "      <td>2071.065990</td>\n",
       "    </tr>\n",
       "    <tr>\n",
       "      <th>std</th>\n",
       "      <td>140.694908</td>\n",
       "      <td>2.871762</td>\n",
       "      <td>35.562722</td>\n",
       "      <td>317.606098</td>\n",
       "      <td>10096.317202</td>\n",
       "      <td>47.804457</td>\n",
       "      <td>378.802377</td>\n",
       "    </tr>\n",
       "    <tr>\n",
       "      <th>min</th>\n",
       "      <td>1000.000000</td>\n",
       "      <td>1.000000</td>\n",
       "      <td>0.000000</td>\n",
       "      <td>0.000000</td>\n",
       "      <td>0.000000</td>\n",
       "      <td>0.000000</td>\n",
       "      <td>1950.000000</td>\n",
       "    </tr>\n",
       "    <tr>\n",
       "      <th>25%</th>\n",
       "      <td>1143.000000</td>\n",
       "      <td>6.000000</td>\n",
       "      <td>33.000000</td>\n",
       "      <td>284.000000</td>\n",
       "      <td>11785.000000</td>\n",
       "      <td>6.000000</td>\n",
       "      <td>1950.000000</td>\n",
       "    </tr>\n",
       "    <tr>\n",
       "      <th>50%</th>\n",
       "      <td>1277.000000</td>\n",
       "      <td>9.000000</td>\n",
       "      <td>58.000000</td>\n",
       "      <td>518.000000</td>\n",
       "      <td>19324.000000</td>\n",
       "      <td>38.000000</td>\n",
       "      <td>1950.000000</td>\n",
       "    </tr>\n",
       "    <tr>\n",
       "      <th>75%</th>\n",
       "      <td>1381.000000</td>\n",
       "      <td>11.000000</td>\n",
       "      <td>84.000000</td>\n",
       "      <td>752.000000</td>\n",
       "      <td>26863.000000</td>\n",
       "      <td>79.000000</td>\n",
       "      <td>1950.000000</td>\n",
       "    </tr>\n",
       "    <tr>\n",
       "      <th>max</th>\n",
       "      <td>1495.000000</td>\n",
       "      <td>12.000000</td>\n",
       "      <td>190.000000</td>\n",
       "      <td>1673.000000</td>\n",
       "      <td>49789.000000</td>\n",
       "      <td>224.000000</td>\n",
       "      <td>4800.000000</td>\n",
       "    </tr>\n",
       "  </tbody>\n",
       "</table>\n",
       "</div>"
      ],
      "text/plain": [
       "           user_id       month  calls_count  calls_duration_total  \\\n",
       "count  985.000000   985.000000  985.000000   985.000000             \n",
       "mean   1263.094416  8.250761    59.236548    526.623350             \n",
       "std    140.694908   2.871762    35.562722    317.606098             \n",
       "min    1000.000000  1.000000    0.000000     0.000000               \n",
       "25%    1143.000000  6.000000    33.000000    284.000000             \n",
       "50%    1277.000000  9.000000    58.000000    518.000000             \n",
       "75%    1381.000000  11.000000   84.000000    752.000000             \n",
       "max    1495.000000  12.000000   190.000000   1673.000000            \n",
       "\n",
       "       mb_used_total  messages_count      revenue  \n",
       "count  985.000000     985.000000      985.000000   \n",
       "mean   19486.901523   49.363452       2071.065990  \n",
       "std    10096.317202   47.804457       378.802377   \n",
       "min    0.000000       0.000000        1950.000000  \n",
       "25%    11785.000000   6.000000        1950.000000  \n",
       "50%    19324.000000   38.000000       1950.000000  \n",
       "75%    26863.000000   79.000000       1950.000000  \n",
       "max    49789.000000   224.000000      4800.000000  "
      ]
     },
     "execution_count": 51,
     "metadata": {},
     "output_type": "execute_result"
    }
   ],
   "source": [
    "data_ultra = data.query('tariff == \"ultra\"')\n",
    "data_ultra.describe()"
   ]
  },
  {
   "cell_type": "markdown",
   "metadata": {},
   "source": [
    "Сгруппируем в таблицы исследуемые статистические метрики: среднее, вариацию и стандартное отклонение по видам трафика в разрезе тарифов."
   ]
  },
  {
   "cell_type": "code",
   "execution_count": 52,
   "metadata": {},
   "outputs": [],
   "source": [
    "#Группировка статистических метрик в таблицу по тарифу Smart\n",
    "a=['traffic_type','mean','variance','standard_deviation'] #список названий столбцов\n",
    "b=[['calls_duration',round(data_smart['calls_duration_total'].mean()),#продолжительность звонков: среднее, дисперсия, отклонение\n",
    "    round(np.var(data_smart['calls_duration_total'], ddof=1)),\n",
    "   round(np.std(data_smart['calls_duration_total'], ddof=1))],\n",
    "   ['mb_used',round(data_smart['mb_used_total'].mean()), #интернет-трафик: среднее, дисперсия, отклонение\n",
    "    round(np.var(data_smart['mb_used_total'], ddof=1)),\n",
    "    round(np.std(data_smart['mb_used_total'], ddof=1))],\n",
    "  ['messages',round(data_smart['messages_count'].mean()), #сообщения: среднее, дисперсия, отклонение\n",
    "   round(np.var(data_smart['messages_count'], ddof=1)),\n",
    "   round(np.std(data_smart['messages_count'], ddof=1))]\n",
    "  ]\n",
    "smart_stat=pd.DataFrame(columns=a, data=b) #объединяем данные в таблицу Data Frame"
   ]
  },
  {
   "cell_type": "code",
   "execution_count": 53,
   "metadata": {},
   "outputs": [],
   "source": [
    "#Группировка статистических метрик в таблицу по тарифу Ultra\n",
    "c=['traffic_type','mean','variance','standard_deviation'] #список названий столбцов\n",
    "d=[['calls_duration',round(data_ultra['calls_duration_total'].mean()), #продолжительность звонков: среднее, дисперсия, отклонение\n",
    "    round(np.var(data_ultra['calls_duration_total'], ddof=1)),\n",
    "   round(np.std(data_ultra['calls_duration_total'], ddof=1))],\n",
    "   ['mb_used',round(data_ultra['mb_used_total'].mean()), #интернет-трафик: среднее, дисперсия, отклонение\n",
    "    round(np.var(data_ultra['mb_used_total'], ddof=1)),\n",
    "    round(np.std(data_ultra['mb_used_total'], ddof=1))],\n",
    "  ['messages',round(data_ultra['messages_count'].mean()), #сообщения: среднее, дисперсия, отклонение\n",
    "   round(np.var(data_ultra['messages_count'], ddof=1)),\n",
    "   round(np.std(data_ultra['messages_count'], ddof=1))]\n",
    "  ]\n",
    "ultra_stat=pd.DataFrame(columns=c, data=d) #объединяем данные в таблицу Data Frame"
   ]
  },
  {
   "cell_type": "code",
   "execution_count": 54,
   "metadata": {},
   "outputs": [
    {
     "name": "stdout",
     "output_type": "stream",
     "text": [
      "Статистические метрики тарифа Smart за месяц\n"
     ]
    },
    {
     "data": {
      "text/html": [
       "<div>\n",
       "<style scoped>\n",
       "    .dataframe tbody tr th:only-of-type {\n",
       "        vertical-align: middle;\n",
       "    }\n",
       "\n",
       "    .dataframe tbody tr th {\n",
       "        vertical-align: top;\n",
       "    }\n",
       "\n",
       "    .dataframe thead th {\n",
       "        text-align: right;\n",
       "    }\n",
       "</style>\n",
       "<table border=\"1\" class=\"dataframe\">\n",
       "  <thead>\n",
       "    <tr style=\"text-align: right;\">\n",
       "      <th></th>\n",
       "      <th>traffic_type</th>\n",
       "      <th>mean</th>\n",
       "      <th>variance</th>\n",
       "      <th>standard_deviation</th>\n",
       "    </tr>\n",
       "  </thead>\n",
       "  <tbody>\n",
       "    <tr>\n",
       "      <th>0</th>\n",
       "      <td>calls_duration</td>\n",
       "      <td>418</td>\n",
       "      <td>36219</td>\n",
       "      <td>190</td>\n",
       "    </tr>\n",
       "    <tr>\n",
       "      <th>1</th>\n",
       "      <td>mb_used</td>\n",
       "      <td>16229</td>\n",
       "      <td>34545911</td>\n",
       "      <td>5878</td>\n",
       "    </tr>\n",
       "    <tr>\n",
       "      <th>2</th>\n",
       "      <td>messages</td>\n",
       "      <td>33</td>\n",
       "      <td>797</td>\n",
       "      <td>28</td>\n",
       "    </tr>\n",
       "  </tbody>\n",
       "</table>\n",
       "</div>"
      ],
      "text/plain": [
       "     traffic_type   mean  variance  standard_deviation\n",
       "0  calls_duration  418    36219     190               \n",
       "1  mb_used         16229  34545911  5878              \n",
       "2  messages        33     797       28                "
      ]
     },
     "metadata": {},
     "output_type": "display_data"
    },
    {
     "name": "stdout",
     "output_type": "stream",
     "text": [
      "---------------------------------------------\n",
      "Статистические метрики тарифа Ultra за месяц\n"
     ]
    },
    {
     "data": {
      "text/html": [
       "<div>\n",
       "<style scoped>\n",
       "    .dataframe tbody tr th:only-of-type {\n",
       "        vertical-align: middle;\n",
       "    }\n",
       "\n",
       "    .dataframe tbody tr th {\n",
       "        vertical-align: top;\n",
       "    }\n",
       "\n",
       "    .dataframe thead th {\n",
       "        text-align: right;\n",
       "    }\n",
       "</style>\n",
       "<table border=\"1\" class=\"dataframe\">\n",
       "  <thead>\n",
       "    <tr style=\"text-align: right;\">\n",
       "      <th></th>\n",
       "      <th>traffic_type</th>\n",
       "      <th>mean</th>\n",
       "      <th>variance</th>\n",
       "      <th>standard_deviation</th>\n",
       "    </tr>\n",
       "  </thead>\n",
       "  <tbody>\n",
       "    <tr>\n",
       "      <th>0</th>\n",
       "      <td>calls_duration</td>\n",
       "      <td>527</td>\n",
       "      <td>100874</td>\n",
       "      <td>318</td>\n",
       "    </tr>\n",
       "    <tr>\n",
       "      <th>1</th>\n",
       "      <td>mb_used</td>\n",
       "      <td>19487</td>\n",
       "      <td>101935621</td>\n",
       "      <td>10096</td>\n",
       "    </tr>\n",
       "    <tr>\n",
       "      <th>2</th>\n",
       "      <td>messages</td>\n",
       "      <td>49</td>\n",
       "      <td>2285</td>\n",
       "      <td>48</td>\n",
       "    </tr>\n",
       "  </tbody>\n",
       "</table>\n",
       "</div>"
      ],
      "text/plain": [
       "     traffic_type   mean   variance  standard_deviation\n",
       "0  calls_duration  527    100874     318               \n",
       "1  mb_used         19487  101935621  10096             \n",
       "2  messages        49     2285       48                "
      ]
     },
     "metadata": {},
     "output_type": "display_data"
    }
   ],
   "source": [
    "#вывод таблиц на экран\n",
    "print('Статистические метрики тарифа Smart за месяц')\n",
    "display(smart_stat)\n",
    "print('-'*45)\n",
    "print('Статистические метрики тарифа Ultra за месяц')\n",
    "display(ultra_stat)"
   ]
  },
  {
   "cell_type": "markdown",
   "metadata": {},
   "source": [
    "Видим, что абоненты тарифа Ультра в среднем потребляют больше и вариативнее.\n",
    "\n",
    "Для дальнейшего анализа объявим функции."
   ]
  },
  {
   "cell_type": "code",
   "execution_count": 55,
   "metadata": {},
   "outputs": [],
   "source": [
    "#Функция для вывода диаграммы и сводной таблицы сравнения среднемесячных метрик тарифов\n",
    "def monthly_stat(column,title,ylim2): #аргументы: столбец с метрикой, название диаграммы, верхний предел у-оси\n",
    "    pivot1 = data_smart.pivot_table(index='month',values=column, aggfunc='mean') #сводная таблица по тарифу smart \n",
    "    pivot2 = data_ultra.pivot_table(index='month',values=column, aggfunc='mean') #сводная таблица по тарифу ultra \n",
    "    pivot3 = pivot1.join(pivot2, rsuffix='_u') #объединение двух таблиц\n",
    "    pivot3.columns = ['smart','ultra'] #переименование столбцов\n",
    "    pivot3['smart']=round(pivot3['smart']).astype('int') #округление значений\n",
    "    pivot3['ultra']=round(pivot3['ultra']).astype('int') \n",
    "    print(pivot3) #общая сводной таблицы\n",
    "    return pivot3.plot.bar(title=title,figsize=(12,4),ylim=(0, ylim2)); #диаграмма по таблице"
   ]
  },
  {
   "cell_type": "code",
   "execution_count": 56,
   "metadata": {},
   "outputs": [],
   "source": [
    "#Функция для попарного вывода гистограммы распределения и графика оценки плотности KDE для сравнения среднемесячных метрик тарифов\n",
    "def compare_plot(column,title,xlablel,binwidth): #аргументы: столбец с метрикой,название диаграммы,подпись х-оси,ширина корзины\n",
    "    sns.set_style('white', #установка стиля seaborn-графика: белая тема, сетка\n",
    "              {'axes.grid': True})\n",
    "    sns.set(font_scale=1)  #установка масштаба шрифта seaborn-графика\n",
    "    plt.figure(figsize=(12,6)) #присваивание размеров графика, подписей осей и названия matplotlib-графика\n",
    "    plt.title(title)\n",
    "    plt.xlabel(xlablel)\n",
    "    plt.ylabel('число случаев')\n",
    "    ax = sns.histplot(data=data, #объединение графиков по двум тарифам через аргументы hue=\"tariff\" и ах=ах\n",
    "        x=column,              \n",
    "        binwidth=binwidth, #ширина корзины\n",
    "        kde=True,\n",
    "        hue=\"tariff\", \n",
    "    );\n",
    "    sns.histplot(data=data,\n",
    "        x=column,\n",
    "        stat='count',\n",
    "        binwidth=binwidth,\n",
    "        kde=True,\n",
    "        palette=\"bright\", #палитра\n",
    "        hue=\"tariff\", \n",
    "        ax=ax,\n",
    "        legend=True,\n",
    "        common_bins=True,\n",
    "        alpha=0.3,\n",
    "     );\n",
    "    plt.show()\n",
    "    return ax"
   ]
  },
  {
   "cell_type": "markdown",
   "metadata": {},
   "source": [
    "### Количество минут разговора"
   ]
  },
  {
   "cell_type": "markdown",
   "metadata": {},
   "source": [
    "Сравним среднемесячное количество минут и распределение среднемесячной продолжительности звонков по двум тарифам."
   ]
  },
  {
   "cell_type": "code",
   "execution_count": 57,
   "metadata": {
    "scrolled": false
   },
   "outputs": [
    {
     "data": {
      "image/png": "[encoded data removed]",
      "text/plain": [
       "<Figure size 864x432 with 1 Axes>"
      ]
     },
     "metadata": {},
     "output_type": "display_data"
    },
    {
     "data": {
      "text/plain": [
       "<AxesSubplot:title={'center':'Распределение среднемесячной продолжительности звонков для тарифов'}, xlabel='минуты', ylabel='число случаев'>"
      ]
     },
     "execution_count": 57,
     "metadata": {},
     "output_type": "execute_result"
    }
   ],
   "source": [
    "compare_plot('calls_duration_total','Распределение среднемесячной продолжительности звонков для тарифов','минуты',30)"
   ]
  },
  {
   "cell_type": "code",
   "execution_count": 58,
   "metadata": {},
   "outputs": [
    {
     "name": "stdout",
     "output_type": "stream",
     "text": [
      "       smart  ultra\n",
      "month              \n",
      "1      204    428  \n",
      "2      299    297  \n",
      "3      390    490  \n",
      "4      367    458  \n",
      "5      387    510  \n",
      "6      396    480  \n",
      "7      408    546  \n",
      "8      421    511  \n",
      "9      429    539  \n",
      "10     426    558  \n",
      "11     435    541  \n",
      "12     479    593  \n"
     ]
    },
    {
     "data": {
      "text/plain": [
       "<AxesSubplot:title={'center':'Среднемесячное количество минут разговора по тарифам'}, xlabel='month'>"
      ]
     },
     "execution_count": 58,
     "metadata": {},
     "output_type": "execute_result"
    },
    {
     "data": {
      "image/png": "[encoded data removed]",
      "text/plain": [
       "<Figure size 864x288 with 1 Axes>"
      ]
     },
     "metadata": {},
     "output_type": "display_data"
    }
   ],
   "source": [
    "monthly_stat('calls_duration_total','Среднемесячное количество минут разговора по тарифам',800)"
   ]
  },
  {
   "cell_type": "markdown",
   "metadata": {},
   "source": [
    "Распределения значений по обоим тарифам имеют признаки нормального. По правилу трех сигм прибавим к середнему значению 3 стандартных отклонения и расчитаем верхнюю границу значений, за которой лежат редкие значения и возможные выбросы. Таким образом, выборка будет характеризовать поведение подавляющего большинства абонентов (не менее 99%)."
   ]
  },
  {
   "cell_type": "code",
   "execution_count": 59,
   "metadata": {
    "scrolled": true
   },
   "outputs": [
    {
     "name": "stdout",
     "output_type": "stream",
     "text": [
      "smart 0    988\n",
      "dtype: int64\n",
      "\n",
      "ultra 0    1372\n",
      "dtype: int64\n"
     ]
    }
   ],
   "source": [
    "#верхняя граница значений по правилу трех сигм\n",
    "print('smart',smart_stat[\n",
    "    smart_stat['traffic_type']==\"calls_duration\"]['mean']+smart_stat[\n",
    "    smart_stat['traffic_type']==\"calls_duration\"]['standard_deviation']*3)\n",
    "print( )\n",
    "print('ultra',smart_stat[\n",
    "    ultra_stat['traffic_type']==\"calls_duration\"]['mean']+ultra_stat[\n",
    "    ultra_stat['traffic_type']==\"calls_duration\"]['standard_deviation']*3)"
   ]
  },
  {
   "cell_type": "markdown",
   "metadata": {},
   "source": [
    "Оценим целесообразность использования тарифов в отдельных месяцах для данной метрики."
   ]
  },
  {
   "cell_type": "code",
   "execution_count": 60,
   "metadata": {
    "scrolled": true
   },
   "outputs": [
    {
     "data": {
      "text/plain": [
       "0.3382682817406909"
      ]
     },
     "execution_count": 60,
     "metadata": {},
     "output_type": "execute_result"
    }
   ],
   "source": [
    "#Доля случаев превышения лимита тарифа Smart за месяц\n",
    "len(data_smart.query('calls_duration_total>500'))/len(data_smart)"
   ]
  },
  {
   "cell_type": "code",
   "execution_count": 61,
   "metadata": {},
   "outputs": [
    {
     "data": {
      "text/plain": [
       "0.47715736040609136"
      ]
     },
     "execution_count": 61,
     "metadata": {},
     "output_type": "execute_result"
    }
   ],
   "source": [
    "#Доля случаев для тарифа Ultra, когда длительность звонков не больше 500 мин за месяц\n",
    "len(data_ultra.query('calls_duration_total<=500'))/len(data_ultra)"
   ]
  },
  {
   "cell_type": "markdown",
   "metadata": {},
   "source": [
    "#### Вывод:\n",
    "\n",
    "* Распределения значений по обоим тарифам имеют признаки нормального, скошенны вправо. \n",
    "* И график распределения, и значения стандартного отклонения демонстрируют различный характер распределений. Для Smart характерна высокая частотность вблизи медианы, а для Ultra - более равномерное распределение значений по частотности. Т.о. вероятность встретить относительно низкие и высокие значения для Ultra выше.\n",
    "* В среднем по тарифу **Smart** расходуют около 418 минут. Типичный абонент разговаривает от 282 до 545 минут в месяц. Почти все пользователи (99%) разговаривают не более 988 минут в месяц. В 34% случаев лимит тарифа по минутам в месяц превышался.\n",
    "* В среднем по тарифу **Ultra** расходуют около 527 минут - на четверть больше, чем для Smart. Типичный абонент разговаривает от 284 до 752 минут в месяц. Почти все пользователи (99%) разговаривают не более 1372 минут в месяц. В 48% случаев абоненты разговаривают не более 500 минут в месяц.\n",
    "* Ожидаемо, что для высоких значений - более 750 минут - количество наблюдений выше для более объемного тарифа Ultra.\n",
    "* График демонстрирует сезонную зависимость количества минут разговора. Выражена тенденция к увеличению времени разговоров на протяжении года. \n",
    "* По тарифу **Smart**: в январе-феврале регистрируется низкая активность абонентов (на 30-50% ниже среднегодовой), затем всплеск активности в марте и августе, и максимальная активность в декабре (на 15% выше среднегодовой). \n",
    "* По тарифу **Ultra**: график демонстрирует качели - перепады активности в течение года с сохранением общей тенденци к нарастанию активности к концу года. Такое поведение может быть обусловлено в том числе и небольшим размером выборки по тарифу. При этом в январе абоненты говорят по телефону в среднем в 2 раза больше, чем абоненты на тарифе Smart, а в феврале их активность сравнивается. В декабре длительность разговоров на 13% выше среднегодовой.   \n",
    "* Абоненты на тарифе Ultra гораздо чаще не пользуются звонками вообще. Очевидно, они выбрали тариф ради другого типа связи - интернета."
   ]
  },
  {
   "cell_type": "markdown",
   "metadata": {},
   "source": [
    "### Объем интернет-трафика"
   ]
  },
  {
   "cell_type": "code",
   "execution_count": 62,
   "metadata": {
    "scrolled": false
   },
   "outputs": [
    {
     "data": {
      "image/png": "[encoded data removed]",
      "text/plain": [
       "<Figure size 864x432 with 1 Axes>"
      ]
     },
     "metadata": {},
     "output_type": "display_data"
    },
    {
     "data": {
      "text/plain": [
       "<AxesSubplot:title={'center':'Распределение среднемесячного интернет-трафика для тарифов'}, xlabel='Мб', ylabel='число случаев'>"
      ]
     },
     "execution_count": 62,
     "metadata": {},
     "output_type": "execute_result"
    }
   ],
   "source": [
    "compare_plot('mb_used_total','Распределение среднемесячного интернет-трафика для тарифов','Мб',1000)"
   ]
  },
  {
   "cell_type": "code",
   "execution_count": 63,
   "metadata": {},
   "outputs": [
    {
     "name": "stdout",
     "output_type": "stream",
     "text": [
      "       smart  ultra\n",
      "month              \n",
      "1      8524   13154\n",
      "2      11611  11787\n",
      "3      15124  17552\n",
      "4      13479  16844\n",
      "5      15825  19381\n",
      "6      15815  18942\n",
      "7      15764  20515\n",
      "8      16632  19594\n",
      "9      16325  19222\n",
      "10     16779  20064\n",
      "11     16918  19805\n",
      "12     18137  21814\n"
     ]
    },
    {
     "data": {
      "text/plain": [
       "<AxesSubplot:title={'center':'Среднемесячный объем потребляемого интернет-трафика по тарифам'}, xlabel='month'>"
      ]
     },
     "execution_count": 63,
     "metadata": {},
     "output_type": "execute_result"
    },
    {
     "data": {
      "image/png": "[encoded data removed]",
      "text/plain": [
       "<Figure size 864x288 with 1 Axes>"
      ]
     },
     "metadata": {},
     "output_type": "display_data"
    }
   ],
   "source": [
    "monthly_stat('mb_used_total','Среднемесячный объем потребляемого интернет-трафика по тарифам',25000)"
   ]
  },
  {
   "cell_type": "markdown",
   "metadata": {},
   "source": [
    "Распределения значений по обоим тарифам имеют признаки нормального. По правилу трех сигм прибавим к середнему значению 3 стандартных отклонения и расчитаем верхнюю границу значений, за которой лежат редкие значения и возможные выбросы. Таким образом, выборка будет характеризовать поведение подавляющего большинства абонентов (не менее 99%)."
   ]
  },
  {
   "cell_type": "code",
   "execution_count": 64,
   "metadata": {},
   "outputs": [
    {
     "name": "stdout",
     "output_type": "stream",
     "text": [
      "smart 1    33863\n",
      "dtype: int64\n",
      "\n",
      "ultra 1    46517\n",
      "dtype: int64\n"
     ]
    }
   ],
   "source": [
    "#верхняя граница значений по правилу трех сигм\n",
    "print('smart',smart_stat[\n",
    "    smart_stat['traffic_type']==\"mb_used\"]['mean']+smart_stat[\n",
    "    smart_stat['traffic_type']==\"mb_used\"]['standard_deviation']*3)\n",
    "print( )\n",
    "print('ultra',smart_stat[\n",
    "    ultra_stat['traffic_type']==\"mb_used\"]['mean']+ultra_stat[\n",
    "    ultra_stat['traffic_type']==\"mb_used\"]['standard_deviation']*3)"
   ]
  },
  {
   "cell_type": "markdown",
   "metadata": {},
   "source": [
    "Оценим целесообразность использования тарифов в отдельных месяцах для данной метрики."
   ]
  },
  {
   "cell_type": "code",
   "execution_count": 65,
   "metadata": {},
   "outputs": [
    {
     "data": {
      "text/plain": [
       "0.5872588604755495"
      ]
     },
     "execution_count": 65,
     "metadata": {},
     "output_type": "execute_result"
    }
   ],
   "source": [
    "#Доля случаев превышения лимита тарифа Smart за месяц\n",
    "len(data_smart.query('mb_used_total>15360'))/len(data_smart)"
   ]
  },
  {
   "cell_type": "code",
   "execution_count": 66,
   "metadata": {},
   "outputs": [
    {
     "data": {
      "text/plain": [
       "0.35431472081218274"
      ]
     },
     "execution_count": 66,
     "metadata": {},
     "output_type": "execute_result"
    }
   ],
   "source": [
    "#Доля случаев для тарифа Ultra, когда расход трафика не больше 15360 Мб за месяц\n",
    "len(data_ultra.query('mb_used_total<=15360'))/len(data_ultra)"
   ]
  },
  {
   "cell_type": "code",
   "execution_count": 67,
   "metadata": {},
   "outputs": [
    {
     "data": {
      "text/plain": [
       "0.13604060913705585"
      ]
     },
     "execution_count": 67,
     "metadata": {},
     "output_type": "execute_result"
    }
   ],
   "source": [
    "#Доля случаев превышения лимита тарифа Ultra за месяц\n",
    "len(data_ultra.query('mb_used_total>30720'))/len(data_ultra)"
   ]
  },
  {
   "cell_type": "markdown",
   "metadata": {},
   "source": [
    "#### Вывод:\n",
    "\n",
    "* Распределения значений по обоим тарифам имеют признаки нормального.\n",
    "* И график распределения, и значения стандартного отклонения демонстрируют различный характер распределений. Для Smart характерна высокая частотность вблизи медианы, а для Ultra - более равномерное распределение значений по частотности. Т.о. вероятность встретить относительно низкие и высокие значения для Ultra выше.\n",
    "* В среднем по тарифу **Smart** расходуют 16229 Мб. Типичный абонент расходует от 12658 до 20068 Мб в месяц. Почти все пользователи (99%) расходуют не более 33863 Мб в месяц. В 59% случаев лимит тарифа по интернет-трафику в месяц превышался.\n",
    "* В среднем по тарифу **Ultra** расходуют 19487 Мб- на 20% больше, чем для Smart. Типичный абонент расходует от 11785 до 26863 Мб в месяц. Почти все пользователи (99%) расходуют не более 46517 Мб в месяц. В 35% случаев абоненты расходуют не более 15360 Мб в месяц.\n",
    "* Ожидаемо, что для высоких значений - более 27000 Мб - количество наблюдений выше для более объемного тарифа Ultra.\n",
    "* График демонстрирует сезонную зависимость количества израсходованных Мб. Выражена тенденция к увеличению объемов интернет-трафика на протяжении года. Аналогичная динамика наблюдается при изучении длительности звонков.\n",
    "* По тарифу **Smart**: в январе-феврале регистрируется низкая активность абонентов (на 30-50% ниже среднегодовой), затем всплеск активности в марте и августе, и максимальная активность в декабре (на 12% выше среднегодовой). \n",
    "* По тарифу **Ultra**: график демонстрирует качели - перепады активности в течение года с сохранением общей тенденци к нарастанию активности к концу года. При этом в январе абоненты расходуют среднем в 1,5 раза больше Мб, чем абоненты на тарифе Smart, а в феврале их активность сравнивается. В декабре объем трафика на 12% выше среднегодового. \n",
    "* Почти в каждом седьмом случае лимит интернет-трафика по тарифу Ultra превышался. Прибавим к этому наблюдению тот факт, что похожая проблема характерна для трех из пяти случаев по тарифу Smart. Всё это может сигнализировать о необходимости пересмотра  пакетов тарифных планов. В противном случае, существует риск оттока клиентов к конкурентам."
   ]
  },
  {
   "cell_type": "markdown",
   "metadata": {},
   "source": [
    "### Количество сообщений"
   ]
  },
  {
   "cell_type": "code",
   "execution_count": 68,
   "metadata": {},
   "outputs": [
    {
     "data": {
      "image/png": "[encoded data removed]",
      "text/plain": [
       "<Figure size 864x432 with 1 Axes>"
      ]
     },
     "metadata": {},
     "output_type": "display_data"
    },
    {
     "data": {
      "text/plain": [
       "<AxesSubplot:title={'center':'Распределение среднемесячного количества сообщений для тарифов'}, xlabel='шт', ylabel='число случаев'>"
      ]
     },
     "execution_count": 68,
     "metadata": {},
     "output_type": "execute_result"
    }
   ],
   "source": [
    "compare_plot('messages_count','Распределение среднемесячного количества сообщений для тарифов','шт',5)"
   ]
  },
  {
   "cell_type": "code",
   "execution_count": 69,
   "metadata": {},
   "outputs": [
    {
     "name": "stdout",
     "output_type": "stream",
     "text": [
      "       smart  ultra\n",
      "month              \n",
      "1      18     34   \n",
      "2      24     22   \n",
      "3      32     32   \n",
      "4      31     32   \n",
      "5      34     38   \n",
      "6      33     42   \n",
      "7      34     50   \n",
      "8      34     48   \n",
      "9      34     52   \n",
      "10     34     58   \n",
      "11     34     56   \n",
      "12     36     61   \n"
     ]
    },
    {
     "data": {
      "text/plain": [
       "<AxesSubplot:title={'center':'Среднемесячное количество сообщений по тарифам'}, xlabel='month'>"
      ]
     },
     "execution_count": 69,
     "metadata": {},
     "output_type": "execute_result"
    },
    {
     "data": {
      "image/png": "[encoded data removed]",
      "text/plain": [
       "<Figure size 864x288 with 1 Axes>"
      ]
     },
     "metadata": {},
     "output_type": "display_data"
    }
   ],
   "source": [
    "monthly_stat('messages_count','Среднемесячное количество сообщений по тарифам',90)"
   ]
  },
  {
   "cell_type": "markdown",
   "metadata": {},
   "source": [
    "Распределения значений по обоим тарифам имеют признаки нормального. По правилу трех сигм прибавим к середнему значению 3 стандартных отклонения и расчитаем верхнюю границу значений, за которой лежат редкие значения и возможные выбросы. Таким образом, выборка будет характеризовать поведение подавляющего большинства абонентов (не менее 99%)."
   ]
  },
  {
   "cell_type": "code",
   "execution_count": 70,
   "metadata": {},
   "outputs": [
    {
     "name": "stdout",
     "output_type": "stream",
     "text": [
      "smart 2    117\n",
      "dtype: int64\n",
      "\n",
      "ultra 2    177\n",
      "dtype: int64\n"
     ]
    }
   ],
   "source": [
    "#верхняя граница значений по правилу трех сигм\n",
    "print('smart',smart_stat[\n",
    "    smart_stat['traffic_type']==\"messages\"]['mean']+smart_stat[\n",
    "    smart_stat['traffic_type']==\"messages\"]['standard_deviation']*3)\n",
    "print( )\n",
    "print('ultra',smart_stat[\n",
    "    ultra_stat['traffic_type']==\"messages\"]['mean']+ultra_stat[\n",
    "    ultra_stat['traffic_type']==\"messages\"]['standard_deviation']*3)"
   ]
  },
  {
   "cell_type": "markdown",
   "metadata": {},
   "source": [
    "Оценим целесообразность использования тарифов в отдельных месяцах для данной метрики."
   ]
  },
  {
   "cell_type": "code",
   "execution_count": 71,
   "metadata": {
    "scrolled": true
   },
   "outputs": [
    {
     "data": {
      "text/plain": [
       "0.253028263795424"
      ]
     },
     "execution_count": 71,
     "metadata": {},
     "output_type": "execute_result"
    }
   ],
   "source": [
    "#Доля случаев превышения лимита тарифа Smart за месяц\n",
    "len(data_smart.query('messages_count>50'))/len(data_smart)"
   ]
  },
  {
   "cell_type": "code",
   "execution_count": 72,
   "metadata": {
    "scrolled": true
   },
   "outputs": [
    {
     "data": {
      "text/plain": [
       "0.5949238578680203"
      ]
     },
     "execution_count": 72,
     "metadata": {},
     "output_type": "execute_result"
    }
   ],
   "source": [
    "#Доля случаев для тарифа Ultra, число сообщений не больше 50 за месяц\n",
    "len(data_ultra.query('messages_count<=50'))/len(data_ultra)"
   ]
  },
  {
   "cell_type": "code",
   "execution_count": 73,
   "metadata": {},
   "outputs": [
    {
     "data": {
      "text/plain": [
       "0.15463596764156815"
      ]
     },
     "execution_count": 73,
     "metadata": {},
     "output_type": "execute_result"
    }
   ],
   "source": [
    "#Доля случаев, когда абоненты не отправляли сообщения\n",
    "len(data.query('messages_count==0'))/len(data)"
   ]
  },
  {
   "cell_type": "markdown",
   "metadata": {},
   "source": [
    "#### Вывод:\n",
    "\n",
    "* Распределения значений по обоим тарифам имеют признаки нормального, скошенны вправо. \n",
    "* И график распределения, и значения стандартного отклонения демонстрируют различный характер распределений. Для Smart характерна высокая частотность вблизи медианы, а для Ultra - более равномерное распределение значений по частотности. Т.о. вероятность встретить относительно высокие значения для Ultra выше.\n",
    "* В среднем по тарифу **Smart** отправляют 28 сообщений. Типичный абонент отправляет от 10 до 51 сообщений в месяц. Почти все пользователи (99%) отправляют не более 117 сообщений в месяц. В четверти случаев лимит тарифа по сообщениям в месяц превышался.\n",
    "* В среднем по тарифу **Ultra** отправляют 49 сообщение - на 75% больше, чем для Smart. Типичный абонент отправляет от 6 до 79 сообщений в месяц. Почти все пользователи (99%) отправляют не более 177 сообщений в месяц. В 60% случаев абоненты  отправляют не более 50 сообщений в месяц.\n",
    "* Ожидаемо, что для высоких значений - более 115 сообщений - количество наблюдений выше для более объемного тарифа Ultra.\n",
    "* Тариф **Ultra** содержит лимит на 1000 сообщений в месяц, что с избытком более чем в 4 раза перекрывает максимальную потребность в сообщениях.\n",
    "* График демонстрирует сезонную зависимость количества сообщений. Выражена тенденция к увеличению числа отправленных сообщений на протяжении года. \n",
    "* По тарифу **Smart** эта тенденция слабо выражена. Лишь в январе-феврале регистрируется низкая активность абонентов - на 15-35% ниже среднегодовой. Затем на протяжении года наблюдается стабильная активность абонентов около среднего значения.\n",
    "* По тарифу **Ultra**: график демонстрирует качели - перепады активности в течение года с сохранением общей тенденци к нарастанию активности к концу года. Такое поведение может быть обусловлено в том числе и небольшим размером выборки по тарифу. При этом в январе абоненты отправляют в среднем в 2 раза больше сообщений, чем абоненты на тарифе Smart, а в феврале-апреле их активность сравнивается. В октябре-декабре наблюдается незначительный всплеск активности на 24% выше среднегодовой. \n",
    "* В 15% случаев пользователи не отправляли сообщения в течение месяца. Большие пики на графике на нулевом значении, а так же избыточность предложения по пакету сообщений в тарифе Ultra сигнализируют о том, что данный вид связи теряет свою актуальность и популярность у пользователей."
   ]
  },
  {
   "cell_type": "markdown",
   "metadata": {},
   "source": [
    "### Сравнение показателей выручки"
   ]
  },
  {
   "cell_type": "code",
   "execution_count": 74,
   "metadata": {
    "scrolled": true
   },
   "outputs": [
    {
     "data": {
      "image/png": "[encoded data removed]",
      "text/plain": [
       "<Figure size 864x432 with 1 Axes>"
      ]
     },
     "metadata": {},
     "output_type": "display_data"
    },
    {
     "data": {
      "text/plain": [
       "<AxesSubplot:title={'center':'Распределение среднемесячной выручки для тарифов'}, xlabel='рублей', ylabel='число случаев'>"
      ]
     },
     "execution_count": 74,
     "metadata": {},
     "output_type": "execute_result"
    }
   ],
   "source": [
    "compare_plot('revenue','Распределение среднемесячной выручки для тарифов','рублей',100)"
   ]
  },
  {
   "cell_type": "code",
   "execution_count": 75,
   "metadata": {},
   "outputs": [
    {
     "name": "stdout",
     "output_type": "stream",
     "text": [
      "       smart  ultra\n",
      "month              \n",
      "1      721    1950 \n",
      "2      828    1975 \n",
      "3      1165   2015 \n",
      "4      963    2002 \n",
      "5      1205   2062 \n",
      "6      1209   2041 \n",
      "7      1229   2121 \n",
      "8      1329   2083 \n",
      "9      1255   2024 \n",
      "10     1370   2067 \n",
      "11     1347   2093 \n",
      "12     1583   2139 \n"
     ]
    },
    {
     "data": {
      "text/plain": [
       "<AxesSubplot:title={'center':'Среднемесячная выручка по тарифам'}, xlabel='month'>"
      ]
     },
     "execution_count": 75,
     "metadata": {},
     "output_type": "execute_result"
    },
    {
     "data": {
      "image/png": "[encoded data removed]",
      "text/plain": [
       "<Figure size 864x288 with 1 Axes>"
      ]
     },
     "metadata": {},
     "output_type": "display_data"
    }
   ],
   "source": [
    "monthly_stat('revenue','Среднемесячная выручка по тарифам',2500)"
   ]
  },
  {
   "cell_type": "code",
   "execution_count": 76,
   "metadata": {
    "scrolled": true
   },
   "outputs": [
    {
     "data": {
      "image/png": "[encoded data removed]",
      "text/plain": [
       "<Figure size 432x288 with 1 Axes>"
      ]
     },
     "metadata": {},
     "output_type": "display_data"
    }
   ],
   "source": [
    "plt.title('Распределение значений выручки 2000-5000 руб. по абонентам на тарифе Ultra в месяц')\n",
    "plt.xlabel('рублей')\n",
    "plt.ylabel('число случаев')\n",
    "data_ultra['revenue'].hist(bins=20, range=(2000,5000));"
   ]
  },
  {
   "cell_type": "code",
   "execution_count": 77,
   "metadata": {},
   "outputs": [
    {
     "data": {
      "text/plain": [
       "0.746971736204576"
      ]
     },
     "execution_count": 77,
     "metadata": {},
     "output_type": "execute_result"
    }
   ],
   "source": [
    "#Доля случаев превышения абонентской платы по тарифу Smart за месяц\n",
    "len(data_smart.query('revenue>550'))/len(data_smart)"
   ]
  },
  {
   "cell_type": "code",
   "execution_count": 78,
   "metadata": {},
   "outputs": [
    {
     "data": {
      "text/plain": [
       "0.18932256617317184"
      ]
     },
     "execution_count": 78,
     "metadata": {},
     "output_type": "execute_result"
    }
   ],
   "source": [
    "#Доля случаев превышения платы по тарифу Ultra для абонентов тарифа Smart за месяц\n",
    "len(data_smart.query('revenue>1950'))/len(data_smart)"
   ]
  },
  {
   "cell_type": "code",
   "execution_count": 79,
   "metadata": {},
   "outputs": [
    {
     "data": {
      "text/plain": [
       "0.18932256617317184"
      ]
     },
     "execution_count": 79,
     "metadata": {},
     "output_type": "execute_result"
    }
   ],
   "source": [
    "#Доля случаев превышения абонентской платы по тарифу Ultra за месяц\n",
    "len(data_smart.query('revenue>1950'))/len(data_smart)"
   ]
  },
  {
   "cell_type": "code",
   "execution_count": 80,
   "metadata": {
    "scrolled": true
   },
   "outputs": [
    {
     "name": "stdout",
     "output_type": "stream",
     "text": [
      "Суммарная выручка по тарифу Smart за 2018 год: 2885751 руб.\n",
      "Годовая выручка по тарифу Smart в расчете на одного абонента: 8245 руб.\n",
      " \n",
      "Суммарная выручка по тарифу Ultra за 2018 год: 2040000 руб.\n",
      "Годовая выручка по тарифу Ultra в расчете на одного абонента: 13784 руб.\n"
     ]
    }
   ],
   "source": [
    "print('Суммарная выручка по тарифу Smart за 2018 год:', data_smart['revenue'].sum(), 'руб.')\n",
    "print('Годовая выручка по тарифу Smart в расчете на одного абонента:',round(data_smart['revenue'].sum()/len(data_smart['user_id'].unique())),'руб.')\n",
    "print(' ')\n",
    "print('Суммарная выручка по тарифу Ultra за 2018 год:', data_ultra['revenue'].sum(), 'руб.')\n",
    "print('Годовая выручка по тарифу Ultra в расчете на одного абонента:',round(data_ultra['revenue'].sum()/len(data_ultra['user_id'].unique())),'руб.')"
   ]
  },
  {
   "cell_type": "markdown",
   "metadata": {},
   "source": [
    "#### Вывод:\n",
    "\n",
    "* Распределение значений по тарифу **Smart** имеет признаки нормального с ярко выраженным пиком на значении 550 рублей - абонентская плата. \n",
    "* По тарифу **Ultra** недостаточное число значений более 1950 рублей в выборке не позволяет судить о нормальности распределения. Отметим ярко выраженный пик на значении 1950 рублей - абонентская плата. \n",
    "* И график распределения, и значения стандартного отклонения демонстрируют различный характер распределений. Для Smart характерен больший разброс значений более равномерное нисходящее распределение значений более по частотности.\n",
    "* Среднемесячная выручка с абонента по тарифу **Smart** составляет 1295 рублей. Типичный абонент тратит на связь от 550 до 1750 рублей в месяц. Т.о. потребность во всех видах трафика для большинства случаев (75%) не обеспечивается базовыми лимитами тарифа. Более того в 21% случаев абоненты могли бы платить за связь меньше, используя тариф Ultra. Отметим, что данное наблюдение справедливо для отдельно взятых месяцев, но не для года в целом.\n",
    "* Среднемесячная выручка с абонента по тарифу **Ultra** составляет 2071 рубль. Типичный абонент тратит на связь 1950 рублей в месяц. Т.о. потребность во всех видах трафика для большинства случаев (81%) перекрывается базовыми лимитами тарифа.\n",
    "* Интересно, что для высоких значений - более 1950 рублей - количество наблюдений выше для менее объемного тарифа Smart. Тариф не выгоден для больших объемов трафика, т.к. лимиты пакетов в нем меньше, а цена за единицу трафика выше.\n",
    "* График по тарифу **Smart** демонстрирует сезонную зависимость выручки. Выражена тенденция к увеличению выручки на протяжении года.\n",
    "* По тарифу **Ultra** выручка не зависит от сезона."
   ]
  },
  {
   "cell_type": "markdown",
   "metadata": {},
   "source": [
    "## Проверка гипотез"
   ]
  },
  {
   "cell_type": "markdown",
   "metadata": {},
   "source": [
    "Для проверки гипотез сформируем итоговую таблицу: Среднемесячная выручка по абонентам."
   ]
  },
  {
   "cell_type": "code",
   "execution_count": 81,
   "metadata": {},
   "outputs": [
    {
     "data": {
      "text/html": [
       "<div>\n",
       "<style scoped>\n",
       "    .dataframe tbody tr th:only-of-type {\n",
       "        vertical-align: middle;\n",
       "    }\n",
       "\n",
       "    .dataframe tbody tr th {\n",
       "        vertical-align: top;\n",
       "    }\n",
       "\n",
       "    .dataframe thead th {\n",
       "        text-align: right;\n",
       "    }\n",
       "</style>\n",
       "<table border=\"1\" class=\"dataframe\">\n",
       "  <thead>\n",
       "    <tr style=\"text-align: right;\">\n",
       "      <th></th>\n",
       "      <th>user_id</th>\n",
       "      <th>mean_revenue</th>\n",
       "      <th>tariff</th>\n",
       "      <th>city</th>\n",
       "    </tr>\n",
       "  </thead>\n",
       "  <tbody>\n",
       "    <tr>\n",
       "      <th>0</th>\n",
       "      <td>1000</td>\n",
       "      <td>1950.000000</td>\n",
       "      <td>ultra</td>\n",
       "      <td>Краснодар</td>\n",
       "    </tr>\n",
       "    <tr>\n",
       "      <th>1</th>\n",
       "      <td>1001</td>\n",
       "      <td>950.000000</td>\n",
       "      <td>smart</td>\n",
       "      <td>Москва</td>\n",
       "    </tr>\n",
       "    <tr>\n",
       "      <th>2</th>\n",
       "      <td>1002</td>\n",
       "      <td>1035.714286</td>\n",
       "      <td>smart</td>\n",
       "      <td>Стерлитамак</td>\n",
       "    </tr>\n",
       "    <tr>\n",
       "      <th>3</th>\n",
       "      <td>1003</td>\n",
       "      <td>1950.000000</td>\n",
       "      <td>ultra</td>\n",
       "      <td>Москва</td>\n",
       "    </tr>\n",
       "    <tr>\n",
       "      <th>4</th>\n",
       "      <td>1004</td>\n",
       "      <td>1950.000000</td>\n",
       "      <td>ultra</td>\n",
       "      <td>Новокузнецк</td>\n",
       "    </tr>\n",
       "    <tr>\n",
       "      <th>...</th>\n",
       "      <td>...</td>\n",
       "      <td>...</td>\n",
       "      <td>...</td>\n",
       "      <td>...</td>\n",
       "    </tr>\n",
       "    <tr>\n",
       "      <th>493</th>\n",
       "      <td>1495</td>\n",
       "      <td>2310.000000</td>\n",
       "      <td>ultra</td>\n",
       "      <td>Иркутск</td>\n",
       "    </tr>\n",
       "    <tr>\n",
       "      <th>494</th>\n",
       "      <td>1496</td>\n",
       "      <td>2379.250000</td>\n",
       "      <td>smart</td>\n",
       "      <td>Вологда</td>\n",
       "    </tr>\n",
       "    <tr>\n",
       "      <th>495</th>\n",
       "      <td>1497</td>\n",
       "      <td>928.333333</td>\n",
       "      <td>smart</td>\n",
       "      <td>Челябинск</td>\n",
       "    </tr>\n",
       "    <tr>\n",
       "      <th>496</th>\n",
       "      <td>1498</td>\n",
       "      <td>1659.000000</td>\n",
       "      <td>smart</td>\n",
       "      <td>Владикавказ</td>\n",
       "    </tr>\n",
       "    <tr>\n",
       "      <th>497</th>\n",
       "      <td>1499</td>\n",
       "      <td>952.750000</td>\n",
       "      <td>smart</td>\n",
       "      <td>Пермь</td>\n",
       "    </tr>\n",
       "  </tbody>\n",
       "</table>\n",
       "<p>498 rows × 4 columns</p>\n",
       "</div>"
      ],
      "text/plain": [
       "     user_id  mean_revenue tariff         city\n",
       "0    1000     1950.000000   ultra  Краснодар  \n",
       "1    1001     950.000000    smart  Москва     \n",
       "2    1002     1035.714286   smart  Стерлитамак\n",
       "3    1003     1950.000000   ultra  Москва     \n",
       "4    1004     1950.000000   ultra  Новокузнецк\n",
       "..    ...             ...     ...          ...\n",
       "493  1495     2310.000000   ultra  Иркутск    \n",
       "494  1496     2379.250000   smart  Вологда    \n",
       "495  1497     928.333333    smart  Челябинск  \n",
       "496  1498     1659.000000   smart  Владикавказ\n",
       "497  1499     952.750000    smart  Пермь      \n",
       "\n",
       "[498 rows x 4 columns]"
      ]
     },
     "execution_count": 81,
     "metadata": {},
     "output_type": "execute_result"
    }
   ],
   "source": [
    "rev_per_user = data.groupby('user_id').agg( #группируем по 'user_id'\n",
    "        mean_revenue=pd.NamedAgg(column=\"revenue\", aggfunc='mean'), #добавляем столбец со среднемесячной выручкой\n",
    "        tariff=pd.NamedAgg(column=\"tariff\", aggfunc='first'), #добавляем столбец с названиями тарифов\n",
    "        city=pd.NamedAgg(column=\"city\", aggfunc='first') #добавляем столбец с названиями городов\n",
    "    ).reset_index()  #сбросим индексы\n",
    "\n",
    "rev_per_user"
   ]
  },
  {
   "cell_type": "markdown",
   "metadata": {},
   "source": [
    "### Гипотеза 1"
   ]
  },
  {
   "cell_type": "markdown",
   "metadata": {},
   "source": [
    "* **Нулевая гипотеза** Н0: средние выручки пользователей тарифов «Ультра» и «Смарт» равны. \n",
    "* **Альтернативная гипотеза** Н1: средняя выручка пользователей тарифов «Ультра» и «Смарт» различается.\n",
    "\n",
    "Чтобы проверить гипотезу о равенстве среднего двух генеральных совокупностей по взятым из них выборкам, применим t-test Стьюдента для езависимых выборок. Применение теста на ненормально распределенных данных оправдано при достаточно большой выборке. Возьмем общепринятое пороговое значение `alpha` — 5%. Если мы признаём 5%-ю вероятность слишком малой и на этом основании отвергаем нулевую гипотезу, значит в среднем в одном исследовании из 20 значимый эффект будет обнаружен не потому, что она неверна, а за счёт случайной ошибки. В ходе исследования мы установили, что стандартные отклонения выручки в выборках по тарифам,  а следовательно и дисперсии не равны и значительно различаются, что дает нам основание полагать, что дисперсии не равны и в генеральных совокупностях. Значение `equal_var` установим как `False`."
   ]
  },
  {
   "cell_type": "code",
   "execution_count": 82,
   "metadata": {},
   "outputs": [
    {
     "name": "stdout",
     "output_type": "stream",
     "text": [
      "p-значение: 2.7240946993530846e-246\n",
      "Отвергаем нулевую гипотезу\n"
     ]
    }
   ],
   "source": [
    "alpha = 0.05  # критический уровень статистической значимости\n",
    "# если p-value окажется меньше него - отвергнем гипотезу\n",
    "\n",
    "results = st.ttest_ind(data.query('tariff==\"smart\"')['revenue'], \n",
    "                       data.query('tariff==\"ultra\"')['revenue'], \n",
    "                       equal_var = False \n",
    "                      )                   \n",
    "                                   \n",
    "print('p-значение:', results.pvalue)\n",
    "\n",
    "if results.pvalue < alpha:\n",
    "    print('Отвергаем нулевую гипотезу')\n",
    "else:\n",
    "    print('Не получилось отвергнуть нулевую гипотезу') "
   ]
  },
  {
   "cell_type": "markdown",
   "metadata": {},
   "source": [
    "### Гипотеза 2"
   ]
  },
  {
   "cell_type": "markdown",
   "metadata": {},
   "source": [
    "* **Нулевая гипотеза** Н0: средние выручки пользователей из Москвы и других регионов равны. \n",
    "* **Альтернативная гипотеза** Н1: средняя выручка пользователей из Москвы отличается от выручки пользователей из других регионов.\n",
    "\n",
    "Чтобы проверить, гипотезу применим метод scipy.stats.ttest_ind (array1, array2, equal_var). Возьмем общепринятое пороговое значение `alpha` — 5%. Мы не знаем наверняка, равны ли дисперсии в генеральных совокупностях. Значение `equal_var` установим как `True` по умолчанию (не указываем данный аргумент)."
   ]
  },
  {
   "cell_type": "code",
   "execution_count": 83,
   "metadata": {},
   "outputs": [
    {
     "name": "stdout",
     "output_type": "stream",
     "text": [
      "p-значение: 0.531666503831252\n",
      "Не получилось отвергнуть нулевую гипотезу\n"
     ]
    }
   ],
   "source": [
    "alpha = 0.05  # критический уровень статистической значимости\n",
    "# если p-value окажется меньше него - отвергнем гипотезу\n",
    "\n",
    "results = st.ttest_ind(data.query('city==\"Москва\"')['revenue'], \n",
    "                       data.query('city!=\"Москва\"')['revenue']                      \n",
    "                      )\n",
    "\n",
    "print('p-значение:', results.pvalue)\n",
    "\n",
    "if results.pvalue < alpha:\n",
    "    print('Отвергаем нулевую гипотезу')\n",
    "else:\n",
    "    print('Не получилось отвергнуть нулевую гипотезу') "
   ]
  },
  {
   "cell_type": "markdown",
   "metadata": {},
   "source": [
    "### Вывод"
   ]
  },
  {
   "cell_type": "markdown",
   "metadata": {},
   "source": [
    "* Для Гипотезы №1 полученное значение p-value говорит о том, что мы *отвергаем нулевую гипотезу*. Вероятность случайно получить различные значения выручки в выборках по тарифам близка к нулю. Следовательно можно предположить, что средняя выручка пользователей тарифов «Ультра» и «Смарт» различается.\n",
    "* Для **Гипотезы №2** полученное значение p-value говорит о том, что *не получилось отвергнуть нулевую гипотезу*, т.к. с вероятностью более 50% разницу между средней выручкой пользователей из Москвы и других регионов можно получить случайно. Это явно слишком большая вероятность, чтобы делать вывод о значимом различии между средними выручками."
   ]
  },
  {
   "cell_type": "markdown",
   "metadata": {},
   "source": [
    "## Заключение"
   ]
  },
  {
   "cell_type": "markdown",
   "metadata": {},
   "source": [
    "### Общие выводы"
   ]
  },
  {
   "cell_type": "markdown",
   "metadata": {},
   "source": [
    "#### Что сделано\n",
    "\n",
    "***Мы провели статистический анализ данных и сравнили использование тарифов: Smart и Ultra.***\n",
    "\n",
    "Обработана выборка данных о 500 пользователях «Мегалайна» по двум тарифам за 2018 год:\n",
    "\n",
    "1. Рассмотрены данные, определены пропуски в них, явные ошибки и несоответствия типу данных.\n",
    "2. Проведен первичный анализ и предобработка данных.\n",
    "3. Проверены данные на наличие дубликатов. В таблице `internet` удален столбец, дублирующий индексы.\n",
    "4. В столбцах с датами изменили тип данных на оптимальный datetime, а в столбцах с id пользователя - на более компактный int32.\n",
    "5. Данные о длительности звонков и объеме интернет-трафика очищены от нулевых значений, влияющих на характер распределения и статистические метрики этих видов трафика.\n",
    "6. Произведены расчеты и добавлены в таблицы данные о месяце использования тарифа.\n",
    "7. По правилу сотового оператора округлены до целых значений в большую сторону число минут и Мб интернет-трафика.\n",
    "8. Сгруппированы данные по пользователям и месяцам и объединены в сводную таблицу `data`.\n",
    "9. Для каждого абонента посчитано количество сделанных звонков и израсходованных минут разговора по месяцам,  количество отправленных сообщений по месяцам и объем израсходованного интернет-трафика по месяцам.\n",
    "10. Расчитана помесячная выручка по каждому абоненту. Полученные данные проверены на наличие ошибок и выбросов.\n",
    "11. Проанализировано поведение пользователей двух тарифов по объемам потребления различных видов трафика в месяц. Посчитаны среднее количество, дисперсию и стандартное отклонение. Для каждого вида трафика построены и описаны гистограммы распределения и диаграммы сравнения динамики по месяцам.\n",
    "12. Проанализирована динамика и распределение выручки по двум тарифам.\n",
    "13. Расчитана среднемесячная выручка по каждому абоненту.\n",
    "14. Сформулированы и проверены гипотезы о том, что средняя выручка пользователей тарифов «Ультра» и «Смарт» различается и что средняя выручка пользователей из Москвы отличается от выручки пользователей из других регионов"
   ]
  },
  {
   "cell_type": "markdown",
   "metadata": {},
   "source": [
    "#### Резюме"
   ]
  },
  {
   "cell_type": "markdown",
   "metadata": {},
   "source": [
    "***Основные выводы и наблюдения:***\n",
    "1. **Нулевые значения** в данных о длительности звонков и объеме интернет-трафика могли появиться в результате пропущенных вызовов, мгновенного подключения к интернету со стороны пользователя или тестовых запусков приложений с объемом трафика до 10 Кб. А так же в результате ошибок в учете или выгрузке данных. Влияние ошибок в данных на результаты исследования достаточно велико. После удаления нулей средние значения увеличились на 25% и 15% сответсвенно.\n",
    "2. Каждый из тарифов демонстрирует различный **характер распределений** по видам трафика. Распределения значений по обоим тарифам имеют признаки нормального. Для Smart характерна высокая частотность вблизи медианы, а для Ultra - более равномерное распределение значений по частотности. Т.о. вероятность встретить относительно низкие и высокие значения для Ultra выше. \n",
    "3. В целом для высоких значений по всем видам трафика количество наблюдений выше для более объемного тарифа Ultra, чем для Smart.\n",
    "4. **Средний пользователь тарифа Smart** в месяц расходует около 418 минут, 16229 Мб, отправляет 28 сообщений. *Лимит тарифа в месяц превышался*: по минутами в 34% случаев, по интернет-трафику в 59% случаев, лимит тарифа по сообщениям в 25% случаев.\n",
    "5. **Средний пользователь тарифа Ultra** в месяц расходует около 527 минут, 19487 Мб, отправляет 49 сообщение. В ряде случаев потребление трафика *не выходит за рамки лимита для меньшего по объему тарифа* Smart: по минутам в 48% случаев, по интернет-трафику в 35% случаев, лимит тарифа по сообщениям в 60% случаев. Почти в каждом седьмом случае лимит интернет-трафика по тарифу  превышался.\n",
    "6. Наблюдается **сезонная зависимость** по всем видам трафика. Выражена **тенденция к увеличению** активности абонентов на протяжении года. В январе-феврале регистрируется низкая активность абонентов (на 15-50% ниже среднегодовой), затем всплеск активности в марте и августе, и максимальная активность в декабре (на 12-15% выше среднегодовой). При этом в январе пользователи тарифа Ultra используют все виды связи в 1,5-2 раза больше, чем пользователи тарифа Smart, тогда как в феврале их активность сравнивается. \n",
    "7. Тариф **Ultra** содержит лимит на 1000 сообщений в месяц, что с избытком более чем в 4 раза перекрывает максимальную потребность в сообщениях.\n",
    "8. **Среднемесячная выручка** с абонента по тарифу **Smart** составляет 1295 рублей. Типичный абонент тратит на связь от 550 до 1750 рублей в месяц. Т.о. потребность во всех видах трафика для большинства случаев (75%) не обеспечивается базовыми лимитами тарифа. Более того в 21% случаев абоненты могли бы платить за связь меньше, используя тариф Ultra. Отметим, что данное наблюдение справедливо для отдельно взятых месяцев, но не для года в целом.\n",
    "9. **Среднемесячная выручка** с абонента по тарифу **Ultra** составляет 2071 рубль. Типичный абонент тратит на связь 1950 рублей в месяц. Т.о. потребность во всех видах трафика для большинства случаев (81%) перекрывается базовыми лимитами тарифа. Случаи превышения абонентской платы за тариф, как правило связаны с потреблением интернет-трафика сверх лимита.\n",
    "10. Для тарифа **Smart** характерна **сезонная зависимость выручки**. Выражена тенденция к увеличению выручки на протяжении года. По тарифу **Ultra выручка не зависит от сезона**.\n",
    "11. Для высоких значений выручки - более 1950 рублей - количество наблюдений выше для менее объемного тарифа **Smart**. Тариф *не выгоден для больших объемов трафика*, т.к. лимиты пакетов в нем меньше, а цена за единицу трафика выше.\n",
    "12. Нами проведены статистические тесты, по результатам которых установили:\n",
    "   * вероятнее всего средние выручки по тарифам «Ультра» и «Смарт» различаются;\n",
    "   * невозможно однозначно утверждать, что средние выручки пользователей из Москвы и других регионов равны.    "
   ]
  },
  {
   "cell_type": "markdown",
   "metadata": {},
   "source": [
    "### Рекомендации"
   ]
  },
  {
   "cell_type": "markdown",
   "metadata": {},
   "source": [
    "1. Следует обратить внимание на причины возникновения большого числа нулевых значений в данных о продолжительности звонка и объема интернет-трафика. По возможности принять меры к недопущению вознкновения таких ошибок.\n",
    "2. При формировании рекламной кампании для тарифов следует учесть, что средняя выручка по тарифу «Ультра» выше, чем по тарифу «Смарт». Однако более дешевый «Смарт» в 2,4 раза популярнее, чем «Ультра».\n",
    "3. Можно рассматривать тариф \"Ультра\" как более предпочтительный для оператора, т.к. выручку по нему легче спрогнозировать. Она не подвержена сезонным колебаниям. \n",
    "4. На небольшой выборке нельзя однозначно утверждать, что жители Москвы и других регионов тратят на связь одинаковые суммы. Для более детального изучения этого вопроса следует увеличить выборку пользователей.\n",
    "5. в 17% случаев абоненты, подключившие тариф \"Смарт\", могли бы платить за связь меньше, используя тариф \"Ультра\". Следует дополнительно изучить потребительское поведение таких абонентов в целом по году. Возможно в среднем по году для абонента будет выгодно не менять тариф. \n",
    "6. Для формулирования более персонализированного предложения о тарифе следует изучить поведение пользователей по возрастам.\n",
    "7. Более 7% пользователей сменили тариф в течение года. Можно проанализировать, какое потребительское поведение предшествовало выходу из тарифа. Такие данные могут быть полезны в том числе для определения рисков, связанных с возможным оттоком клиентов при проведении рекламной кампании.\n",
    "8. В выборе между двумя тарифами стоит отдать предпочтение \"Ультра\":\n",
    "   * средняя выручка выше, стабильнее,\n",
    "   * суммарная выручка по выборке при условии, что клиентов \"Ультра\" в 2 раза меньше не сильно отстает, т.е. абоненты  показывают себя довольно прибыльно. Выручка на 1 уникального клиента выше по \"Ультра\".\n",
    "9. Следует проанализировать необходимость пересмотра  пакетов тарифных планов с целью их акутализации в соответсвии с потребностями потребителей. Уменьшить избыточность предложения - она вряд ли прибавляет в глазах потребителей ценности продукту. А возможно даже раздражает подозрениями о том, что приходится переплачивать \"за воздух\". И увеличить лимиты, там где это необходимо. Как вариант, выделить сегмент потребителей, которым в меньшей степени подходят оба тарифа, разработать и предложить им новый альтернативный продукт. В противном случае, существует риск оттока клиентов к конкурентам."
   ]
  },
  {
   "cell_type": "code",
   "execution_count": null,
   "metadata": {},
   "outputs": [],
   "source": []
  }
 ],
 "metadata": {
  "kernelspec": {
   "display_name": "Python 3",
   "language": "python",
   "name": "python3"
  },
  "language_info": {
   "codemirror_mode": {
    "name": "ipython",
    "version": 3
   },
   "file_extension": ".py",
   "mimetype": "text/x-python",
   "name": "python",
   "nbconvert_exporter": "python",
   "pygments_lexer": "ipython3",
   "version": "3.8.8"
  },
  "toc": {
   "base_numbering": 1,
   "nav_menu": {},
   "number_sections": true,
   "sideBar": true,
   "skip_h1_title": true,
   "title_cell": "Table of Contents",
   "title_sidebar": "Contents",
   "toc_cell": false,
   "toc_position": {
    "height": "calc(100% - 180px)",
    "left": "10px",
    "top": "150px",
    "width": "225.969px"
   },
   "toc_section_display": true,
   "toc_window_display": true
  }
 },
 "nbformat": 4,
 "nbformat_minor": 4
}
